{
  "cells": [
    {
      "cell_type": "markdown",
      "metadata": {
        "id": "onn5Uxj-K349"
      },
      "source": [
        "### Task Explanation"
      ]
    },
    {
      "attachments": {},
      "cell_type": "markdown",
      "metadata": {
        "id": "iQ3Xoi9P-UzM"
      },
      "source": [
        " we will implement, train and evaluate a neural network using pyTorch on wheat disease classification problem. \n",
        "\n",
        "Wheat rust is a devastating plant disease that affects many crops, reducing yields and affecting the livelihoods of farmers and decreasing food security across the continent. The disease is difficult to monitor at a large scale, making it difficult to control and eradicate.\n",
        "\n",
        "The objective of this challenge is to build a machine learning algorithm to correctly classify if a plant is healthy, has stem rust, or has leaf rust."
      ]
    },
    {
      "cell_type": "code",
      "execution_count": 1,
      "metadata": {
        "id": "KFtFdAki92gb",
        "vscode": {
          "languageId": "python"
        }
      },
      "outputs": [],
      "source": [
        "\n",
        "# any other imports that you may require\n",
        "import matplotlib.pyplot as plt\n",
        "import numpy as np\n",
        "import cv2\n",
        "import torch\n",
        "import torch.nn as nn\n",
        "import torch.nn.functional as F\n",
        "import torch.optim as optim\n",
        "from torchsummary import summary\n",
        "import glob\n",
        "from sklearn.metrics import confusion_matrix\n",
        "import pandas as pd\n",
        "import seaborn as sns\n",
        "from torch.utils.data import DataLoader\n",
        "from sklearn.metrics import confusion_matrix, accuracy_score"
      ]
    },
    {
      "cell_type": "code",
      "execution_count": 2,
      "metadata": {
        "id": "r-j4q_hTaurP",
        "vscode": {
          "languageId": "python"
        }
      },
      "outputs": [],
      "source": [
        "device = torch.device(\"cuda:0\" if torch.cuda.is_available() else \"cpu\")"
      ]
    },
    {
      "cell_type": "markdown",
      "metadata": {
        "id": "PIjSa95Wbihy"
      },
      "source": [
        "### Hyperparameters"
      ]
    },
    {
      "cell_type": "markdown",
      "metadata": {
        "id": "o6UOIXtmXOWi"
      },
      "source": [
        "You can play with these to improve accuracy on test data."
      ]
    },
    {
      "cell_type": "code",
      "execution_count": 3,
      "metadata": {
        "id": "3HmKgWchbeth",
        "vscode": {
          "languageId": "python"
        }
      },
      "outputs": [],
      "source": [
        "batch_size = 32\n",
        "epochs = 25\n",
        "learning_rate = 0.0001\n",
        "input_shape = (3,256,256)"
      ]
    },
    {
      "cell_type": "markdown",
      "metadata": {
        "id": "gZ3_V-64bx8O"
      },
      "source": [
        "### Data"
      ]
    },
    {
      "cell_type": "markdown",
      "metadata": {
        "id": "R_MoIYfqOWrV"
      },
      "source": [
        "Get Wheat Disease Data for training and testing"
      ]
    },
    {
      "cell_type": "code",
      "execution_count": 4,
      "metadata": {
        "colab": {
          "base_uri": "https://localhost:8080/"
        },
        "id": "X1zT4SRcOf06",
        "outputId": "8bb31040-2716-42f8-e2e4-e9c424c8cb1c",
        "vscode": {
          "languageId": "python"
        }
      },
      "outputs": [
        {
          "name": "stdout",
          "output_type": "stream",
          "text": [
            "Cloning into 'WheatDiseaseDataset'...\n",
            "remote: Enumerating objects: 749, done.\u001b[K\n",
            "remote: Total 749 (delta 0), reused 0 (delta 0), pack-reused 749\u001b[K\n",
            "Receiving objects: 100% (749/749), 386.05 MiB | 18.11 MiB/s, done.\n",
            "Checking out files: 100% (877/877), done.\n"
          ]
        }
      ],
      "source": [
        "!git clone https://github.com/MMFa666/WheatDiseaseDataset.git"
      ]
    },
    {
      "cell_type": "markdown",
      "metadata": {
        "id": "x-IBjRssOstN"
      },
      "source": [
        "Get paths for all the training images in the dataset and print the length of training_paths list. For this purpose you can use glob. You can have a look [here](https://www.geeksforgeeks.org/how-to-use-glob-function-to-find-files-recursively-in-python/) on how to use glob."
      ]
    },
    {
      "cell_type": "code",
      "execution_count": 5,
      "metadata": {
        "colab": {
          "base_uri": "https://localhost:8080/"
        },
        "id": "gACznLIwOnME",
        "outputId": "fb46f10e-110c-4b94-d27e-6e02a0953be6",
        "vscode": {
          "languageId": "python"
        }
      },
      "outputs": [
        {
          "name": "stdout",
          "output_type": "stream",
          "text": [
            "/content/WheatDiseaseDataset/train/stem_rust\n",
            "/content/WheatDiseaseDataset/train/leaf_rust\n",
            "/content/WheatDiseaseDataset/train/healthy_wheat\n",
            "699\n"
          ]
        }
      ],
      "source": [
        "training_paths = list()\n",
        "for name in glob.glob(\"/content/WheatDiseaseDataset/train/*\",recursive=True):\n",
        "  print(name)\n",
        "  for files in glob.glob(name + \"/*\",recursive=True):\n",
        "    training_paths.append(files)\n",
        "print(len(training_paths))"
      ]
    },
    {
      "cell_type": "code",
      "execution_count": 6,
      "metadata": {
        "colab": {
          "base_uri": "https://localhost:8080/"
        },
        "id": "O1bR2IAnNRk7",
        "outputId": "73e16cd1-8430-40fd-e029-214b1721d6fc",
        "vscode": {
          "languageId": "python"
        }
      },
      "outputs": [
        {
          "name": "stdout",
          "output_type": "stream",
          "text": [
            "/content/WheatDiseaseDataset/train/stem_rust/HMDOKP.jpg\n",
            "/content/WheatDiseaseDataset/train/stem_rust/120LEV.jpg\n",
            "/content/WheatDiseaseDataset/train/stem_rust/D9D9YO.jpg\n",
            "/content/WheatDiseaseDataset/train/stem_rust/4D5Z4N.jpg\n",
            "/content/WheatDiseaseDataset/train/stem_rust/1NFNZD.jpg\n",
            "/content/WheatDiseaseDataset/train/stem_rust/2NKA0A.jpg\n",
            "/content/WheatDiseaseDataset/train/stem_rust/B0VR65.jpg\n",
            "/content/WheatDiseaseDataset/train/stem_rust/4PS17R.jpg\n",
            "/content/WheatDiseaseDataset/train/stem_rust/05R4FK.jpg\n",
            "/content/WheatDiseaseDataset/train/stem_rust/FLY31D.jpg\n",
            "/content/WheatDiseaseDataset/train/stem_rust/DLZR23.jpg\n",
            "/content/WheatDiseaseDataset/train/stem_rust/XFVHN1.jpg\n",
            "/content/WheatDiseaseDataset/train/stem_rust/M6HZIP.jpg\n",
            "/content/WheatDiseaseDataset/train/stem_rust/31LDUR.jpg\n",
            "/content/WheatDiseaseDataset/train/stem_rust/7AJXG3.jpg\n",
            "/content/WheatDiseaseDataset/train/stem_rust/55E81Z.jpg\n",
            "/content/WheatDiseaseDataset/train/stem_rust/RHWEMM.jpg\n",
            "/content/WheatDiseaseDataset/train/stem_rust/FPOY3C.jpg\n",
            "/content/WheatDiseaseDataset/train/stem_rust/3TZ5AZ.jpg\n",
            "/content/WheatDiseaseDataset/train/stem_rust/8WXCQY.jpg\n",
            "/content/WheatDiseaseDataset/train/stem_rust/KAQWIP.jpg\n",
            "/content/WheatDiseaseDataset/train/stem_rust/B3TVHT.jpg\n",
            "/content/WheatDiseaseDataset/train/stem_rust/V58S56.jpg\n",
            "/content/WheatDiseaseDataset/train/stem_rust/00LAS4.jpg\n",
            "/content/WheatDiseaseDataset/train/stem_rust/5A1I6X.jpg\n",
            "/content/WheatDiseaseDataset/train/stem_rust/KQ0EOU.jpg\n",
            "/content/WheatDiseaseDataset/train/stem_rust/JVF70C.jpg\n",
            "/content/WheatDiseaseDataset/train/stem_rust/LRI72E.jpg\n",
            "/content/WheatDiseaseDataset/train/stem_rust/N0XG6F.jpg\n",
            "/content/WheatDiseaseDataset/train/stem_rust/0C9AGB.jpg\n",
            "/content/WheatDiseaseDataset/train/stem_rust/GZ3DJ9.jpg\n",
            "/content/WheatDiseaseDataset/train/stem_rust/5I6K76.jpg\n",
            "/content/WheatDiseaseDataset/train/stem_rust/0XEGW3.jpg\n",
            "/content/WheatDiseaseDataset/train/stem_rust/LQV40X.jpg\n",
            "/content/WheatDiseaseDataset/train/stem_rust/W2JUB6.jpg\n",
            "/content/WheatDiseaseDataset/train/stem_rust/2S1S24.jpg\n",
            "/content/WheatDiseaseDataset/train/stem_rust/B5CJV4.jpg\n",
            "/content/WheatDiseaseDataset/train/stem_rust/ZF5LOB.jpg\n",
            "/content/WheatDiseaseDataset/train/stem_rust/OBZCMJ.jpg\n",
            "/content/WheatDiseaseDataset/train/stem_rust/VN2WP2.jpg\n",
            "/content/WheatDiseaseDataset/train/stem_rust/PMP6DL.jpg\n",
            "/content/WheatDiseaseDataset/train/stem_rust/C903K0.jpg\n",
            "/content/WheatDiseaseDataset/train/stem_rust/NKMGGH.jpg\n",
            "/content/WheatDiseaseDataset/train/stem_rust/TYOONJ.jpg\n",
            "/content/WheatDiseaseDataset/train/stem_rust/3C8DCX.jpg\n",
            "/content/WheatDiseaseDataset/train/stem_rust/OPVLP6.jpg\n",
            "/content/WheatDiseaseDataset/train/stem_rust/F2GRJ3.jpg\n",
            "/content/WheatDiseaseDataset/train/stem_rust/C390MH.jpg\n",
            "/content/WheatDiseaseDataset/train/stem_rust/JFDUOK.jpg\n",
            "/content/WheatDiseaseDataset/train/stem_rust/2FHYM7.jpg\n",
            "/content/WheatDiseaseDataset/train/stem_rust/72165R.jpg\n",
            "/content/WheatDiseaseDataset/train/stem_rust/DNG7B7.jpg\n",
            "/content/WheatDiseaseDataset/train/stem_rust/N2FW8A.jpg\n",
            "/content/WheatDiseaseDataset/train/stem_rust/O03SHZ.jpg\n",
            "/content/WheatDiseaseDataset/train/stem_rust/MAHVH5.jpg\n",
            "/content/WheatDiseaseDataset/train/stem_rust/ZGFMHX.jpg\n",
            "/content/WheatDiseaseDataset/train/stem_rust/RCG9YN.jpg\n",
            "/content/WheatDiseaseDataset/train/stem_rust/M14XER.jpg\n",
            "/content/WheatDiseaseDataset/train/stem_rust/WUA1U6.jpg\n",
            "/content/WheatDiseaseDataset/train/stem_rust/CJLHTW.jpg\n",
            "/content/WheatDiseaseDataset/train/stem_rust/YY0XD7.jpg\n",
            "/content/WheatDiseaseDataset/train/stem_rust/CMBUFU.jpg\n",
            "/content/WheatDiseaseDataset/train/stem_rust/E124SH.jpg\n",
            "/content/WheatDiseaseDataset/train/stem_rust/3AE5IC.jpg\n",
            "/content/WheatDiseaseDataset/train/stem_rust/LWGF04.jpg\n",
            "/content/WheatDiseaseDataset/train/stem_rust/KMNLD5.jpg\n",
            "/content/WheatDiseaseDataset/train/stem_rust/3RK10Q.jpg\n",
            "/content/WheatDiseaseDataset/train/stem_rust/H8R1KU.jpg\n",
            "/content/WheatDiseaseDataset/train/stem_rust/3IIC89.jpg\n",
            "/content/WheatDiseaseDataset/train/stem_rust/WJVMRG.jpg\n",
            "/content/WheatDiseaseDataset/train/stem_rust/4BV3KD.jpg\n",
            "/content/WheatDiseaseDataset/train/stem_rust/NOEZ1J.jpg\n",
            "/content/WheatDiseaseDataset/train/stem_rust/65XWCM.jpg\n",
            "/content/WheatDiseaseDataset/train/stem_rust/8I4EMC.jpg\n",
            "/content/WheatDiseaseDataset/train/stem_rust/2M5IST.jpg\n",
            "/content/WheatDiseaseDataset/train/stem_rust/ICY8JX.jpg\n",
            "/content/WheatDiseaseDataset/train/stem_rust/QUMDJO.jpg\n",
            "/content/WheatDiseaseDataset/train/stem_rust/2GLNY4.jpg\n",
            "/content/WheatDiseaseDataset/train/stem_rust/SN8O41.jpg\n",
            "/content/WheatDiseaseDataset/train/stem_rust/YEB368.jpg\n",
            "/content/WheatDiseaseDataset/train/stem_rust/E2TWPA.jpg\n",
            "/content/WheatDiseaseDataset/train/stem_rust/026AEH.jpg\n",
            "/content/WheatDiseaseDataset/train/stem_rust/B3QEKK.jpg\n",
            "/content/WheatDiseaseDataset/train/stem_rust/SA4IZE.jpg\n",
            "/content/WheatDiseaseDataset/train/stem_rust/SSLCB0.jpg\n",
            "/content/WheatDiseaseDataset/train/stem_rust/XW6EIA.jpg\n",
            "/content/WheatDiseaseDataset/train/stem_rust/UT5W0J.jpg\n",
            "/content/WheatDiseaseDataset/train/stem_rust/C2WG16.jpg\n",
            "/content/WheatDiseaseDataset/train/stem_rust/KDERDV.jpg\n",
            "/content/WheatDiseaseDataset/train/stem_rust/OCCOMA.jpg\n",
            "/content/WheatDiseaseDataset/train/stem_rust/PVR11X.jpg\n",
            "/content/WheatDiseaseDataset/train/stem_rust/O4CB00.jpg\n",
            "/content/WheatDiseaseDataset/train/stem_rust/LF4RA9.jpg\n",
            "/content/WheatDiseaseDataset/train/stem_rust/GAZ8Q5.jpg\n",
            "/content/WheatDiseaseDataset/train/stem_rust/FEKTGQ.jpg\n",
            "/content/WheatDiseaseDataset/train/stem_rust/L8ZRQS.jpg\n",
            "/content/WheatDiseaseDataset/train/stem_rust/N1HIQM.jpg\n",
            "/content/WheatDiseaseDataset/train/stem_rust/DFRU3F.jpg\n",
            "/content/WheatDiseaseDataset/train/stem_rust/UPBU5E.jpg\n",
            "/content/WheatDiseaseDataset/train/stem_rust/290O3O.jpg\n",
            "/content/WheatDiseaseDataset/train/stem_rust/B48JP3.jpg\n",
            "/content/WheatDiseaseDataset/train/stem_rust/RVLO8S.jpg\n",
            "/content/WheatDiseaseDataset/train/stem_rust/LNND12.jpg\n",
            "/content/WheatDiseaseDataset/train/stem_rust/619L2N.jpg\n",
            "/content/WheatDiseaseDataset/train/stem_rust/A0O1E2.jpg\n",
            "/content/WheatDiseaseDataset/train/stem_rust/ZCBE0P.jpg\n",
            "/content/WheatDiseaseDataset/train/stem_rust/6U3J0O.jpg\n",
            "/content/WheatDiseaseDataset/train/stem_rust/S544N5.jpg\n",
            "/content/WheatDiseaseDataset/train/stem_rust/C5YOGW.jpg\n",
            "/content/WheatDiseaseDataset/train/stem_rust/YKJAR7.jpg\n",
            "/content/WheatDiseaseDataset/train/stem_rust/A8IC6W.jpg\n",
            "/content/WheatDiseaseDataset/train/stem_rust/DMFVM7.jpg\n",
            "/content/WheatDiseaseDataset/train/stem_rust/JWXWHG.jpg\n",
            "/content/WheatDiseaseDataset/train/stem_rust/HJS1GK.jpg\n",
            "/content/WheatDiseaseDataset/train/stem_rust/YTCBH2.jpg\n",
            "/content/WheatDiseaseDataset/train/stem_rust/407S0R.jpg\n",
            "/content/WheatDiseaseDataset/train/stem_rust/CUJLRV.jpg\n",
            "/content/WheatDiseaseDataset/train/stem_rust/5GNWP2.jpg\n",
            "/content/WheatDiseaseDataset/train/stem_rust/ERFTDP.jpg\n",
            "/content/WheatDiseaseDataset/train/stem_rust/0HA9AT.jpg\n",
            "/content/WheatDiseaseDataset/train/stem_rust/ORCKG3.jpg\n",
            "/content/WheatDiseaseDataset/train/stem_rust/7RIKI9.jpg\n",
            "/content/WheatDiseaseDataset/train/stem_rust/7JIPZE.jpg\n",
            "/content/WheatDiseaseDataset/train/stem_rust/EEO09F.jpg\n",
            "/content/WheatDiseaseDataset/train/stem_rust/JATLQY.jpg\n",
            "/content/WheatDiseaseDataset/train/stem_rust/PTY2DZ.jpg\n",
            "/content/WheatDiseaseDataset/train/stem_rust/V8X84U.jpg\n",
            "/content/WheatDiseaseDataset/train/stem_rust/H7EWAR.jpg\n",
            "/content/WheatDiseaseDataset/train/stem_rust/OXB7BD.jpg\n",
            "/content/WheatDiseaseDataset/train/stem_rust/M3RARK.jpg\n",
            "/content/WheatDiseaseDataset/train/stem_rust/1YHZHR.jpg\n",
            "/content/WheatDiseaseDataset/train/stem_rust/10B6P0.jpg\n",
            "/content/WheatDiseaseDataset/train/stem_rust/J3SLHK.jpg\n",
            "/content/WheatDiseaseDataset/train/stem_rust/5V92FO.jpg\n",
            "/content/WheatDiseaseDataset/train/stem_rust/R07NK0.jpg\n",
            "/content/WheatDiseaseDataset/train/stem_rust/ULWQAO.jpg\n",
            "/content/WheatDiseaseDataset/train/stem_rust/ZDLMKT.jpg\n",
            "/content/WheatDiseaseDataset/train/stem_rust/48XJPB.jpg\n",
            "/content/WheatDiseaseDataset/train/stem_rust/F7LSXE.jpg\n",
            "/content/WheatDiseaseDataset/train/stem_rust/Q3SN2Q.jpg\n",
            "/content/WheatDiseaseDataset/train/stem_rust/RZ8UVN.jpg\n",
            "/content/WheatDiseaseDataset/train/stem_rust/E0TIID.jpg\n",
            "/content/WheatDiseaseDataset/train/stem_rust/6VM9YC.jpg\n",
            "/content/WheatDiseaseDataset/train/stem_rust/JC5SQ6.jpg\n",
            "/content/WheatDiseaseDataset/train/stem_rust/F1R6EO.jpg\n",
            "/content/WheatDiseaseDataset/train/stem_rust/GEKOQ6.jpg\n",
            "/content/WheatDiseaseDataset/train/stem_rust/MME6MZ.jpg\n",
            "/content/WheatDiseaseDataset/train/stem_rust/R4S1SH.jpg\n",
            "/content/WheatDiseaseDataset/train/stem_rust/NJJMTF.jpg\n",
            "/content/WheatDiseaseDataset/train/stem_rust/3J2I9T.jpg\n",
            "/content/WheatDiseaseDataset/train/stem_rust/ZQMHZZ.jpg\n",
            "/content/WheatDiseaseDataset/train/stem_rust/XONN0P.jpg\n",
            "/content/WheatDiseaseDataset/train/stem_rust/ORZEX2.jpg\n",
            "/content/WheatDiseaseDataset/train/stem_rust/D0E3GS.jpg\n",
            "/content/WheatDiseaseDataset/train/stem_rust/ED09CS.jpg\n",
            "/content/WheatDiseaseDataset/train/stem_rust/5TJWR8.jpg\n",
            "/content/WheatDiseaseDataset/train/stem_rust/GXFMJU.jpg\n",
            "/content/WheatDiseaseDataset/train/stem_rust/HMBXAG.jpg\n",
            "/content/WheatDiseaseDataset/train/stem_rust/RIPWRI.jpg\n",
            "/content/WheatDiseaseDataset/train/stem_rust/DX9GO7.jpg\n",
            "/content/WheatDiseaseDataset/train/stem_rust/83AAQN.jpg\n",
            "/content/WheatDiseaseDataset/train/stem_rust/HUYCKN.jpg\n",
            "/content/WheatDiseaseDataset/train/stem_rust/OJQAJM.jpg\n",
            "/content/WheatDiseaseDataset/train/stem_rust/8W7Q5X.jpg\n",
            "/content/WheatDiseaseDataset/train/stem_rust/UTGY8V.jpg\n",
            "/content/WheatDiseaseDataset/train/stem_rust/57KL9D.jpg\n",
            "/content/WheatDiseaseDataset/train/stem_rust/PDG8PU.jpg\n",
            "/content/WheatDiseaseDataset/train/stem_rust/2TUOEI.jpg\n",
            "/content/WheatDiseaseDataset/train/stem_rust/6N1U85.jpg\n",
            "/content/WheatDiseaseDataset/train/stem_rust/5FWN6Q.jpg\n",
            "/content/WheatDiseaseDataset/train/stem_rust/L54H4D.jpg\n",
            "/content/WheatDiseaseDataset/train/stem_rust/A2CRSS.jpg\n",
            "/content/WheatDiseaseDataset/train/stem_rust/IFQPSK.jpg\n",
            "/content/WheatDiseaseDataset/train/stem_rust/SR3XX6.jpg\n",
            "/content/WheatDiseaseDataset/train/stem_rust/X39Q4J.jpg\n",
            "/content/WheatDiseaseDataset/train/stem_rust/7LKQ7F.jpg\n",
            "/content/WheatDiseaseDataset/train/stem_rust/BHWPMR.jpg\n",
            "/content/WheatDiseaseDataset/train/stem_rust/G1IBLV.jpg\n",
            "/content/WheatDiseaseDataset/train/stem_rust/IGF54E.jpg\n",
            "/content/WheatDiseaseDataset/train/stem_rust/ISRIWC.jpg\n",
            "/content/WheatDiseaseDataset/train/stem_rust/4QWVMD.jpg\n",
            "/content/WheatDiseaseDataset/train/stem_rust/P2S5BW.jpg\n",
            "/content/WheatDiseaseDataset/train/stem_rust/GY5M4U.jpg\n",
            "/content/WheatDiseaseDataset/train/stem_rust/OG1EO7.jpg\n",
            "/content/WheatDiseaseDataset/train/stem_rust/9SN5B9.jpg\n",
            "/content/WheatDiseaseDataset/train/stem_rust/6HIBNB.jpg\n",
            "/content/WheatDiseaseDataset/train/stem_rust/V2K7M9.jpg\n",
            "/content/WheatDiseaseDataset/train/stem_rust/71PGO8.jpg\n",
            "/content/WheatDiseaseDataset/train/stem_rust/EVC1PX.jpg\n",
            "/content/WheatDiseaseDataset/train/stem_rust/VH1QHY.jpg\n",
            "/content/WheatDiseaseDataset/train/stem_rust/0WP9LS.jpg\n",
            "/content/WheatDiseaseDataset/train/stem_rust/CTPRGC.jpg\n",
            "/content/WheatDiseaseDataset/train/stem_rust/0I8NWR.jpg\n",
            "/content/WheatDiseaseDataset/train/stem_rust/ZVTLRJ.jpg\n",
            "/content/WheatDiseaseDataset/train/stem_rust/59FBYS.jpg\n",
            "/content/WheatDiseaseDataset/train/stem_rust/B72F55.jpg\n",
            "/content/WheatDiseaseDataset/train/stem_rust/HIJ7QE.jpg\n",
            "/content/WheatDiseaseDataset/train/stem_rust/OLZW86.jpg\n",
            "/content/WheatDiseaseDataset/train/stem_rust/9SRYSU.jpg\n",
            "/content/WheatDiseaseDataset/train/stem_rust/GRW86Y.jpg\n",
            "/content/WheatDiseaseDataset/train/stem_rust/67HP4L.jpg\n",
            "/content/WheatDiseaseDataset/train/stem_rust/QGWS4X.jpg\n",
            "/content/WheatDiseaseDataset/train/stem_rust/EI7DHC.jpg\n",
            "/content/WheatDiseaseDataset/train/stem_rust/HDYQ8J.jpg\n",
            "/content/WheatDiseaseDataset/train/stem_rust/3A2D0D.jpg\n",
            "/content/WheatDiseaseDataset/train/stem_rust/ES3PVH.jpg\n",
            "/content/WheatDiseaseDataset/train/stem_rust/QWIV2J.jpg\n",
            "/content/WheatDiseaseDataset/train/stem_rust/J099DZ.jpg\n",
            "/content/WheatDiseaseDataset/train/stem_rust/2RCVZ9.jpg\n",
            "/content/WheatDiseaseDataset/train/stem_rust/GSL750.jpg\n",
            "/content/WheatDiseaseDataset/train/stem_rust/YBGSNS.jpg\n",
            "/content/WheatDiseaseDataset/train/stem_rust/5F1T3N.jpg\n",
            "/content/WheatDiseaseDataset/train/stem_rust/MRYFQT.jpg\n",
            "/content/WheatDiseaseDataset/train/stem_rust/MSUABZ.jpg\n",
            "/content/WheatDiseaseDataset/train/stem_rust/DVS7D2.jpg\n",
            "/content/WheatDiseaseDataset/train/stem_rust/XJEAUE.jpg\n",
            "/content/WheatDiseaseDataset/train/stem_rust/A9EQUP.jpg\n",
            "/content/WheatDiseaseDataset/train/stem_rust/23B5BA.jpg\n",
            "/content/WheatDiseaseDataset/train/stem_rust/0CXDTY.jpg\n",
            "/content/WheatDiseaseDataset/train/stem_rust/LBP6L0.jpg\n",
            "/content/WheatDiseaseDataset/train/stem_rust/W7KASV.jpg\n",
            "/content/WheatDiseaseDataset/train/stem_rust/9PBQ07.jpg\n",
            "/content/WheatDiseaseDataset/train/stem_rust/N3PPHR.jpg\n",
            "/content/WheatDiseaseDataset/train/stem_rust/BLBE0Y.jpg\n",
            "/content/WheatDiseaseDataset/train/stem_rust/U2V5YV.jpg\n",
            "/content/WheatDiseaseDataset/train/stem_rust/1XKPS0.jpg\n",
            "/content/WheatDiseaseDataset/train/stem_rust/7Y66S6.jpg\n",
            "/content/WheatDiseaseDataset/train/stem_rust/85RP1Z.jpg\n",
            "/content/WheatDiseaseDataset/train/stem_rust/H1ZJPM.jpg\n",
            "/content/WheatDiseaseDataset/train/stem_rust/JTBRNK.jpg\n",
            "/content/WheatDiseaseDataset/train/stem_rust/MO9MOB.jpg\n",
            "/content/WheatDiseaseDataset/train/stem_rust/TQGJON.jpg\n",
            "/content/WheatDiseaseDataset/train/stem_rust/HQF2QD.jpg\n",
            "/content/WheatDiseaseDataset/train/stem_rust/WFESL1.jpg\n",
            "/content/WheatDiseaseDataset/train/stem_rust/U32C73.jpg\n",
            "/content/WheatDiseaseDataset/train/stem_rust/JZYU18.jpg\n",
            "/content/WheatDiseaseDataset/train/stem_rust/AFCENX.jpg\n",
            "/content/WheatDiseaseDataset/train/stem_rust/VBVKE1.jpg\n",
            "/content/WheatDiseaseDataset/train/stem_rust/8MIRS1.jpg\n",
            "/content/WheatDiseaseDataset/train/stem_rust/M2YMPN.jpg\n",
            "/content/WheatDiseaseDataset/train/stem_rust/W3A1IP.jpg\n",
            "/content/WheatDiseaseDataset/train/stem_rust/PNK1XY.jpg\n",
            "/content/WheatDiseaseDataset/train/stem_rust/VYXJQ6.jpg\n",
            "/content/WheatDiseaseDataset/train/stem_rust/77K0S5.jpg\n",
            "/content/WheatDiseaseDataset/train/stem_rust/LKM1T4.jpg\n",
            "/content/WheatDiseaseDataset/train/stem_rust/2J1PQ4.jpg\n",
            "/content/WheatDiseaseDataset/train/stem_rust/ZF2C96.jpg\n",
            "/content/WheatDiseaseDataset/train/stem_rust/XUDDKP.jpg\n",
            "/content/WheatDiseaseDataset/train/stem_rust/KW2L1S.jpg\n",
            "/content/WheatDiseaseDataset/train/stem_rust/TRB8EQ.jpg\n",
            "/content/WheatDiseaseDataset/train/stem_rust/IHTFG4.jpg\n",
            "/content/WheatDiseaseDataset/train/stem_rust/4MRZJO.jpg\n",
            "/content/WheatDiseaseDataset/train/stem_rust/69R5M3.jpg\n",
            "/content/WheatDiseaseDataset/train/stem_rust/DT9HU4.jpg\n",
            "/content/WheatDiseaseDataset/train/stem_rust/DR8HQ5.jpg\n",
            "/content/WheatDiseaseDataset/train/stem_rust/Q1K9LK.jpg\n",
            "/content/WheatDiseaseDataset/train/stem_rust/5A8EHD.jpg\n",
            "/content/WheatDiseaseDataset/train/stem_rust/ITHJH3.jpg\n",
            "/content/WheatDiseaseDataset/train/stem_rust/MLOC1X.jpg\n",
            "/content/WheatDiseaseDataset/train/stem_rust/Q4Q2T5.jpg\n",
            "/content/WheatDiseaseDataset/train/stem_rust/H7KBSS.jpg\n",
            "/content/WheatDiseaseDataset/train/stem_rust/9SESH4.jpg\n",
            "/content/WheatDiseaseDataset/train/stem_rust/J4FNMC.jpg\n",
            "/content/WheatDiseaseDataset/train/stem_rust/5ZL92E.jpg\n",
            "/content/WheatDiseaseDataset/train/stem_rust/8C5O5M.jpg\n",
            "/content/WheatDiseaseDataset/train/stem_rust/84ABKR.jpg\n",
            "/content/WheatDiseaseDataset/train/stem_rust/XFPZY5.jpg\n",
            "/content/WheatDiseaseDataset/train/stem_rust/TFXZFC.jpg\n",
            "/content/WheatDiseaseDataset/train/stem_rust/HYWJFJ.jpg\n",
            "/content/WheatDiseaseDataset/train/stem_rust/XV81OY.jpg\n",
            "/content/WheatDiseaseDataset/train/stem_rust/SEKZYY.jpg\n",
            "/content/WheatDiseaseDataset/train/stem_rust/WE1GC0.jpg\n",
            "/content/WheatDiseaseDataset/train/stem_rust/04YCE2.jpg\n",
            "/content/WheatDiseaseDataset/train/stem_rust/2BMZSY.jpg\n",
            "/content/WheatDiseaseDataset/train/stem_rust/K2PW6W.jpg\n",
            "/content/WheatDiseaseDataset/train/stem_rust/2ZBXWK.jpg\n",
            "/content/WheatDiseaseDataset/train/stem_rust/7GKM8T.jpg\n",
            "/content/WheatDiseaseDataset/train/stem_rust/M2JYF7.jpg\n",
            "/content/WheatDiseaseDataset/train/stem_rust/HFQCNG.jpg\n",
            "/content/WheatDiseaseDataset/train/stem_rust/B0OGTU.jpg\n",
            "/content/WheatDiseaseDataset/train/stem_rust/FGNILS.jpg\n",
            "/content/WheatDiseaseDataset/train/stem_rust/WWX0LN.jpg\n",
            "/content/WheatDiseaseDataset/train/stem_rust/VGLEGG.jpg\n",
            "/content/WheatDiseaseDataset/train/stem_rust/NDBROB.jpg\n",
            "/content/WheatDiseaseDataset/train/stem_rust/W0Z4IL.jpg\n",
            "/content/WheatDiseaseDataset/train/stem_rust/5SVCEN.jpg\n",
            "/content/WheatDiseaseDataset/train/stem_rust/1JO0MM.jpg\n",
            "/content/WheatDiseaseDataset/train/stem_rust/8I7LB7.jpg\n",
            "/content/WheatDiseaseDataset/train/stem_rust/U1MXOH.jpg\n",
            "/content/WheatDiseaseDataset/train/stem_rust/6PORQS.jpg\n",
            "/content/WheatDiseaseDataset/train/stem_rust/2C20JO.jpg\n",
            "/content/WheatDiseaseDataset/train/stem_rust/O0DG7Q.jpg\n",
            "/content/WheatDiseaseDataset/train/stem_rust/DCPYGG.jpg\n",
            "/content/WheatDiseaseDataset/train/stem_rust/2YY03P.jpg\n",
            "/content/WheatDiseaseDataset/train/stem_rust/FV6ZMQ.jpg\n",
            "/content/WheatDiseaseDataset/train/stem_rust/WYZ2MA.jpg\n",
            "/content/WheatDiseaseDataset/train/stem_rust/JB8XOB.jpg\n",
            "/content/WheatDiseaseDataset/train/stem_rust/Q5W30V.jpg\n",
            "/content/WheatDiseaseDataset/train/stem_rust/IW5JWH.jpg\n",
            "/content/WheatDiseaseDataset/train/stem_rust/7QBIPY.jpg\n",
            "/content/WheatDiseaseDataset/train/leaf_rust/K1TXKT.jpg\n",
            "/content/WheatDiseaseDataset/train/leaf_rust/N7CLD1.jpg\n",
            "/content/WheatDiseaseDataset/train/leaf_rust/LBIX7Q.jpg\n",
            "/content/WheatDiseaseDataset/train/leaf_rust/W4A95N.jpg\n",
            "/content/WheatDiseaseDataset/train/leaf_rust/2XML6U.jpg\n",
            "/content/WheatDiseaseDataset/train/leaf_rust/DTL2GK.jpg\n",
            "/content/WheatDiseaseDataset/train/leaf_rust/GNJ5MY.jpg\n",
            "/content/WheatDiseaseDataset/train/leaf_rust/WI3HNQ.jpg\n",
            "/content/WheatDiseaseDataset/train/leaf_rust/F7B6FL.jpg\n",
            "/content/WheatDiseaseDataset/train/leaf_rust/8XR87D.jpg\n",
            "/content/WheatDiseaseDataset/train/leaf_rust/SJSVO0.jpg\n",
            "/content/WheatDiseaseDataset/train/leaf_rust/RCHIOR.jpg\n",
            "/content/WheatDiseaseDataset/train/leaf_rust/QNDFZN.jpg\n",
            "/content/WheatDiseaseDataset/train/leaf_rust/NFHK6I.jpg\n",
            "/content/WheatDiseaseDataset/train/leaf_rust/N8IZHC.jpg\n",
            "/content/WheatDiseaseDataset/train/leaf_rust/57O8CF.jpg\n",
            "/content/WheatDiseaseDataset/train/leaf_rust/T0C1CQ.jpg\n",
            "/content/WheatDiseaseDataset/train/leaf_rust/35K36X.jpg\n",
            "/content/WheatDiseaseDataset/train/leaf_rust/3XB3N4.jpg\n",
            "/content/WheatDiseaseDataset/train/leaf_rust/IRVFRA.jpg\n",
            "/content/WheatDiseaseDataset/train/leaf_rust/2EXVIL.jpg\n",
            "/content/WheatDiseaseDataset/train/leaf_rust/ZZ0S2X.jpg\n",
            "/content/WheatDiseaseDataset/train/leaf_rust/2ECI4X.jpg\n",
            "/content/WheatDiseaseDataset/train/leaf_rust/GM4WSG.jpg\n",
            "/content/WheatDiseaseDataset/train/leaf_rust/KH2FYR.jpg\n",
            "/content/WheatDiseaseDataset/train/leaf_rust/L31ZYT.jpg\n",
            "/content/WheatDiseaseDataset/train/leaf_rust/0ZMQRS.jpg\n",
            "/content/WheatDiseaseDataset/train/leaf_rust/QJY255.jpg\n",
            "/content/WheatDiseaseDataset/train/leaf_rust/V2AEGW.jpg\n",
            "/content/WheatDiseaseDataset/train/leaf_rust/D65OG9.jpg\n",
            "/content/WheatDiseaseDataset/train/leaf_rust/WESD5J.jpg\n",
            "/content/WheatDiseaseDataset/train/leaf_rust/MGW6KB.jpg\n",
            "/content/WheatDiseaseDataset/train/leaf_rust/GR59IW.jpg\n",
            "/content/WheatDiseaseDataset/train/leaf_rust/KX4NN0.jpg\n",
            "/content/WheatDiseaseDataset/train/leaf_rust/TIZBDT.jpg\n",
            "/content/WheatDiseaseDataset/train/leaf_rust/M1GMBO.jpg\n",
            "/content/WheatDiseaseDataset/train/leaf_rust/3YFH9A.jpg\n",
            "/content/WheatDiseaseDataset/train/leaf_rust/VY0ZOQ.jpg\n",
            "/content/WheatDiseaseDataset/train/leaf_rust/BUCKBW.jpg\n",
            "/content/WheatDiseaseDataset/train/leaf_rust/IPRUZ7.jpg\n",
            "/content/WheatDiseaseDataset/train/leaf_rust/C6VM7G.jpg\n",
            "/content/WheatDiseaseDataset/train/leaf_rust/ZPDG7D.jpg\n",
            "/content/WheatDiseaseDataset/train/leaf_rust/C25QRM.jpg\n",
            "/content/WheatDiseaseDataset/train/leaf_rust/QNDENX.jpg\n",
            "/content/WheatDiseaseDataset/train/leaf_rust/G7IG7A.jpg\n",
            "/content/WheatDiseaseDataset/train/leaf_rust/GZQN3S.jpg\n",
            "/content/WheatDiseaseDataset/train/leaf_rust/CU1Z91.jpg\n",
            "/content/WheatDiseaseDataset/train/leaf_rust/JDOHI8.jpg\n",
            "/content/WheatDiseaseDataset/train/leaf_rust/8ZIQO3.jpg\n",
            "/content/WheatDiseaseDataset/train/leaf_rust/VPWSN2.jpg\n",
            "/content/WheatDiseaseDataset/train/leaf_rust/AVI32D.jpg\n",
            "/content/WheatDiseaseDataset/train/leaf_rust/46GW2Y.jpg\n",
            "/content/WheatDiseaseDataset/train/leaf_rust/2Y27GQ.jpg\n",
            "/content/WheatDiseaseDataset/train/leaf_rust/7NK9AN.jpg\n",
            "/content/WheatDiseaseDataset/train/leaf_rust/I55RPY.jpg\n",
            "/content/WheatDiseaseDataset/train/leaf_rust/76FFDO.jpg\n",
            "/content/WheatDiseaseDataset/train/leaf_rust/7ZK6AD.jpg\n",
            "/content/WheatDiseaseDataset/train/leaf_rust/63TBD5.jpg\n",
            "/content/WheatDiseaseDataset/train/leaf_rust/Q7H6UZ.jpg\n",
            "/content/WheatDiseaseDataset/train/leaf_rust/ETPVUI.jpg\n",
            "/content/WheatDiseaseDataset/train/leaf_rust/TRRES0.jpg\n",
            "/content/WheatDiseaseDataset/train/leaf_rust/XLM65F.jpg\n",
            "/content/WheatDiseaseDataset/train/leaf_rust/EANNBM.jpg\n",
            "/content/WheatDiseaseDataset/train/leaf_rust/WO1JVR.jpg\n",
            "/content/WheatDiseaseDataset/train/leaf_rust/LLHLQN.jpg\n",
            "/content/WheatDiseaseDataset/train/leaf_rust/XVTYNS.jpg\n",
            "/content/WheatDiseaseDataset/train/leaf_rust/6S29JV.jpg\n",
            "/content/WheatDiseaseDataset/train/leaf_rust/K2KIE8.jpg\n",
            "/content/WheatDiseaseDataset/train/leaf_rust/RDQF0Q.jpg\n",
            "/content/WheatDiseaseDataset/train/leaf_rust/PE7CXT.jpg\n",
            "/content/WheatDiseaseDataset/train/leaf_rust/X7VO5R.jpg\n",
            "/content/WheatDiseaseDataset/train/leaf_rust/94FX3I.jpg\n",
            "/content/WheatDiseaseDataset/train/leaf_rust/AM369S.jpg\n",
            "/content/WheatDiseaseDataset/train/leaf_rust/0W9XLD.jpg\n",
            "/content/WheatDiseaseDataset/train/leaf_rust/GZ7ZQ9.jpg\n",
            "/content/WheatDiseaseDataset/train/leaf_rust/9AEUF2.jpg\n",
            "/content/WheatDiseaseDataset/train/leaf_rust/2LNW3I.jpg\n",
            "/content/WheatDiseaseDataset/train/leaf_rust/T5VD54.jpg\n",
            "/content/WheatDiseaseDataset/train/leaf_rust/AVFGNY.jpg\n",
            "/content/WheatDiseaseDataset/train/leaf_rust/USXKL2.jpg\n",
            "/content/WheatDiseaseDataset/train/leaf_rust/3WPXWE.jpg\n",
            "/content/WheatDiseaseDataset/train/leaf_rust/EY85XM.jpg\n",
            "/content/WheatDiseaseDataset/train/leaf_rust/6XP8HI.jpg\n",
            "/content/WheatDiseaseDataset/train/leaf_rust/5PNZRU.jpg\n",
            "/content/WheatDiseaseDataset/train/leaf_rust/6594KX.jpg\n",
            "/content/WheatDiseaseDataset/train/leaf_rust/A6U5K9.jpg\n",
            "/content/WheatDiseaseDataset/train/leaf_rust/O1CPO8.jpg\n",
            "/content/WheatDiseaseDataset/train/leaf_rust/8WGAGZ.jpg\n",
            "/content/WheatDiseaseDataset/train/leaf_rust/QNSLVT.jpg\n",
            "/content/WheatDiseaseDataset/train/leaf_rust/OLL4DP.jpg\n",
            "/content/WheatDiseaseDataset/train/leaf_rust/ZRFMHE.jpg\n",
            "/content/WheatDiseaseDataset/train/leaf_rust/HDY3Q8.jpg\n",
            "/content/WheatDiseaseDataset/train/leaf_rust/CEVUE3.jpg\n",
            "/content/WheatDiseaseDataset/train/leaf_rust/MM0NJB.jpg\n",
            "/content/WheatDiseaseDataset/train/leaf_rust/7IIMFZ.jpg\n",
            "/content/WheatDiseaseDataset/train/leaf_rust/FGVWJ9.jpg\n",
            "/content/WheatDiseaseDataset/train/leaf_rust/LW1FDD.jpg\n",
            "/content/WheatDiseaseDataset/train/leaf_rust/DHNL92.jpg\n",
            "/content/WheatDiseaseDataset/train/leaf_rust/XMR977.jpg\n",
            "/content/WheatDiseaseDataset/train/leaf_rust/E8FCUS.jpg\n",
            "/content/WheatDiseaseDataset/train/leaf_rust/DP7NNX.jpg\n",
            "/content/WheatDiseaseDataset/train/leaf_rust/P9362V.jpg\n",
            "/content/WheatDiseaseDataset/train/leaf_rust/Q3G3AG.jpg\n",
            "/content/WheatDiseaseDataset/train/leaf_rust/AH3RLW.jpg\n",
            "/content/WheatDiseaseDataset/train/leaf_rust/M3T8YX.jpg\n",
            "/content/WheatDiseaseDataset/train/leaf_rust/QSOJNJ.jpg\n",
            "/content/WheatDiseaseDataset/train/leaf_rust/GCQPB4.jpg\n",
            "/content/WheatDiseaseDataset/train/leaf_rust/PXDNTX.jpg\n",
            "/content/WheatDiseaseDataset/train/leaf_rust/1VGQWX.jpg\n",
            "/content/WheatDiseaseDataset/train/leaf_rust/D13IJI.jpg\n",
            "/content/WheatDiseaseDataset/train/leaf_rust/MDG5X6.jpg\n",
            "/content/WheatDiseaseDataset/train/leaf_rust/XG2I75.jpg\n",
            "/content/WheatDiseaseDataset/train/leaf_rust/1BN9TC.jpg\n",
            "/content/WheatDiseaseDataset/train/leaf_rust/N08DX6.jpg\n",
            "/content/WheatDiseaseDataset/train/leaf_rust/MRCH2D.jpg\n",
            "/content/WheatDiseaseDataset/train/leaf_rust/GJFBJA.jpg\n",
            "/content/WheatDiseaseDataset/train/leaf_rust/CVL5BO.jpg\n",
            "/content/WheatDiseaseDataset/train/leaf_rust/Q84CBV.jpg\n",
            "/content/WheatDiseaseDataset/train/leaf_rust/XL21K8.jpg\n",
            "/content/WheatDiseaseDataset/train/leaf_rust/M0ILRH.jpg\n",
            "/content/WheatDiseaseDataset/train/leaf_rust/GNJ5IO.jpg\n",
            "/content/WheatDiseaseDataset/train/leaf_rust/DKXA9W.jpg\n",
            "/content/WheatDiseaseDataset/train/leaf_rust/FQZI2R.jpg\n",
            "/content/WheatDiseaseDataset/train/leaf_rust/7U06EV.jpg\n",
            "/content/WheatDiseaseDataset/train/leaf_rust/G7BN81.jpg\n",
            "/content/WheatDiseaseDataset/train/leaf_rust/1Z2P44.jpg\n",
            "/content/WheatDiseaseDataset/train/leaf_rust/03JUX3.jpg\n",
            "/content/WheatDiseaseDataset/train/leaf_rust/6IW1HK.jpg\n",
            "/content/WheatDiseaseDataset/train/leaf_rust/TEWXBG.jpg\n",
            "/content/WheatDiseaseDataset/train/leaf_rust/YD3U5Q.jpg\n",
            "/content/WheatDiseaseDataset/train/leaf_rust/ZKLSUX.jpg\n",
            "/content/WheatDiseaseDataset/train/leaf_rust/SZOIRZ.jpg\n",
            "/content/WheatDiseaseDataset/train/leaf_rust/WJN651.jpg\n",
            "/content/WheatDiseaseDataset/train/leaf_rust/W6WEQV.jpg\n",
            "/content/WheatDiseaseDataset/train/leaf_rust/P147BO.jpg\n",
            "/content/WheatDiseaseDataset/train/leaf_rust/KSXTB3.jpg\n",
            "/content/WheatDiseaseDataset/train/leaf_rust/1I3ADK.jpg\n",
            "/content/WheatDiseaseDataset/train/leaf_rust/34QL3W.jpg\n",
            "/content/WheatDiseaseDataset/train/leaf_rust/SNIXDK.jpg\n",
            "/content/WheatDiseaseDataset/train/leaf_rust/5C3950.jpg\n",
            "/content/WheatDiseaseDataset/train/leaf_rust/39MD1S.jpg\n",
            "/content/WheatDiseaseDataset/train/leaf_rust/MYT9HK.jpg\n",
            "/content/WheatDiseaseDataset/train/leaf_rust/ABWB11.jpg\n",
            "/content/WheatDiseaseDataset/train/leaf_rust/MAPKID.jpg\n",
            "/content/WheatDiseaseDataset/train/leaf_rust/ZGSC2J.jpg\n",
            "/content/WheatDiseaseDataset/train/leaf_rust/VQGPO4.jpg\n",
            "/content/WheatDiseaseDataset/train/leaf_rust/PAO1SW.jpg\n",
            "/content/WheatDiseaseDataset/train/leaf_rust/DRJSUR.jpg\n",
            "/content/WheatDiseaseDataset/train/leaf_rust/VXAJXV.jpg\n",
            "/content/WheatDiseaseDataset/train/leaf_rust/1UJRRG.jpg\n",
            "/content/WheatDiseaseDataset/train/leaf_rust/SYFMCP.jpg\n",
            "/content/WheatDiseaseDataset/train/leaf_rust/CV8N7R.jpg\n",
            "/content/WheatDiseaseDataset/train/leaf_rust/1TON58.jpg\n",
            "/content/WheatDiseaseDataset/train/leaf_rust/SVKFBF.jpg\n",
            "/content/WheatDiseaseDataset/train/leaf_rust/HIYN7I.jpg\n",
            "/content/WheatDiseaseDataset/train/leaf_rust/56N2ZN.jpg\n",
            "/content/WheatDiseaseDataset/train/leaf_rust/OM7PN0.jpg\n",
            "/content/WheatDiseaseDataset/train/leaf_rust/OSGBUW.jpg\n",
            "/content/WheatDiseaseDataset/train/leaf_rust/Z2L2AO.jpg\n",
            "/content/WheatDiseaseDataset/train/leaf_rust/PYMK1M.jpg\n",
            "/content/WheatDiseaseDataset/train/leaf_rust/SFGBTU.jpg\n",
            "/content/WheatDiseaseDataset/train/leaf_rust/VI0BFY.jpg\n",
            "/content/WheatDiseaseDataset/train/leaf_rust/M6WFHJ.jpg\n",
            "/content/WheatDiseaseDataset/train/leaf_rust/2SDHKR.jpg\n",
            "/content/WheatDiseaseDataset/train/leaf_rust/DEHP6H.jpg\n",
            "/content/WheatDiseaseDataset/train/leaf_rust/OG4J15.jpg\n",
            "/content/WheatDiseaseDataset/train/leaf_rust/209QWE.jpg\n",
            "/content/WheatDiseaseDataset/train/leaf_rust/66CDMF.jpg\n",
            "/content/WheatDiseaseDataset/train/leaf_rust/6V9W4D.jpg\n",
            "/content/WheatDiseaseDataset/train/leaf_rust/XGXKYD.jpg\n",
            "/content/WheatDiseaseDataset/train/leaf_rust/XL8JYZ.jpg\n",
            "/content/WheatDiseaseDataset/train/leaf_rust/9BEZ15.jpg\n",
            "/content/WheatDiseaseDataset/train/leaf_rust/SS98C9.jpg\n",
            "/content/WheatDiseaseDataset/train/leaf_rust/K47X6B.jpg\n",
            "/content/WheatDiseaseDataset/train/leaf_rust/GUOSF7.jpg\n",
            "/content/WheatDiseaseDataset/train/leaf_rust/83RYYY.jpg\n",
            "/content/WheatDiseaseDataset/train/leaf_rust/QWMIFP.jpg\n",
            "/content/WheatDiseaseDataset/train/leaf_rust/EW97KQ.jpg\n",
            "/content/WheatDiseaseDataset/train/leaf_rust/1EJACP.jpg\n",
            "/content/WheatDiseaseDataset/train/leaf_rust/GTGORY.jpg\n",
            "/content/WheatDiseaseDataset/train/leaf_rust/0SFXM4.jpg\n",
            "/content/WheatDiseaseDataset/train/leaf_rust/G1ZQD1.jpg\n",
            "/content/WheatDiseaseDataset/train/leaf_rust/I8HQGB.jpg\n",
            "/content/WheatDiseaseDataset/train/leaf_rust/QLWL6Y.jpg\n",
            "/content/WheatDiseaseDataset/train/leaf_rust/CHY59U.jpg\n",
            "/content/WheatDiseaseDataset/train/leaf_rust/RVYL61.jpg\n",
            "/content/WheatDiseaseDataset/train/leaf_rust/FNOMOO.jpg\n",
            "/content/WheatDiseaseDataset/train/leaf_rust/KBOWUM.jpg\n",
            "/content/WheatDiseaseDataset/train/leaf_rust/LL75XT.jpg\n",
            "/content/WheatDiseaseDataset/train/leaf_rust/Y5CD5T.jpg\n",
            "/content/WheatDiseaseDataset/train/leaf_rust/LIJGDQ.jpg\n",
            "/content/WheatDiseaseDataset/train/leaf_rust/392Z3F.jpg\n",
            "/content/WheatDiseaseDataset/train/leaf_rust/M6X1CL.jpg\n",
            "/content/WheatDiseaseDataset/train/leaf_rust/L9X0VQ.jpg\n",
            "/content/WheatDiseaseDataset/train/leaf_rust/YWGB88.jpg\n",
            "/content/WheatDiseaseDataset/train/leaf_rust/PGSLPC.jpg\n",
            "/content/WheatDiseaseDataset/train/leaf_rust/7LQK3F.jpg\n",
            "/content/WheatDiseaseDataset/train/leaf_rust/82T4LM.jpg\n",
            "/content/WheatDiseaseDataset/train/leaf_rust/KQF7CH.jpg\n",
            "/content/WheatDiseaseDataset/train/leaf_rust/FVQOKA.jpg\n",
            "/content/WheatDiseaseDataset/train/leaf_rust/HN3EVU.jpg\n",
            "/content/WheatDiseaseDataset/train/leaf_rust/S1KKJT.jpg\n",
            "/content/WheatDiseaseDataset/train/leaf_rust/W56FTE.jpg\n",
            "/content/WheatDiseaseDataset/train/leaf_rust/10E2V7.jpg\n",
            "/content/WheatDiseaseDataset/train/leaf_rust/UIVUSB.jpg\n",
            "/content/WheatDiseaseDataset/train/leaf_rust/ESRNRH.jpg\n",
            "/content/WheatDiseaseDataset/train/leaf_rust/7X8ZKT.jpg\n",
            "/content/WheatDiseaseDataset/train/leaf_rust/SI3VZW.jpg\n",
            "/content/WheatDiseaseDataset/train/leaf_rust/SR3QZW.jpg\n",
            "/content/WheatDiseaseDataset/train/leaf_rust/PMDLCY.jpg\n",
            "/content/WheatDiseaseDataset/train/leaf_rust/QR12E2.jpg\n",
            "/content/WheatDiseaseDataset/train/leaf_rust/I11B5N.jpg\n",
            "/content/WheatDiseaseDataset/train/leaf_rust/NA5H5U.jpg\n",
            "/content/WheatDiseaseDataset/train/leaf_rust/PTAWZS.jpg\n",
            "/content/WheatDiseaseDataset/train/leaf_rust/1DV8YN.jpg\n",
            "/content/WheatDiseaseDataset/train/leaf_rust/AP1SAL.jpg\n",
            "/content/WheatDiseaseDataset/train/leaf_rust/4CLEBJ.jpg\n",
            "/content/WheatDiseaseDataset/train/leaf_rust/OW5KPJ.jpg\n",
            "/content/WheatDiseaseDataset/train/leaf_rust/8Q4V5Y.jpg\n",
            "/content/WheatDiseaseDataset/train/leaf_rust/M56ORX.jpg\n",
            "/content/WheatDiseaseDataset/train/leaf_rust/9R24TP.jpg\n",
            "/content/WheatDiseaseDataset/train/leaf_rust/6MCD3S.jpg\n",
            "/content/WheatDiseaseDataset/train/leaf_rust/QUQYBO.jpg\n",
            "/content/WheatDiseaseDataset/train/leaf_rust/NJYIEE.jpg\n",
            "/content/WheatDiseaseDataset/train/leaf_rust/BK1GNK.jpg\n",
            "/content/WheatDiseaseDataset/train/leaf_rust/LJR49N.jpg\n",
            "/content/WheatDiseaseDataset/train/leaf_rust/Q5Z10Q.jpg\n",
            "/content/WheatDiseaseDataset/train/leaf_rust/R4UZMJ.jpg\n",
            "/content/WheatDiseaseDataset/train/leaf_rust/H01KY9.jpg\n",
            "/content/WheatDiseaseDataset/train/leaf_rust/KB6UJ7.jpg\n",
            "/content/WheatDiseaseDataset/train/leaf_rust/MBR2HF.jpg\n",
            "/content/WheatDiseaseDataset/train/leaf_rust/DLK2JF.jpg\n",
            "/content/WheatDiseaseDataset/train/leaf_rust/H51PAY.jpg\n",
            "/content/WheatDiseaseDataset/train/leaf_rust/RQXIWH.jpg\n",
            "/content/WheatDiseaseDataset/train/leaf_rust/7V5AZ4.jpg\n",
            "/content/WheatDiseaseDataset/train/leaf_rust/Q41XT0.jpg\n",
            "/content/WheatDiseaseDataset/train/leaf_rust/EE7W88.jpg\n",
            "/content/WheatDiseaseDataset/train/leaf_rust/00VVPB.jpg\n",
            "/content/WheatDiseaseDataset/train/leaf_rust/AERDW6.jpg\n",
            "/content/WheatDiseaseDataset/train/leaf_rust/LDZZ1L.jpg\n",
            "/content/WheatDiseaseDataset/train/leaf_rust/772Q9Y.jpg\n",
            "/content/WheatDiseaseDataset/train/leaf_rust/K6IUZW.jpg\n",
            "/content/WheatDiseaseDataset/train/leaf_rust/IEZ5DW.jpg\n",
            "/content/WheatDiseaseDataset/train/leaf_rust/RNZSNN.jpg\n",
            "/content/WheatDiseaseDataset/train/leaf_rust/UL35NF.jpg\n",
            "/content/WheatDiseaseDataset/train/leaf_rust/PCMZC6.jpg\n",
            "/content/WheatDiseaseDataset/train/leaf_rust/7KLUT5.jpg\n",
            "/content/WheatDiseaseDataset/train/leaf_rust/XBPTGT.jpg\n",
            "/content/WheatDiseaseDataset/train/leaf_rust/93ML3M.jpg\n",
            "/content/WheatDiseaseDataset/train/leaf_rust/0DEA0V.jpg\n",
            "/content/WheatDiseaseDataset/train/leaf_rust/HH7VUL.jpg\n",
            "/content/WheatDiseaseDataset/train/leaf_rust/6MF7K3.jpg\n",
            "/content/WheatDiseaseDataset/train/leaf_rust/RVMAIV.jpg\n",
            "/content/WheatDiseaseDataset/train/leaf_rust/P6X49P.jpg\n",
            "/content/WheatDiseaseDataset/train/leaf_rust/WPT39P.jpg\n",
            "/content/WheatDiseaseDataset/train/leaf_rust/WRCRVM.jpg\n",
            "/content/WheatDiseaseDataset/train/leaf_rust/CV1X36.jpg\n",
            "/content/WheatDiseaseDataset/train/leaf_rust/NSG1IH.jpg\n",
            "/content/WheatDiseaseDataset/train/leaf_rust/T5ZEMM.jpg\n",
            "/content/WheatDiseaseDataset/train/leaf_rust/4NABU3.jpg\n",
            "/content/WheatDiseaseDataset/train/leaf_rust/B979CG.jpg\n",
            "/content/WheatDiseaseDataset/train/leaf_rust/NWYA7Q.jpg\n",
            "/content/WheatDiseaseDataset/train/leaf_rust/91NL9S.jpg\n",
            "/content/WheatDiseaseDataset/train/leaf_rust/6JRBHF.jpg\n",
            "/content/WheatDiseaseDataset/train/leaf_rust/DM9JJ4.jpg\n",
            "/content/WheatDiseaseDataset/train/leaf_rust/EGCJD3.jpg\n",
            "/content/WheatDiseaseDataset/train/leaf_rust/6616DF.jpg\n",
            "/content/WheatDiseaseDataset/train/leaf_rust/92C0OY.jpg\n",
            "/content/WheatDiseaseDataset/train/leaf_rust/YL98WR.jpg\n",
            "/content/WheatDiseaseDataset/train/leaf_rust/I9SSTW.jpg\n",
            "/content/WheatDiseaseDataset/train/leaf_rust/ZZFXJM.jpg\n",
            "/content/WheatDiseaseDataset/train/leaf_rust/GIYV8B.jpg\n",
            "/content/WheatDiseaseDataset/train/leaf_rust/AQSNJV.jpg\n",
            "/content/WheatDiseaseDataset/train/leaf_rust/JHKU1U.jpg\n",
            "/content/WheatDiseaseDataset/train/leaf_rust/2JE5S8.jpg\n",
            "/content/WheatDiseaseDataset/train/leaf_rust/ZX44PV.jpg\n",
            "/content/WheatDiseaseDataset/train/leaf_rust/F454R9.jpg\n",
            "/content/WheatDiseaseDataset/train/leaf_rust/IE6C1W.jpg\n",
            "/content/WheatDiseaseDataset/train/leaf_rust/6LDDZP.jpg\n",
            "/content/WheatDiseaseDataset/train/leaf_rust/10AFS6.jpg\n",
            "/content/WheatDiseaseDataset/train/leaf_rust/IXRCZL.jpg\n",
            "/content/WheatDiseaseDataset/train/leaf_rust/8K4OWH.jpg\n",
            "/content/WheatDiseaseDataset/train/leaf_rust/XIDT40.jpg\n",
            "/content/WheatDiseaseDataset/train/leaf_rust/LHTBF1.jpg\n",
            "/content/WheatDiseaseDataset/train/leaf_rust/4XQEM2.jpg\n",
            "/content/WheatDiseaseDataset/train/leaf_rust/WALGOP.jpg\n",
            "/content/WheatDiseaseDataset/train/healthy_wheat/DOOEWE.jpg\n",
            "/content/WheatDiseaseDataset/train/healthy_wheat/SVTYF9.jpg\n",
            "/content/WheatDiseaseDataset/train/healthy_wheat/NH4TNJ.jpg\n",
            "/content/WheatDiseaseDataset/train/healthy_wheat/OMO7JG.jpg\n",
            "/content/WheatDiseaseDataset/train/healthy_wheat/SJ54T5.jpg\n",
            "/content/WheatDiseaseDataset/train/healthy_wheat/T9DUFH.jpg\n",
            "/content/WheatDiseaseDataset/train/healthy_wheat/JXN0ZP.jpg\n",
            "/content/WheatDiseaseDataset/train/healthy_wheat/8HQY88.jpg\n",
            "/content/WheatDiseaseDataset/train/healthy_wheat/FU88R0.jpg\n",
            "/content/WheatDiseaseDataset/train/healthy_wheat/AZXBR9.jpg\n",
            "/content/WheatDiseaseDataset/train/healthy_wheat/7RGDDG.jpg\n",
            "/content/WheatDiseaseDataset/train/healthy_wheat/5HV6KU.jpg\n",
            "/content/WheatDiseaseDataset/train/healthy_wheat/IXCBUE.jpg\n",
            "/content/WheatDiseaseDataset/train/healthy_wheat/C5BGP5.jpg\n",
            "/content/WheatDiseaseDataset/train/healthy_wheat/3OKS1S.jpg\n",
            "/content/WheatDiseaseDataset/train/healthy_wheat/HD6Z5L.jpg\n",
            "/content/WheatDiseaseDataset/train/healthy_wheat/9ZEVXL.jpg\n",
            "/content/WheatDiseaseDataset/train/healthy_wheat/SWPUMU.jpg\n",
            "/content/WheatDiseaseDataset/train/healthy_wheat/EJ8295.jpg\n",
            "/content/WheatDiseaseDataset/train/healthy_wheat/Y6OVRX.jpg\n",
            "/content/WheatDiseaseDataset/train/healthy_wheat/47NUVM.jpg\n",
            "/content/WheatDiseaseDataset/train/healthy_wheat/UP510H.jpg\n",
            "/content/WheatDiseaseDataset/train/healthy_wheat/1NX3ZC.jpg\n",
            "/content/WheatDiseaseDataset/train/healthy_wheat/AV7FQ8.jpg\n",
            "/content/WheatDiseaseDataset/train/healthy_wheat/VV0ZC5.jpg\n",
            "/content/WheatDiseaseDataset/train/healthy_wheat/AQKHOK.jpg\n",
            "/content/WheatDiseaseDataset/train/healthy_wheat/TG11GG.jpg\n",
            "/content/WheatDiseaseDataset/train/healthy_wheat/NARWXK.jpg\n",
            "/content/WheatDiseaseDataset/train/healthy_wheat/E5HXTR.jpg\n",
            "/content/WheatDiseaseDataset/train/healthy_wheat/PK4O6O.jpg\n",
            "/content/WheatDiseaseDataset/train/healthy_wheat/0PFX47.jpg\n",
            "/content/WheatDiseaseDataset/train/healthy_wheat/TZCKHA.jpg\n",
            "/content/WheatDiseaseDataset/train/healthy_wheat/IL9FCV.jpg\n",
            "/content/WheatDiseaseDataset/train/healthy_wheat/QHU0JC.jpg\n",
            "/content/WheatDiseaseDataset/train/healthy_wheat/M0B7CV.jpg\n",
            "/content/WheatDiseaseDataset/train/healthy_wheat/ICK7X2.jpg\n",
            "/content/WheatDiseaseDataset/train/healthy_wheat/V99L6E.jpg\n",
            "/content/WheatDiseaseDataset/train/healthy_wheat/IRWU5H.jpg\n",
            "/content/WheatDiseaseDataset/train/healthy_wheat/Q4FJSU.jpg\n",
            "/content/WheatDiseaseDataset/train/healthy_wheat/K68ZMD.jpg\n",
            "/content/WheatDiseaseDataset/train/healthy_wheat/0O5BON.jpg\n",
            "/content/WheatDiseaseDataset/train/healthy_wheat/56APML.jpg\n",
            "/content/WheatDiseaseDataset/train/healthy_wheat/4YI63K.jpg\n",
            "/content/WheatDiseaseDataset/train/healthy_wheat/1LNMUQ.jpg\n",
            "/content/WheatDiseaseDataset/train/healthy_wheat/N8O0C1.jpg\n",
            "/content/WheatDiseaseDataset/train/healthy_wheat/CHT342.jpg\n",
            "/content/WheatDiseaseDataset/train/healthy_wheat/8GXR21.jpg\n",
            "/content/WheatDiseaseDataset/train/healthy_wheat/V1H2XE.jpg\n",
            "/content/WheatDiseaseDataset/train/healthy_wheat/EBMMCD.jpg\n",
            "/content/WheatDiseaseDataset/train/healthy_wheat/TT74SN.jpg\n",
            "/content/WheatDiseaseDataset/train/healthy_wheat/A1U68I.jpg\n",
            "/content/WheatDiseaseDataset/train/healthy_wheat/74ZPA9.jpg\n",
            "/content/WheatDiseaseDataset/train/healthy_wheat/7KUFEH.jpg\n",
            "/content/WheatDiseaseDataset/train/healthy_wheat/DCYAQH.jpg\n",
            "/content/WheatDiseaseDataset/train/healthy_wheat/7ITAYE.jpg\n",
            "/content/WheatDiseaseDataset/train/healthy_wheat/LKI9UG.jpg\n",
            "/content/WheatDiseaseDataset/train/healthy_wheat/T7FPBO.jpg\n",
            "/content/WheatDiseaseDataset/train/healthy_wheat/HNUJLZ.jpg\n",
            "/content/WheatDiseaseDataset/train/healthy_wheat/JC97RE.jpg\n",
            "/content/WheatDiseaseDataset/train/healthy_wheat/R2EUB2.jpg\n",
            "/content/WheatDiseaseDataset/train/healthy_wheat/RFB2JA.jpg\n",
            "/content/WheatDiseaseDataset/train/healthy_wheat/UOZCDJ.jpg\n",
            "/content/WheatDiseaseDataset/train/healthy_wheat/QUBMQI.jpg\n",
            "/content/WheatDiseaseDataset/train/healthy_wheat/VLXEK6.jpg\n",
            "/content/WheatDiseaseDataset/train/healthy_wheat/K4BR5D.jpg\n",
            "/content/WheatDiseaseDataset/train/healthy_wheat/76FZWH.jpg\n",
            "/content/WheatDiseaseDataset/train/healthy_wheat/JQ07E6.jpg\n",
            "/content/WheatDiseaseDataset/train/healthy_wheat/8NB5J3.jpg\n",
            "/content/WheatDiseaseDataset/train/healthy_wheat/XTVZ0E.jpg\n",
            "/content/WheatDiseaseDataset/train/healthy_wheat/MW2YLX.jpg\n",
            "/content/WheatDiseaseDataset/train/healthy_wheat/3FAKM2.jpg\n",
            "/content/WheatDiseaseDataset/train/healthy_wheat/HF3I9B.jpg\n",
            "/content/WheatDiseaseDataset/train/healthy_wheat/3Q0E0P.jpg\n",
            "/content/WheatDiseaseDataset/train/healthy_wheat/NP6250.jpg\n",
            "/content/WheatDiseaseDataset/train/healthy_wheat/MEWKD5.jpg\n",
            "/content/WheatDiseaseDataset/train/healthy_wheat/O9Y0Z8.jpg\n",
            "/content/WheatDiseaseDataset/train/healthy_wheat/C572GK.jpg\n",
            "/content/WheatDiseaseDataset/train/healthy_wheat/FC45DX.jpg\n",
            "/content/WheatDiseaseDataset/train/healthy_wheat/C0KF9A.jpg\n",
            "/content/WheatDiseaseDataset/train/healthy_wheat/J1R9Z1.jpg\n",
            "/content/WheatDiseaseDataset/train/healthy_wheat/5FSDEI.jpg\n",
            "/content/WheatDiseaseDataset/train/healthy_wheat/R7MQ3K.jpg\n",
            "/content/WheatDiseaseDataset/train/healthy_wheat/4DMP66.jpg\n",
            "/content/WheatDiseaseDataset/train/healthy_wheat/PLB5JZ.jpg\n",
            "/content/WheatDiseaseDataset/train/healthy_wheat/DJVBU8.jpg\n",
            "/content/WheatDiseaseDataset/train/healthy_wheat/6BNDTJ.jpg\n",
            "/content/WheatDiseaseDataset/train/healthy_wheat/3VZ47F.jpg\n",
            "/content/WheatDiseaseDataset/train/healthy_wheat/3C82ZM.jpg\n",
            "/content/WheatDiseaseDataset/train/healthy_wheat/S0V7NA.jpg\n",
            "/content/WheatDiseaseDataset/train/healthy_wheat/QJI3IC.jpg\n",
            "/content/WheatDiseaseDataset/train/healthy_wheat/U0P84E.jpg\n",
            "/content/WheatDiseaseDataset/train/healthy_wheat/3GTKZJ.jpg\n",
            "/content/WheatDiseaseDataset/train/healthy_wheat/508FIK.jpg\n",
            "/content/WheatDiseaseDataset/train/healthy_wheat/TTIIYZ.jpg\n",
            "/content/WheatDiseaseDataset/train/healthy_wheat/C9IXFE.jpg\n",
            "/content/WheatDiseaseDataset/train/healthy_wheat/SG6EGQ.jpg\n",
            "/content/WheatDiseaseDataset/train/healthy_wheat/8S36C7.jpg\n",
            "/content/WheatDiseaseDataset/train/healthy_wheat/CHGSLB.jpg\n",
            "/content/WheatDiseaseDataset/train/healthy_wheat/CHJDTJ.jpg\n",
            "/content/WheatDiseaseDataset/train/healthy_wheat/WGJ7NJ.jpg\n",
            "/content/WheatDiseaseDataset/train/healthy_wheat/OV44OF.jpg\n",
            "/content/WheatDiseaseDataset/train/healthy_wheat/F44CKW.jpg\n",
            "/content/WheatDiseaseDataset/train/healthy_wheat/6T5756.jpg\n",
            "/content/WheatDiseaseDataset/train/healthy_wheat/E56FF6.jpg\n",
            "/content/WheatDiseaseDataset/train/healthy_wheat/NQ15I3.jpg\n",
            "/content/WheatDiseaseDataset/train/healthy_wheat/75H6R9.jpg\n",
            "/content/WheatDiseaseDataset/train/healthy_wheat/TBI0WV.jpg\n",
            "/content/WheatDiseaseDataset/train/healthy_wheat/CQPOHG.jpg\n",
            "/content/WheatDiseaseDataset/train/healthy_wheat/UP8NAQ.jpg\n",
            "/content/WheatDiseaseDataset/train/healthy_wheat/0LBIWV.jpg\n",
            "/content/WheatDiseaseDataset/train/healthy_wheat/OAHCEM.jpg\n",
            "/content/WheatDiseaseDataset/train/healthy_wheat/FSES5U.jpg\n",
            "/content/WheatDiseaseDataset/train/healthy_wheat/I9JOL9.jpg\n"
          ]
        }
      ],
      "source": [
        "#printing path of training dateset\n",
        "for i in training_paths:\n",
        "  print(i)\n"
      ]
    },
    {
      "cell_type": "code",
      "execution_count": 7,
      "metadata": {
        "colab": {
          "base_uri": "https://localhost:8080/"
        },
        "id": "d0uRXuF_wOX-",
        "outputId": "48115a62-bf70-424a-f837-fc32d257e292",
        "vscode": {
          "languageId": "python"
        }
      },
      "outputs": [
        {
          "name": "stdout",
          "output_type": "stream",
          "text": [
            "stem_rust\n"
          ]
        }
      ],
      "source": [
        "#Testing the splitting\n",
        "sp = training_paths[0].split('/')\n",
        "print(sp[4])"
      ]
    },
    {
      "cell_type": "markdown",
      "metadata": {
        "id": "Vm3_jouMQlD8"
      },
      "source": [
        "Do the same for testing data images."
      ]
    },
    {
      "cell_type": "code",
      "execution_count": 8,
      "metadata": {
        "colab": {
          "base_uri": "https://localhost:8080/"
        },
        "id": "H4t8VVDEQIHN",
        "outputId": "a0ec878e-df99-40aa-e8fb-3e771e084e68",
        "vscode": {
          "languageId": "python"
        }
      },
      "outputs": [
        {
          "name": "stdout",
          "output_type": "stream",
          "text": [
            "/content/WheatDiseaseDataset/test/stem_rust/U79432.jpg\n",
            "/content/WheatDiseaseDataset/test/stem_rust/KFTIM5.jpg\n",
            "/content/WheatDiseaseDataset/test/stem_rust/C74T9S.jpg\n",
            "/content/WheatDiseaseDataset/test/stem_rust/3T864F.jpg\n",
            "/content/WheatDiseaseDataset/test/stem_rust/9SLSPS.jpg\n",
            "/content/WheatDiseaseDataset/test/stem_rust/68K0BF.jpg\n",
            "/content/WheatDiseaseDataset/test/stem_rust/IUE37D.jpg\n",
            "/content/WheatDiseaseDataset/test/stem_rust/UZY77Z.jpg\n",
            "/content/WheatDiseaseDataset/test/stem_rust/5RG24C.jpg\n",
            "/content/WheatDiseaseDataset/test/stem_rust/16DV3Z.jpg\n",
            "/content/WheatDiseaseDataset/test/stem_rust/RJAAIW.jpg\n",
            "/content/WheatDiseaseDataset/test/stem_rust/WQG8SV.jpg\n",
            "/content/WheatDiseaseDataset/test/stem_rust/1CQ95E.jpg\n",
            "/content/WheatDiseaseDataset/test/stem_rust/VDO10F.jpg\n",
            "/content/WheatDiseaseDataset/test/stem_rust/FFV2P1.jpg\n",
            "/content/WheatDiseaseDataset/test/stem_rust/P10VUX.jpg\n",
            "/content/WheatDiseaseDataset/test/stem_rust/SMXQG3.jpg\n",
            "/content/WheatDiseaseDataset/test/stem_rust/GSMGBN.jpg\n",
            "/content/WheatDiseaseDataset/test/stem_rust/3YKSFB.jpg\n",
            "/content/WheatDiseaseDataset/test/stem_rust/CEN3K6.jpg\n",
            "/content/WheatDiseaseDataset/test/stem_rust/USE5QD.jpg\n",
            "/content/WheatDiseaseDataset/test/stem_rust/N1H2TZ.jpg\n",
            "/content/WheatDiseaseDataset/test/stem_rust/8V5TRG.jpg\n",
            "/content/WheatDiseaseDataset/test/stem_rust/RQF5OM.jpg\n",
            "/content/WheatDiseaseDataset/test/stem_rust/F8NX3J.jpg\n",
            "/content/WheatDiseaseDataset/test/stem_rust/93HF20.jpg\n",
            "/content/WheatDiseaseDataset/test/stem_rust/Z2FBRE.jpg\n",
            "/content/WheatDiseaseDataset/test/stem_rust/Q19P3U.jpg\n",
            "/content/WheatDiseaseDataset/test/stem_rust/81QY5L.jpg\n",
            "/content/WheatDiseaseDataset/test/stem_rust/11MFER.jpg\n",
            "/content/WheatDiseaseDataset/test/stem_rust/AS8AIF.jpg\n",
            "/content/WheatDiseaseDataset/test/stem_rust/FIS4H9.jpg\n",
            "/content/WheatDiseaseDataset/test/stem_rust/YNZ7GB.jpg\n",
            "/content/WheatDiseaseDataset/test/stem_rust/23ZAZ8.jpg\n",
            "/content/WheatDiseaseDataset/test/stem_rust/YDGB6E.jpg\n",
            "/content/WheatDiseaseDataset/test/stem_rust/9M066B.jpg\n",
            "/content/WheatDiseaseDataset/test/stem_rust/6JT8MO.jpg\n",
            "/content/WheatDiseaseDataset/test/stem_rust/QX8QWT.jpg\n",
            "/content/WheatDiseaseDataset/test/stem_rust/DAO91S.jpg\n",
            "/content/WheatDiseaseDataset/test/stem_rust/GBJ927.jpg\n",
            "/content/WheatDiseaseDataset/test/stem_rust/9TV1CN.jpg\n",
            "/content/WheatDiseaseDataset/test/stem_rust/2XYE4I.jpg\n",
            "/content/WheatDiseaseDataset/test/stem_rust/05LO15.jpg\n",
            "/content/WheatDiseaseDataset/test/stem_rust/2W9RXO.jpg\n",
            "/content/WheatDiseaseDataset/test/stem_rust/GZKGBW.jpg\n",
            "/content/WheatDiseaseDataset/test/stem_rust/VLL64L.jpg\n",
            "/content/WheatDiseaseDataset/test/stem_rust/BXR80S.jpg\n",
            "/content/WheatDiseaseDataset/test/stem_rust/GRVXQ7.jpg\n",
            "/content/WheatDiseaseDataset/test/stem_rust/BXPXA7.jpg\n",
            "/content/WheatDiseaseDataset/test/stem_rust/D3IETN.jpg\n",
            "/content/WheatDiseaseDataset/test/stem_rust/4HPNQR.jpg\n",
            "/content/WheatDiseaseDataset/test/stem_rust/KQQQ9G.jpg\n",
            "/content/WheatDiseaseDataset/test/stem_rust/3IDAF0.jpg\n",
            "/content/WheatDiseaseDataset/test/stem_rust/PMKBPT.jpg\n",
            "/content/WheatDiseaseDataset/test/stem_rust/Z0MIMM.jpg\n",
            "/content/WheatDiseaseDataset/test/stem_rust/58NS1W.jpg\n",
            "/content/WheatDiseaseDataset/test/stem_rust/G63JGO.jpg\n",
            "/content/WheatDiseaseDataset/test/stem_rust/9QSRI2.jpg\n",
            "/content/WheatDiseaseDataset/test/stem_rust/84YCLL.jpg\n",
            "/content/WheatDiseaseDataset/test/stem_rust/IY24RW.jpg\n",
            "/content/WheatDiseaseDataset/test/stem_rust/TUG4XL.jpg\n",
            "/content/WheatDiseaseDataset/test/stem_rust/SL3J76.jpg\n",
            "/content/WheatDiseaseDataset/test/stem_rust/11F0U1.jpg\n",
            "/content/WheatDiseaseDataset/test/stem_rust/H0OU9P.jpg\n",
            "/content/WheatDiseaseDataset/test/stem_rust/3ZLQWN.jpg\n",
            "/content/WheatDiseaseDataset/test/stem_rust/K5MDEY.jpg\n",
            "/content/WheatDiseaseDataset/test/stem_rust/3NNNOP.jpg\n",
            "/content/WheatDiseaseDataset/test/stem_rust/W64VJ1.jpg\n",
            "/content/WheatDiseaseDataset/test/stem_rust/6E4H6K.jpg\n",
            "/content/WheatDiseaseDataset/test/stem_rust/OP6DI8.jpg\n",
            "/content/WheatDiseaseDataset/test/stem_rust/Y84ZW2.jpg\n",
            "/content/WheatDiseaseDataset/test/stem_rust/GPGUYR.jpg\n",
            "/content/WheatDiseaseDataset/test/stem_rust/Z474SF.jpg\n",
            "/content/WheatDiseaseDataset/test/stem_rust/31ZSGD.jpg\n",
            "/content/WheatDiseaseDataset/test/stem_rust/9C1MPX.jpg\n",
            "/content/WheatDiseaseDataset/test/stem_rust/2593U0.jpg\n",
            "/content/WheatDiseaseDataset/test/leaf_rust/LPUQZ3.jpg\n",
            "/content/WheatDiseaseDataset/test/leaf_rust/X557ND.jpg\n",
            "/content/WheatDiseaseDataset/test/leaf_rust/RZCVJT.jpg\n",
            "/content/WheatDiseaseDataset/test/leaf_rust/VCBKV0.jpg\n",
            "/content/WheatDiseaseDataset/test/leaf_rust/ESVFTK.jpg\n",
            "/content/WheatDiseaseDataset/test/leaf_rust/CDGE8K.jpg\n",
            "/content/WheatDiseaseDataset/test/leaf_rust/SL8C30.jpg\n",
            "/content/WheatDiseaseDataset/test/leaf_rust/IEWYAC.jpg\n",
            "/content/WheatDiseaseDataset/test/leaf_rust/6BZC85.jpg\n",
            "/content/WheatDiseaseDataset/test/leaf_rust/ZEJJEC.jpg\n",
            "/content/WheatDiseaseDataset/test/leaf_rust/HH89SE.jpg\n",
            "/content/WheatDiseaseDataset/test/leaf_rust/XGQH0X.jpg\n",
            "/content/WheatDiseaseDataset/test/leaf_rust/N8YT33.jpg\n",
            "/content/WheatDiseaseDataset/test/leaf_rust/IUBFHR.jpg\n",
            "/content/WheatDiseaseDataset/test/leaf_rust/Y5F2K2.jpg\n",
            "/content/WheatDiseaseDataset/test/leaf_rust/1PE28T.jpg\n",
            "/content/WheatDiseaseDataset/test/leaf_rust/ANFXXI.jpg\n",
            "/content/WheatDiseaseDataset/test/leaf_rust/R8QU8G.jpg\n",
            "/content/WheatDiseaseDataset/test/leaf_rust/JRDHFM.jpg\n",
            "/content/WheatDiseaseDataset/test/leaf_rust/MXU8AZ.jpg\n",
            "/content/WheatDiseaseDataset/test/leaf_rust/507S26.jpg\n",
            "/content/WheatDiseaseDataset/test/leaf_rust/FA0EDN.jpg\n",
            "/content/WheatDiseaseDataset/test/leaf_rust/LWJ8WJ.jpg\n",
            "/content/WheatDiseaseDataset/test/leaf_rust/3J5833.jpg\n",
            "/content/WheatDiseaseDataset/test/leaf_rust/HNDRV1.jpg\n",
            "/content/WheatDiseaseDataset/test/leaf_rust/5UARHB.jpg\n",
            "/content/WheatDiseaseDataset/test/leaf_rust/YNVMI7.jpg\n",
            "/content/WheatDiseaseDataset/test/leaf_rust/YVFWPK.jpg\n",
            "/content/WheatDiseaseDataset/test/leaf_rust/N5VHOY.jpg\n",
            "/content/WheatDiseaseDataset/test/leaf_rust/U79ACG.jpg\n",
            "/content/WheatDiseaseDataset/test/leaf_rust/K132UQ.jpg\n",
            "/content/WheatDiseaseDataset/test/leaf_rust/7KMEN7.jpg\n",
            "/content/WheatDiseaseDataset/test/leaf_rust/BUECLC.jpg\n",
            "/content/WheatDiseaseDataset/test/leaf_rust/8PMCCH.jpg\n",
            "/content/WheatDiseaseDataset/test/leaf_rust/C25GLO.jpg\n",
            "/content/WheatDiseaseDataset/test/leaf_rust/274LI8.jpg\n",
            "/content/WheatDiseaseDataset/test/leaf_rust/Q22X4X.jpg\n",
            "/content/WheatDiseaseDataset/test/leaf_rust/X34VGB.jpg\n",
            "/content/WheatDiseaseDataset/test/leaf_rust/83HZBW.jpg\n",
            "/content/WheatDiseaseDataset/test/leaf_rust/FHZTQ9.jpg\n",
            "/content/WheatDiseaseDataset/test/leaf_rust/5QLT82.jpg\n",
            "/content/WheatDiseaseDataset/test/leaf_rust/W6DPGR.jpg\n",
            "/content/WheatDiseaseDataset/test/leaf_rust/BH9GXF.jpg\n",
            "/content/WheatDiseaseDataset/test/leaf_rust/1G2K6F.jpg\n",
            "/content/WheatDiseaseDataset/test/leaf_rust/6Q646B.jpg\n",
            "/content/WheatDiseaseDataset/test/leaf_rust/RSZ63C.jpg\n",
            "/content/WheatDiseaseDataset/test/leaf_rust/D5PGB3.jpg\n",
            "/content/WheatDiseaseDataset/test/leaf_rust/UTUIN4.jpg\n",
            "/content/WheatDiseaseDataset/test/leaf_rust/2D0SXV.jpg\n",
            "/content/WheatDiseaseDataset/test/leaf_rust/AFUJHR.jpg\n",
            "/content/WheatDiseaseDataset/test/leaf_rust/UBR48B.jpg\n",
            "/content/WheatDiseaseDataset/test/leaf_rust/IBPWH7.jpg\n",
            "/content/WheatDiseaseDataset/test/leaf_rust/IOVN1Z.jpg\n",
            "/content/WheatDiseaseDataset/test/leaf_rust/Z0WJ1I.jpg\n",
            "/content/WheatDiseaseDataset/test/leaf_rust/HK3PHP.jpg\n",
            "/content/WheatDiseaseDataset/test/leaf_rust/5HIOBT.jpg\n",
            "/content/WheatDiseaseDataset/test/leaf_rust/1JF4M4.jpg\n",
            "/content/WheatDiseaseDataset/test/leaf_rust/T4PTSX.jpg\n",
            "/content/WheatDiseaseDataset/test/leaf_rust/IIHVXF.jpg\n",
            "/content/WheatDiseaseDataset/test/leaf_rust/DY6IE7.jpg\n",
            "/content/WheatDiseaseDataset/test/leaf_rust/C65MAC.jpg\n",
            "/content/WheatDiseaseDataset/test/leaf_rust/WMDHS9.jpg\n",
            "/content/WheatDiseaseDataset/test/leaf_rust/4AGHVR.jpg\n",
            "/content/WheatDiseaseDataset/test/leaf_rust/5A0INM.jpg\n",
            "/content/WheatDiseaseDataset/test/leaf_rust/V35M9N.jpg\n",
            "/content/WheatDiseaseDataset/test/leaf_rust/85MTOL.jpg\n",
            "/content/WheatDiseaseDataset/test/leaf_rust/EGGGXN.jpg\n",
            "/content/WheatDiseaseDataset/test/leaf_rust/0FX4J2.jpg\n",
            "/content/WheatDiseaseDataset/test/leaf_rust/1ETABC.jpg\n",
            "/content/WheatDiseaseDataset/test/leaf_rust/BX298Q.jpg\n",
            "/content/WheatDiseaseDataset/test/leaf_rust/Y1OCV6.jpg\n",
            "/content/WheatDiseaseDataset/test/leaf_rust/CN42FG.jpg\n",
            "/content/WheatDiseaseDataset/test/healthy_wheat/DSZYA9.jpg\n",
            "/content/WheatDiseaseDataset/test/healthy_wheat/H75C3Z.jpg\n",
            "/content/WheatDiseaseDataset/test/healthy_wheat/6JXL0N.jpg\n",
            "/content/WheatDiseaseDataset/test/healthy_wheat/E7W6KS.jpg\n",
            "/content/WheatDiseaseDataset/test/healthy_wheat/ZB9CAK.jpg\n",
            "/content/WheatDiseaseDataset/test/healthy_wheat/6ZB3R6.jpg\n",
            "/content/WheatDiseaseDataset/test/healthy_wheat/R1GKEP.jpg\n",
            "/content/WheatDiseaseDataset/test/healthy_wheat/5WTM0W.jpg\n",
            "/content/WheatDiseaseDataset/test/healthy_wheat/M97WV0.jpg\n",
            "/content/WheatDiseaseDataset/test/healthy_wheat/WKOFOG.jpg\n",
            "/content/WheatDiseaseDataset/test/healthy_wheat/341R1E.jpg\n",
            "/content/WheatDiseaseDataset/test/healthy_wheat/67AESM.jpg\n",
            "/content/WheatDiseaseDataset/test/healthy_wheat/QJGRTR.jpg\n",
            "/content/WheatDiseaseDataset/test/healthy_wheat/WUAVW0.jpg\n",
            "/content/WheatDiseaseDataset/test/healthy_wheat/89HHA3.jpg\n",
            "/content/WheatDiseaseDataset/test/healthy_wheat/33J5MM.jpg\n",
            "/content/WheatDiseaseDataset/test/healthy_wheat/JNFAO1.jpg\n",
            "/content/WheatDiseaseDataset/test/healthy_wheat/DKP3ZM.jpg\n",
            "/content/WheatDiseaseDataset/test/healthy_wheat/LVJTB0.jpg\n",
            "/content/WheatDiseaseDataset/test/healthy_wheat/6D89ME.jpg\n",
            "/content/WheatDiseaseDataset/test/healthy_wheat/D55G9F.jpg\n",
            "/content/WheatDiseaseDataset/test/healthy_wheat/PGA3WH.jpg\n",
            "/content/WheatDiseaseDataset/test/healthy_wheat/DJO3I3.jpg\n",
            "/content/WheatDiseaseDataset/test/healthy_wheat/2KS7HG.jpg\n",
            "/content/WheatDiseaseDataset/test/healthy_wheat/ZTXKZU.jpg\n",
            "/content/WheatDiseaseDataset/test/healthy_wheat/FXWFGU.jpg\n",
            "/content/WheatDiseaseDataset/test/healthy_wheat/GKK6S3.jpg\n",
            "/content/WheatDiseaseDataset/test/healthy_wheat/03TD19.jpg\n",
            "/content/WheatDiseaseDataset/test/healthy_wheat/HV8FS9.jpg\n",
            "177\n"
          ]
        }
      ],
      "source": [
        "# code here\n",
        "test_paths = list()\n",
        "for name in glob.glob(\"/content/WheatDiseaseDataset/test/*\",recursive=True):\n",
        "  for files in glob.glob(name + \"/*\",recursive=True):\n",
        "    print(files)\n",
        "    test_paths.append(files)\n",
        "print(len(test_paths))"
      ]
    },
    {
      "cell_type": "markdown",
      "metadata": {
        "id": "PuMloSgvhuoq"
      },
      "source": [
        "### Labels"
      ]
    },
    {
      "cell_type": "code",
      "execution_count": 9,
      "metadata": {
        "colab": {
          "base_uri": "https://localhost:8080/"
        },
        "id": "7gFoRUIdhN0w",
        "outputId": "b768b69f-c64e-4679-85f4-fa471a18f0f5",
        "vscode": {
          "languageId": "python"
        }
      },
      "outputs": [
        {
          "name": "stdout",
          "output_type": "stream",
          "text": [
            "{'healthy_wheat': 0, 'leaf_rust': 1, 'stem_rust': 2}\n"
          ]
        }
      ],
      "source": [
        "my_labels={}\n",
        "my_labels['healthy_wheat'] = 0\n",
        "my_labels['leaf_rust'] = 1\n",
        "my_labels['stem_rust'] = 2\n",
        "print(my_labels)"
      ]
    },
    {
      "cell_type": "markdown",
      "metadata": {
        "id": "rzE7J7vQXr42"
      },
      "source": [
        "### Preprocessing"
      ]
    },
    {
      "cell_type": "markdown",
      "metadata": {
        "id": "zaLNCsbAXkmD"
      },
      "source": [
        "Preprocessing of data such as normalization, mean shift, make the learning task simple for network and could accelerate the training process. In this task, we will only do normaliztion.\n",
        "\n",
        "In images, pixel values range from 0 to 255. To shift the values between (0,1) range, divide input image by 255.\n"
      ]
    },
    {
      "cell_type": "code",
      "execution_count": 10,
      "metadata": {
        "id": "94HiFqveQwGY",
        "vscode": {
          "languageId": "python"
        }
      },
      "outputs": [],
      "source": [
        "def preprocessing_norm(images):\n",
        "    return np.divide(images,255)"
      ]
    },
    {
      "cell_type": "code",
      "execution_count": 11,
      "metadata": {
        "id": "ETFQgnFOYTLt",
        "vscode": {
          "languageId": "python"
        }
      },
      "outputs": [],
      "source": [
        "# Data generator function here.\n",
        "def batch_generator(training_paths):\n",
        "  train_list = list()\n",
        "  # Reading the images in a numpy array\n",
        "  for i in range(len(training_paths)):\n",
        "    img = cv2.imread(training_paths[i]).astype(\"float32\")\n",
        "    # Resizing the images to the input shape\n",
        "    img.resize(256,256,3)\n",
        "    #preprocessing the images\n",
        "    img = preprocessing_norm(img)\n",
        "    #Taking transporse to convert (256x256x3) to (3x256x256)\n",
        "    img = np.transpose(img)\n",
        "    #Making the list for tuples\n",
        "    train_list.append((img,my_labels[training_paths[i].split('/')[4]]))\n",
        "  return train_list\n",
        "\n",
        "\n",
        "\n",
        "\n"
      ]
    },
    {
      "cell_type": "code",
      "execution_count": 12,
      "metadata": {
        "id": "WawdX9uXg9A9",
        "vscode": {
          "languageId": "python"
        }
      },
      "outputs": [],
      "source": [
        "# code here\n",
        "train_dataloader = DataLoader(batch_generator(training_paths), batch_size=batch_size, shuffle=True)\n",
        "#test_dataloader = DataLoader(test_data, batch_size=64, shuffle=True)\n",
        "\n"
      ]
    },
    {
      "cell_type": "code",
      "execution_count": 13,
      "metadata": {
        "colab": {
          "base_uri": "https://localhost:8080/"
        },
        "id": "ZLNe_OYEM57u",
        "outputId": "d81d4ba5-3af0-4771-ee04-25f0829ea7d1",
        "vscode": {
          "languageId": "python"
        }
      },
      "outputs": [
        {
          "name": "stdout",
          "output_type": "stream",
          "text": [
            "22\n",
            "<torch.utils.data.dataloader.DataLoader object at 0x7f69d77b5950>\n"
          ]
        }
      ],
      "source": [
        "print(len(train_dataloader))\n",
        "print(train_dataloader)"
      ]
    },
    {
      "cell_type": "code",
      "execution_count": 14,
      "metadata": {
        "id": "BqtPQJq3ifkT",
        "vscode": {
          "languageId": "python"
        }
      },
      "outputs": [],
      "source": [
        "# code here\n",
        "#Dense layer are basically the linear layers\n",
        "class Net(nn.Module):\n",
        "  def __init__(self):\n",
        "    super(Net,self).__init__()\n",
        "    self.conv1 = nn.Conv2d(3,256,kernel_size=5,stride = 2,padding=0)\n",
        "    self.batchnorm1 = nn.BatchNorm2d(256)\n",
        "    self.relu = nn.ReLU(inplace = True)\n",
        "    self.drop1 = nn.Dropout(0.2)\n",
        "    #Second conv layer\n",
        "    self.conv2 = nn.Conv2d(256,128,kernel_size=3,stride = 2,padding=0)\n",
        "    self.batchnorm2 = nn.BatchNorm2d(128)\n",
        "    #Third Conv layer\n",
        "    self.conv3 = nn.Conv2d(128,64,kernel_size=3,stride = 2,padding=0)\n",
        "    self.batchnorm3 = nn.BatchNorm2d(64)\n",
        "    #Fourth Conv layer\n",
        "    self.conv4 = nn.Conv2d(64,32,kernel_size=3,stride = 2,padding=0)\n",
        "    self.batchnorm4 = nn.BatchNorm2d(32)\n",
        "    #fifth Conv layer \n",
        "    self.conv5 = nn.Conv2d(32,16,kernel_size=3,stride = 2,padding=0)\n",
        "    self.batchnorm5 = nn.BatchNorm2d(16)\n",
        "\n",
        "    self.linear1 = nn.Linear(576,32)\n",
        "    self.linear2 = nn.Linear(32,3)\n",
        "\n",
        "  def forward(self,x):\n",
        "    x = self.drop1(self.relu(self.batchnorm1(self.conv1(x))))\n",
        "    x = self.drop1(self.relu(self.batchnorm2(self.conv2(x))))\n",
        "    x = self.drop1(self.relu(self.batchnorm3(self.conv3(x))))\n",
        "    x = self.drop1(self.relu(self.batchnorm4(self.conv4(x))))\n",
        "    x = self.drop1(self.relu(self.batchnorm5(self.conv5(x))))\n",
        "    x = torch.flatten(x,start_dim=1)\n",
        "    x = self.drop1(self.relu(self.linear1(x)))\n",
        "    x = self.linear2(x)\n",
        "\n",
        "    return x\n",
        "\n",
        "\n",
        "\n",
        "\n",
        "\n",
        "\n"
      ]
    },
    {
      "cell_type": "markdown",
      "metadata": {
        "id": "k4nH-YF8emCo"
      },
      "source": [
        "Initialize network and cast it to device declared above. (Hint: net.to(device) )"
      ]
    },
    {
      "cell_type": "code",
      "execution_count": 15,
      "metadata": {
        "colab": {
          "base_uri": "https://localhost:8080/"
        },
        "id": "_QJPPW_ke5vq",
        "outputId": "6eb83b5e-6f44-481a-9f98-920e0109e799",
        "vscode": {
          "languageId": "python"
        }
      },
      "outputs": [
        {
          "data": {
            "text/plain": [
              "Net(\n",
              "  (conv1): Conv2d(3, 256, kernel_size=(5, 5), stride=(2, 2))\n",
              "  (batchnorm1): BatchNorm2d(256, eps=1e-05, momentum=0.1, affine=True, track_running_stats=True)\n",
              "  (relu): ReLU(inplace=True)\n",
              "  (drop1): Dropout(p=0.2, inplace=False)\n",
              "  (conv2): Conv2d(256, 128, kernel_size=(3, 3), stride=(2, 2))\n",
              "  (batchnorm2): BatchNorm2d(128, eps=1e-05, momentum=0.1, affine=True, track_running_stats=True)\n",
              "  (conv3): Conv2d(128, 64, kernel_size=(3, 3), stride=(2, 2))\n",
              "  (batchnorm3): BatchNorm2d(64, eps=1e-05, momentum=0.1, affine=True, track_running_stats=True)\n",
              "  (conv4): Conv2d(64, 32, kernel_size=(3, 3), stride=(2, 2))\n",
              "  (batchnorm4): BatchNorm2d(32, eps=1e-05, momentum=0.1, affine=True, track_running_stats=True)\n",
              "  (conv5): Conv2d(32, 16, kernel_size=(3, 3), stride=(2, 2))\n",
              "  (batchnorm5): BatchNorm2d(16, eps=1e-05, momentum=0.1, affine=True, track_running_stats=True)\n",
              "  (linear1): Linear(in_features=576, out_features=32, bias=True)\n",
              "  (linear2): Linear(in_features=32, out_features=3, bias=True)\n",
              ")"
            ]
          },
          "execution_count": 15,
          "metadata": {},
          "output_type": "execute_result"
        }
      ],
      "source": [
        "# code here\n",
        "net = Net()\n",
        "net.to(device)\n",
        "\n",
        "\n"
      ]
    },
    {
      "cell_type": "code",
      "execution_count": 16,
      "metadata": {
        "colab": {
          "base_uri": "https://localhost:8080/"
        },
        "id": "ICCO7PkclXxx",
        "outputId": "75e11bc2-f793-4af3-c49c-ad1b213b2d50",
        "vscode": {
          "languageId": "python"
        }
      },
      "outputs": [
        {
          "name": "stdout",
          "output_type": "stream",
          "text": [
            "----------------------------------------------------------------\n",
            "        Layer (type)               Output Shape         Param #\n",
            "================================================================\n",
            "            Conv2d-1        [-1, 256, 126, 126]          19,456\n",
            "       BatchNorm2d-2        [-1, 256, 126, 126]             512\n",
            "              ReLU-3        [-1, 256, 126, 126]               0\n",
            "           Dropout-4        [-1, 256, 126, 126]               0\n",
            "            Conv2d-5          [-1, 128, 62, 62]         295,040\n",
            "       BatchNorm2d-6          [-1, 128, 62, 62]             256\n",
            "              ReLU-7          [-1, 128, 62, 62]               0\n",
            "           Dropout-8          [-1, 128, 62, 62]               0\n",
            "            Conv2d-9           [-1, 64, 30, 30]          73,792\n",
            "      BatchNorm2d-10           [-1, 64, 30, 30]             128\n",
            "             ReLU-11           [-1, 64, 30, 30]               0\n",
            "          Dropout-12           [-1, 64, 30, 30]               0\n",
            "           Conv2d-13           [-1, 32, 14, 14]          18,464\n",
            "      BatchNorm2d-14           [-1, 32, 14, 14]              64\n",
            "             ReLU-15           [-1, 32, 14, 14]               0\n",
            "          Dropout-16           [-1, 32, 14, 14]               0\n",
            "           Conv2d-17             [-1, 16, 6, 6]           4,624\n",
            "      BatchNorm2d-18             [-1, 16, 6, 6]              32\n",
            "             ReLU-19             [-1, 16, 6, 6]               0\n",
            "          Dropout-20             [-1, 16, 6, 6]               0\n",
            "           Linear-21                   [-1, 32]          18,464\n",
            "             ReLU-22                   [-1, 32]               0\n",
            "          Dropout-23                   [-1, 32]               0\n",
            "           Linear-24                    [-1, 3]              99\n",
            "================================================================\n",
            "Total params: 430,931\n",
            "Trainable params: 430,931\n",
            "Non-trainable params: 0\n",
            "----------------------------------------------------------------\n",
            "Input size (MB): 0.75\n",
            "Forward/backward pass size (MB): 141.01\n",
            "Params size (MB): 1.64\n",
            "Estimated Total Size (MB): 143.41\n",
            "----------------------------------------------------------------\n"
          ]
        }
      ],
      "source": [
        "#print model summary here\n",
        "summary(net,(input_shape))\n"
      ]
    },
    {
      "cell_type": "markdown",
      "metadata": {
        "id": "rdMNyisQolHQ"
      },
      "source": [
        "Define [CrossEntropy Loss](https://pytorch.org/docs/stable/generated/torch.nn.CrossEntropyLoss.html) and [RMSprop](https://pytorch.org/docs/stable/optim.html#:~:text=Implements%20RAdam%20algorithm.-,RMSprop,-Implements%20RMSprop%20algorithm) optimizer here. (Hint: See the links to understand how to do this.)"
      ]
    },
    {
      "cell_type": "code",
      "execution_count": 17,
      "metadata": {
        "id": "4P38jPGImOgN",
        "vscode": {
          "languageId": "python"
        }
      },
      "outputs": [],
      "source": [
        "# Code here\n",
        "criterion = nn.CrossEntropyLoss()\n",
        "optimizer = optim.RMSprop(net.parameters(), lr=0.001, momentum=0.9)"
      ]
    },
    {
      "cell_type": "code",
      "execution_count": 18,
      "metadata": {
        "id": "H5wx1COvjFpu",
        "vscode": {
          "languageId": "python"
        }
      },
      "outputs": [],
      "source": [
        "# Intialize num_training_batches.\n",
        "num_training_batches = 100\n"
      ]
    },
    {
      "cell_type": "markdown",
      "metadata": {
        "id": "pbdoekcgqcG8"
      },
      "source": [
        "Train the network here. You can have look [here](https://pytorch.org/tutorials/beginner/introyt/trainingyt.html#:~:text=0.001%2C%20momentum%3D0.9) to understand how to do this. Remember to convert your data and labels to pytorch tensors and cast to device before passing it to the network. Also, record the training loss for plotting purposes."
      ]
    },
    {
      "cell_type": "code",
      "execution_count": 18,
      "metadata": {
        "id": "iDJ4fwcxqQzd",
        "vscode": {
          "languageId": "python"
        }
      },
      "outputs": [],
      "source": []
    },
    {
      "cell_type": "code",
      "execution_count": 19,
      "metadata": {
        "colab": {
          "base_uri": "https://localhost:8080/"
        },
        "id": "B1n7JxDS6Ec4",
        "outputId": "f94cf4f4-7b45-4032-8f02-0d68f3c32f8d",
        "vscode": {
          "languageId": "python"
        }
      },
      "outputs": [
        {
          "name": "stderr",
          "output_type": "stream",
          "text": [
            "/usr/local/lib/python3.7/dist-packages/ipykernel_launcher.py:7: UserWarning: To copy construct from a tensor, it is recommended to use sourceTensor.clone().detach() or sourceTensor.clone().detach().requires_grad_(True), rather than torch.tensor(sourceTensor).\n",
            "  import sys\n"
          ]
        },
        {
          "name": "stdout",
          "output_type": "stream",
          "text": [
            "Loss epoch = 0 loss 0.7736261412501335\n",
            "Loss epoch = 1 loss 0.6985497083514929\n",
            "Loss epoch = 2 loss 0.64127884991467\n",
            "Loss epoch = 3 loss 0.6489718426018953\n",
            "Loss epoch = 4 loss 0.6250562928617001\n",
            "Loss epoch = 5 loss 0.6103909257799387\n",
            "Loss epoch = 6 loss 0.6018358282744884\n",
            "Loss epoch = 7 loss 0.5837474334985018\n",
            "Loss epoch = 8 loss 0.5855809710919857\n",
            "Loss epoch = 9 loss 0.5819701440632343\n",
            "Loss epoch = 10 loss 0.5664568524807692\n",
            "Loss epoch = 11 loss 0.5615800227969885\n",
            "Loss epoch = 12 loss 0.545589093118906\n",
            "Loss epoch = 13 loss 0.5368403699249029\n",
            "Loss epoch = 14 loss 0.5250109061598778\n",
            "Loss epoch = 15 loss 0.5242227986454964\n",
            "Loss epoch = 16 loss 0.4978689346462488\n",
            "Loss epoch = 17 loss 0.5099400356411934\n",
            "Loss epoch = 18 loss 0.483019445091486\n",
            "Loss epoch = 19 loss 0.46489704959094524\n",
            "Loss epoch = 20 loss 0.4266720488667488\n",
            "Loss epoch = 21 loss 0.43013670295476913\n",
            "Loss epoch = 22 loss 0.3931772196665406\n",
            "Loss epoch = 23 loss 0.37965742964297533\n",
            "Loss epoch = 24 loss 0.35901068802922964\n",
            "[0.7736261412501335, 0.6985497083514929, 0.64127884991467, 0.6489718426018953, 0.6250562928617001, 0.6103909257799387, 0.6018358282744884, 0.5837474334985018, 0.5855809710919857, 0.5819701440632343, 0.5664568524807692, 0.5615800227969885, 0.545589093118906, 0.5368403699249029, 0.5250109061598778, 0.5242227986454964, 0.4978689346462488, 0.5099400356411934, 0.483019445091486, 0.46489704959094524, 0.4266720488667488, 0.43013670295476913, 0.3931772196665406, 0.37965742964297533, 0.35901068802922964]\n"
          ]
        }
      ],
      "source": [
        "temp = list()\n",
        "for epoch in range(epochs):\n",
        "  running_loss =0.0\n",
        "  for i , data in enumerate(train_dataloader,0):\n",
        "    inputs ,labels = data\n",
        "    inputs = inputs.to(device)\n",
        "    labels = torch.tensor(labels)\n",
        "    labels =labels.to(device)\n",
        "    optimizer.zero_grad()\n",
        "    outputs = net(inputs)\n",
        "    loss = criterion(outputs, labels)\n",
        "    loss.backward()\n",
        "    optimizer.step()\n",
        "    running_loss += loss.item()\n",
        "  last_loss = running_loss / 32 # loss per batch\n",
        "  print(\"Loss epoch = {} loss {}\".format(epoch,last_loss))\n",
        "  temp.append(last_loss)\n",
        "  running_loss = 0\n",
        "\n",
        "    \n",
        "print(temp)\n"
      ]
    },
    {
      "cell_type": "markdown",
      "metadata": {
        "id": "kyJpvWw4Qqj5"
      },
      "source": [
        "Plot the loss graph of training."
      ]
    },
    {
      "cell_type": "code",
      "execution_count": 20,
      "metadata": {
        "colab": {
          "base_uri": "https://localhost:8080/",
          "height": 265
        },
        "id": "fWjSBUpaREsx",
        "outputId": "a449be2c-514c-4b2c-e96c-c7f4a1a59562",
        "vscode": {
          "languageId": "python"
        }
      },
      "outputs": [
        {
          "data": {
            "image/png": "[encoded data removed]",
            "text/plain": [
              "<Figure size 432x288 with 1 Axes>"
            ]
          },
          "metadata": {
            "needs_background": "light"
          },
          "output_type": "display_data"
        }
      ],
      "source": [
        "# Loss Plot\n",
        "x = np.array([_ for _ in range(0,25)])\n",
        "y = np.array(temp)\n",
        "plt.plot(x, y)\n",
        "plt.show()"
      ]
    },
    {
      "cell_type": "markdown",
      "metadata": {
        "id": "E93C9atGR5Ln"
      },
      "source": [
        "### Evaluation"
      ]
    },
    {
      "cell_type": "code",
      "execution_count": 21,
      "metadata": {
        "id": "wJU9SfXsSHg4",
        "vscode": {
          "languageId": "python"
        }
      },
      "outputs": [],
      "source": [
        "# code here\n",
        "test_dataloader = DataLoader(batch_generator(test_paths), batch_size=batch_size, shuffle=True)"
      ]
    },
    {
      "cell_type": "markdown",
      "metadata": {
        "id": "WUYgSbLBoPmw"
      },
      "source": [
        "Put the network in eval mode using your_model.eval()"
      ]
    },
    {
      "cell_type": "code",
      "execution_count": 22,
      "metadata": {
        "colab": {
          "base_uri": "https://localhost:8080/"
        },
        "id": "A-zj93WBoblN",
        "outputId": "20d18c7a-6b90-4658-fdad-6c512a5c3733",
        "vscode": {
          "languageId": "python"
        }
      },
      "outputs": [
        {
          "data": {
            "text/plain": [
              "Net(\n",
              "  (conv1): Conv2d(3, 256, kernel_size=(5, 5), stride=(2, 2))\n",
              "  (batchnorm1): BatchNorm2d(256, eps=1e-05, momentum=0.1, affine=True, track_running_stats=True)\n",
              "  (relu): ReLU(inplace=True)\n",
              "  (drop1): Dropout(p=0.2, inplace=False)\n",
              "  (conv2): Conv2d(256, 128, kernel_size=(3, 3), stride=(2, 2))\n",
              "  (batchnorm2): BatchNorm2d(128, eps=1e-05, momentum=0.1, affine=True, track_running_stats=True)\n",
              "  (conv3): Conv2d(128, 64, kernel_size=(3, 3), stride=(2, 2))\n",
              "  (batchnorm3): BatchNorm2d(64, eps=1e-05, momentum=0.1, affine=True, track_running_stats=True)\n",
              "  (conv4): Conv2d(64, 32, kernel_size=(3, 3), stride=(2, 2))\n",
              "  (batchnorm4): BatchNorm2d(32, eps=1e-05, momentum=0.1, affine=True, track_running_stats=True)\n",
              "  (conv5): Conv2d(32, 16, kernel_size=(3, 3), stride=(2, 2))\n",
              "  (batchnorm5): BatchNorm2d(16, eps=1e-05, momentum=0.1, affine=True, track_running_stats=True)\n",
              "  (linear1): Linear(in_features=576, out_features=32, bias=True)\n",
              "  (linear2): Linear(in_features=32, out_features=3, bias=True)\n",
              ")"
            ]
          },
          "execution_count": 22,
          "metadata": {},
          "output_type": "execute_result"
        }
      ],
      "source": [
        "# code here\n",
        "net.eval()"
      ]
    },
    {
      "cell_type": "markdown",
      "metadata": {
        "id": "iDm1xMHQSh7w"
      },
      "source": [
        "Now, make predictions on test data. Cast the outputs to cpu and convert to numpy (using outputs.cpu().numpy()). If you get memory error then you can loop over all images one by one and then make and store the prediction."
      ]
    },
    {
      "cell_type": "code",
      "execution_count": 23,
      "metadata": {
        "colab": {
          "base_uri": "https://localhost:8080/"
        },
        "id": "nW6lX6yUSc0T",
        "outputId": "c51df64d-cbce-4f29-e285-d92186d971be",
        "vscode": {
          "languageId": "python"
        }
      },
      "outputs": [
        {
          "name": "stdout",
          "output_type": "stream",
          "text": [
            "tensor([[ 4.8367e+00, -5.5388e-01, -4.3176e+00],\n",
            "        [ 2.3694e-01, -1.7971e+00,  2.6971e-01],\n",
            "        [-1.1616e+00, -8.8864e-01,  7.6359e-01],\n",
            "        [-3.2950e+00,  1.7656e+00,  9.0886e-01],\n",
            "        [-2.4617e+00,  1.5098e+00,  6.1796e-01],\n",
            "        [-3.7922e+00, -1.1961e+00,  2.1791e+00],\n",
            "        [-4.9417e+00,  1.4112e+00,  2.7702e+00],\n",
            "        [ 1.3048e+00, -1.1974e+00, -2.1207e-01],\n",
            "        [-9.9183e-01,  4.0493e-02,  1.8874e-01],\n",
            "        [ 9.9810e-01, -5.0611e-03, -9.1259e-01],\n",
            "        [-3.5992e+00,  3.0094e+00,  1.1142e+00],\n",
            "        [-2.5058e+00,  1.7219e+00,  7.4377e-01],\n",
            "        [-4.3953e-01, -8.0867e-01,  3.5774e-01],\n",
            "        [-2.3847e+00, -9.0584e-01,  8.9096e-01],\n",
            "        [-1.3388e+00, -3.8489e+00,  1.8986e+00],\n",
            "        [-4.7183e+00,  1.4192e+00,  1.8168e+00],\n",
            "        [-4.6126e+00,  1.9599e+00,  1.0621e+00],\n",
            "        [-2.5363e-01,  6.0998e+00,  1.8556e+00],\n",
            "        [-7.2109e+00,  2.9946e+00,  2.6038e+00],\n",
            "        [-2.6625e+00, -8.4805e-01,  1.0146e+00],\n",
            "        [-3.6477e+00, -1.2475e-01,  1.5258e+00],\n",
            "        [-2.3619e+00, -2.7251e+00,  2.0118e+00],\n",
            "        [-3.8501e-01, -1.9030e+00,  6.5990e-01],\n",
            "        [-4.6758e+00,  2.1209e+00,  1.5407e+00],\n",
            "        [-5.2937e+00, -4.7705e-01,  2.4644e+00],\n",
            "        [-6.3032e+00,  1.8943e+00,  3.0823e+00],\n",
            "        [ 3.2447e-01, -2.0874e+00,  3.4099e-01],\n",
            "        [-3.4471e+00, -5.1850e-01,  1.6777e+00],\n",
            "        [-9.9183e-01,  4.0493e-02,  1.8874e-01],\n",
            "        [-2.9113e+00,  1.7542e+00,  9.0764e-01],\n",
            "        [-1.9625e-01, -9.8507e-01,  3.3307e-01],\n",
            "        [-7.8361e-01, -1.1766e+00,  5.9308e-01]], device='cuda:0')\n",
            "tensor([[-2.7489e-01, -3.3122e+00,  1.2064e+00],\n",
            "        [ 9.9810e-01, -5.0611e-03, -9.1259e-01],\n",
            "        [ 4.2150e-01,  1.0483e+00, -5.9471e-01],\n",
            "        [-5.9758e-01, -3.6180e+00,  1.5854e+00],\n",
            "        [ 1.1942e-01, -1.6441e+00,  2.7697e-01],\n",
            "        [ 6.3095e+00, -5.4882e-01, -5.5780e+00],\n",
            "        [ 1.9287e-01, -1.5217e+00,  1.9452e-01],\n",
            "        [-3.2431e+00,  2.1047e+00,  1.0883e+00],\n",
            "        [ 2.4548e-01, -1.8361e+00,  3.2791e-01],\n",
            "        [-5.4232e+00,  4.4219e+00,  1.9557e+00],\n",
            "        [-1.7640e+00,  2.0019e+00,  6.7923e-01],\n",
            "        [-6.1286e+00,  6.1794e-01,  2.6770e+00],\n",
            "        [-3.6786e+00,  3.4971e+00,  9.7952e-01],\n",
            "        [-1.7058e+00,  3.6691e+00,  7.6255e-01],\n",
            "        [-2.8650e+00,  3.1253e+00,  5.8222e-01],\n",
            "        [-3.1422e+00, -2.1238e+00,  2.1301e+00],\n",
            "        [-2.7730e+00,  1.6225e+00,  9.6098e-01],\n",
            "        [-6.7641e-01, -2.2368e+00,  9.6727e-01],\n",
            "        [-5.9414e+00, -7.7737e-01,  3.1199e+00],\n",
            "        [ 7.8500e-02,  7.5417e-01, -4.0485e-01],\n",
            "        [-1.0725e+00,  1.5570e+00,  1.0699e-01],\n",
            "        [-6.4903e+00, -3.8756e+00,  4.6374e+00],\n",
            "        [-1.3555e+00, -2.6729e+00,  1.3292e+00],\n",
            "        [-2.2963e+00,  2.0899e+00,  9.2357e-01],\n",
            "        [-6.2663e+00,  4.2027e+00,  2.6048e+00],\n",
            "        [-6.8373e+00,  1.0821e+00,  2.6707e+00],\n",
            "        [ 1.5476e-01,  2.1655e+00, -1.8951e-01],\n",
            "        [ 6.4318e+00, -2.7044e-01, -5.7084e+00],\n",
            "        [-2.8060e+00,  1.4112e+00,  7.6237e-01],\n",
            "        [-7.4865e-01,  1.6604e+00,  5.5214e-02],\n",
            "        [-5.8143e+00, -1.1211e+00,  2.9370e+00],\n",
            "        [-1.9147e+00, -2.2594e+00,  1.6079e+00]], device='cuda:0')\n",
            "tensor([[-4.4512e+00,  3.7561e+00,  1.5336e+00],\n",
            "        [-3.6477e+00, -1.2475e-01,  1.5258e+00],\n",
            "        [-7.6686e-01,  1.5143e+00, -4.1695e-02],\n",
            "        [-1.1638e+00, -2.5533e+00,  1.1489e+00],\n",
            "        [-4.2833e+00,  3.4168e+00,  1.4040e+00],\n",
            "        [ 2.8680e-01, -1.4442e+00, -2.2129e-02],\n",
            "        [-4.0572e-01, -2.4666e-01,  1.5535e-01],\n",
            "        [-1.5827e+00, -1.5627e+00,  1.0082e+00],\n",
            "        [-9.3617e-02,  1.7001e+00, -2.2500e-01],\n",
            "        [-6.4735e+00,  2.2948e+00,  2.8652e+00],\n",
            "        [-1.8390e+00, -1.5144e+00,  1.6170e+00],\n",
            "        [ 2.5210e+00,  1.0514e-01, -2.4470e+00],\n",
            "        [ 3.3409e+00,  1.4031e+00, -3.2720e+00],\n",
            "        [ 1.3825e+00,  1.5281e-02, -1.1844e+00],\n",
            "        [ 3.8991e-01,  6.4779e-01, -9.4544e-01],\n",
            "        [-2.2115e+00, -2.0841e+00,  1.5177e+00],\n",
            "        [-5.5260e+00, -1.1376e+00,  2.8003e+00],\n",
            "        [-1.8203e+00, -5.2338e-02,  8.0826e-01],\n",
            "        [-5.8011e+00,  1.1132e-02,  2.9803e+00],\n",
            "        [-1.0150e+00,  2.0487e+00, -1.5283e-03],\n",
            "        [-2.9135e+00,  2.5409e+00,  1.1579e+00],\n",
            "        [-3.5873e-01,  5.0551e-01, -6.4981e-01],\n",
            "        [-4.4884e+00,  3.8615e+00,  1.7901e+00],\n",
            "        [-7.5926e+00, -1.0534e+00,  3.7162e+00],\n",
            "        [-4.9784e+00,  5.0589e-01,  2.3416e+00],\n",
            "        [-2.3798e+00,  1.4739e+00,  9.4092e-01],\n",
            "        [ 9.8036e-01,  1.4673e+00, -8.7987e-01],\n",
            "        [-1.2532e+00, -1.0047e-01,  3.9869e-01],\n",
            "        [ 6.3611e-01, -3.3348e-02, -8.4879e-01],\n",
            "        [-2.0034e+00, -1.4796e+00,  1.2935e+00],\n",
            "        [-6.7540e+00, -2.6308e+00,  3.8789e+00],\n",
            "        [-3.9778e+00,  3.7478e+00,  1.2751e+00]], device='cuda:0')\n",
            "tensor([[-0.4123,  0.7845,  0.0263],\n",
            "        [-3.9132,  1.2481,  1.2725],\n",
            "        [-0.4539, -1.3347,  0.5007],\n",
            "        [-3.7464,  1.1167,  1.6233],\n",
            "        [-2.2649, -1.9183,  1.7537],\n",
            "        [-2.9472,  0.5658,  1.1530],\n",
            "        [-6.6321, -4.2652,  4.9031],\n",
            "        [-1.2446,  1.0918,  0.2920],\n",
            "        [-3.9558, -0.6798,  1.9244],\n",
            "        [-3.8496,  4.1664,  1.3464],\n",
            "        [ 0.7598, -4.7747,  1.2871],\n",
            "        [-2.9245, -3.3510,  2.4366],\n",
            "        [-2.4158,  2.9539,  0.8923],\n",
            "        [-0.2790,  1.9801, -0.1390],\n",
            "        [ 0.5455, -3.6166,  0.9824],\n",
            "        [-4.1142, -2.0250,  2.5375],\n",
            "        [-5.4232,  4.4219,  1.9557],\n",
            "        [-4.0464, -1.4341,  2.3099],\n",
            "        [-4.3808,  0.6072,  1.7193],\n",
            "        [-1.7564,  1.0466,  0.4783],\n",
            "        [-4.5713, -2.5343,  3.1860],\n",
            "        [-3.4033,  3.5274,  1.1176],\n",
            "        [-0.9925,  2.7400,  0.8251],\n",
            "        [-4.3219,  0.1429,  1.9245],\n",
            "        [-3.6120,  3.5973,  1.3998],\n",
            "        [-3.1999,  1.3102,  1.0038],\n",
            "        [-0.2383,  3.3540, -0.4343],\n",
            "        [-3.7656,  1.6895,  1.5086],\n",
            "        [-2.0458, -4.4174,  2.4548],\n",
            "        [-3.3883,  4.4934,  1.0790],\n",
            "        [-3.7947, -1.9490,  2.3459],\n",
            "        [ 0.8415,  2.6246, -0.2808]], device='cuda:0')\n",
            "tensor([[-5.7257,  4.0815,  1.9543],\n",
            "        [-2.4020,  1.7411,  0.7000],\n",
            "        [ 2.2518,  1.1298, -2.3142],\n",
            "        [-1.9901,  0.7063,  0.5100],\n",
            "        [ 0.1755, -2.0639,  0.2927],\n",
            "        [-1.5812,  3.4616,  0.5690],\n",
            "        [-3.9302,  2.9421,  1.6321],\n",
            "        [-2.2577,  3.3032,  0.5618],\n",
            "        [ 0.1197, -1.6559,  0.2623],\n",
            "        [ 2.2202, -0.3245, -1.9392],\n",
            "        [-1.5941, -0.3322,  0.6826],\n",
            "        [-4.4306,  2.1703,  1.7235],\n",
            "        [-2.6561,  0.5202,  0.6324],\n",
            "        [-5.3110,  2.2133,  2.5339],\n",
            "        [-5.2418,  1.6793,  1.7049],\n",
            "        [-3.5457,  0.5819,  1.3519],\n",
            "        [-4.5229,  0.8281,  1.7668],\n",
            "        [-2.2047,  0.8783,  0.8270],\n",
            "        [-0.2719,  0.0766, -0.5616],\n",
            "        [-0.6099, -1.9894,  0.6006],\n",
            "        [-2.5313,  3.2698,  0.8471],\n",
            "        [-0.2375,  0.4412, -0.1403],\n",
            "        [-3.8233, -0.8327,  1.7284],\n",
            "        [-0.0440,  0.6509, -0.3054],\n",
            "        [-3.3783,  2.4389,  1.0953],\n",
            "        [-3.6332, -2.3129,  2.4944],\n",
            "        [-0.7831,  1.4909,  0.4935],\n",
            "        [-0.9684,  1.5342, -0.2350],\n",
            "        [-5.2547,  4.1734,  1.6215],\n",
            "        [-3.0798,  0.0413,  1.6029],\n",
            "        [ 0.1623, -1.8495,  0.3086],\n",
            "        [-0.6874, -1.4861,  0.6373]], device='cuda:0')\n",
            "tensor([[ 3.3108,  0.1695, -3.1063],\n",
            "        [-5.3873,  3.7872,  2.4252],\n",
            "        [ 0.5826, -2.3153,  0.3424],\n",
            "        [ 0.5199, -3.7301,  1.0382],\n",
            "        [-4.0705,  1.6237,  1.0903],\n",
            "        [-7.5926, -1.0534,  3.7162],\n",
            "        [ 0.0248, -1.6489,  0.3985],\n",
            "        [-3.1840, -1.3398,  1.6110],\n",
            "        [-0.2685,  1.1500,  0.2193],\n",
            "        [-3.1306, -1.2459,  2.2183],\n",
            "        [ 0.0248, -1.6489,  0.3985],\n",
            "        [-3.1494,  3.5077,  1.1295],\n",
            "        [ 0.5977,  2.0291, -0.6838],\n",
            "        [ 0.4579, -1.7034,  0.1829],\n",
            "        [-1.3388, -3.8489,  1.8986],\n",
            "        [-0.1064,  0.0966, -0.1511],\n",
            "        [-2.1817,  2.2741,  0.5350]], device='cuda:0')\n"
          ]
        }
      ],
      "source": [
        "# code here\n",
        "correct = 0\n",
        "total = 0 \n",
        "ground = list()\n",
        "Predic = list()\n",
        "with torch.no_grad():\n",
        "  for data in test_dataloader:\n",
        "    inputs, labels = data\n",
        "    ground.append(labels.cpu().numpy())\n",
        "    inputs = inputs.to(device)\n",
        "    labels =labels.to(device)\n",
        "    outputs = net(inputs)\n",
        "    print(outputs)\n",
        "    _, predicted = torch.max(outputs.data, 1)\n",
        "    Predic.append(predicted.cpu().numpy())\n",
        "    total += labels.size(0)\n",
        "    correct += (predicted == labels).sum().item()"
      ]
    },
    {
      "cell_type": "markdown",
      "metadata": {
        "id": "MKuaxM4wT164"
      },
      "source": [
        "Calculate and print accuracy."
      ]
    },
    {
      "cell_type": "code",
      "execution_count": 25,
      "metadata": {
        "colab": {
          "base_uri": "https://localhost:8080/"
        },
        "id": "bgRi2n7KT0oU",
        "outputId": "46d8379f-7b91-4b07-f35b-bad21f142b99",
        "vscode": {
          "languageId": "python"
        }
      },
      "outputs": [
        {
          "name": "stdout",
          "output_type": "stream",
          "text": [
            "accuracy =  0.672316384180791\n"
          ]
        }
      ],
      "source": [
        "# code here\n",
        "print(\"accuracy = \", correct/total)"
      ]
    },
    {
      "cell_type": "code",
      "execution_count": 26,
      "metadata": {
        "colab": {
          "base_uri": "https://localhost:8080/"
        },
        "id": "CX2DU3CAUVzz",
        "outputId": "f1b3c1c6-5fcc-454f-cdc2-5d68335e5bee",
        "vscode": {
          "languageId": "python"
        }
      },
      "outputs": [
        {
          "name": "stdout",
          "output_type": "stream",
          "text": [
            "0\n"
          ]
        }
      ],
      "source": [
        "# code here\n",
        "print(ground[0][0])\n",
        "truth_label = list()\n",
        "predicted_label = list()\n",
        "for i in range(len(ground)):\n",
        "  for j in range(len(ground[i])):\n",
        "    truth_label.append(ground[i][j])\n",
        "    predicted_label.append(Predic[i][j])\n",
        "\n",
        "cm = confusion_matrix(truth_label,predicted_label)"
      ]
    },
    {
      "cell_type": "code",
      "execution_count": 27,
      "metadata": {
        "id": "tcVttT8T6YxA",
        "vscode": {
          "languageId": "python"
        }
      },
      "outputs": [],
      "source": [
        "def plot_confusion_matrix(conf_mat):\n",
        "    classes = list(my_labels.keys())\n",
        "    df_cm = pd.DataFrame(conf_mat,classes,classes)\n",
        "    plt.figure(figsize=(10,7))\n",
        "    sns.set(font_scale=1.4)\n",
        "    sns.heatmap(df_cm, annot=True,annot_kws={\"size\": 16})\n",
        "    plt.show()"
      ]
    },
    {
      "cell_type": "markdown",
      "metadata": {
        "id": "9w7a2UdCWJ3Q"
      },
      "source": [
        "Use the above function to plot confusion matrix here."
      ]
    },
    {
      "cell_type": "code",
      "execution_count": 28,
      "metadata": {
        "colab": {
          "base_uri": "https://localhost:8080/",
          "height": 437
        },
        "id": "U5O9Uxo9VUHc",
        "outputId": "e10a86ff-340e-41f4-a7c6-e1176248495d",
        "vscode": {
          "languageId": "python"
        }
      },
      "outputs": [
        {
          "data": {
            "image/png": "[encoded data removed]",
            "text/plain": [
              "<Figure size 720x504 with 2 Axes>"
            ]
          },
          "metadata": {
            "needs_background": "light"
          },
          "output_type": "display_data"
        }
      ],
      "source": [
        "# code here\n",
        "plot_confusion_matrix(cm)"
      ]
    },
    {
      "attachments": {},
      "cell_type": "markdown",
      "metadata": {
        "id": "wELdcQAf1cIv"
      },
      "source": [
        "### Task 2 Adding skip connection\n",
        "\n",
        "\n",
        "\n"
      ]
    },
    {
      "cell_type": "markdown",
      "metadata": {
        "id": "qVnBpRC5M29d"
      },
      "source": [
        "![res.png](data:image/png;base64,iVBORw0KGgoAAAANSUhEUgAAAjoAAAFJCAIAAAAddBBlAABvGklEQVR42uydB1zUyhbGh+3A0tvSexfpgoIiWMGuKIhXrNiuXnt79t67Xuu1dxHsoAKKgEoTRIoFpFelL7ALu/B+yQIiggIKLnL+j3fNTjKT5GSSL2fmZIZUU1ODAAAAAIC/IYAJAAAAAJArAAAAAAC5AgAAAECuAAAAAADkCgAAAABArgAAAACQKwAAAAAAuQIAAAAAkCsAAAAA5AoAAAAAQK4AAAAAkCsAAAAAALkCAAAAAJArAAAAAOQKAAAAAECuAAAAAADkCgAAAAC5AgAAAACQKwAAAAAAuQIAAABArgAAAAAA5AoAAAAAuQIAAAAAkCsAAAAAALkCgO/A5XIdnRx1dLXfv38P1gAAkCsA4FNiYmL8/B4nJydfv3EdrAEAnQISmADoANiJdy/55wpQKVQKhUwmEao5lTy4grpDx/ZRoPC2Sr5/yS8LUahUKpVCFqiuYrNYrEqKlpOzvSLllx5PFaeKt1DJZsPVAQCQKwCopTz+3NZtkU2tkRxjNKJOrsrfXty64wW30Rbiow2H/2q5AgAA5AoAmkDIbMG+PblViJvnv2/3g5y6ZPUxa5aM16LVb2XovnBc1fHrEaUIkdQdnB0MGBJikgom2jSwIACAXIEJgA6AqmQ7TAlfcjImF4zc9pKF/0i+ez/F3bW+ElIVTDU4maUIkbsvuHbuH1MR6FoFAKAOeB4AHYug7uTDR91Uan9Vvtrl8b97WRxsubo47MDUeV7ZSHXCsePzQKsAAAC5An4rROm+q/7bYCNc+zPv9sI5B6NKy99f+Hva0Xiu5KCdp9c6yBDBTgAAgFwBvxuq9l/7T0xRq/3FiT04aYLr+E3BTKrFstN7x6pSwUIAAIBcAfxR8SRslp/aZi9S+7M0PqYAqU8+fnxGN2EwDgAAIFcAP7lYai77js/QEahPKMzKLeOCXQAAALkC+K32CSroqYvW/yx6tHzantDiajAMAAAgVwD/wM0P3j510cNiAUVD+bq0DydmLbyWAgNNAAAAcgXwCWVxJ+dOO/MRMUYduX71+t7BkrXppQH/89jxvBBcLAAAQK6A305lutdy9x3hbLrN+nMbnRQElUdsPz2/W93nwsmnZyy6mAQuFgAAIFfA74T7OXD7pMW++QS92f8ddNcRxOsh3WTusQMj5epcr6C107Y+/QxxFwAA1CNQU1MDVgA6zq/KCz48c9q/UZWig/bdOzJS4atRwMrjj05y3hFRyfslaL369unJPDn71YSFh9nY9EIICQkJ0en0lmQpKytjs9liYmJUKpWAQyQSCc1AIpKEhIXpdLqICB37L533j0jdsrCIiIhwXboInk4kwqfRAAByBfxm2G+Pz158Nam0vCg3t6TOZ6Krj9xzde9AqToPvyL233nLr0XEpTHr8wkp66jSCQIiPdacXNtT9Bce0P0H90eOHMFXNqLRaDzpEhMTk5aWkZWVkZWRlZbB/isjg/3GF2RaKK4A8OcBQ9wCHQCnLD3+XXIuQgQSlUqt4VZWcmoQMyW5kNNgIy4zNbZWqwgkCpkkUMNhpb9PQAiRJYp+ceiFjIxM/QKDwWhJls+fP5eVlcnKypLJ5Orqai6XW92ARj85HE5ZWVl1dSsOm4Xz+fPnH6oadsxyDEUlJRVlZWUVFRVlZRVVVRVlFVlZWahqAHhXAPBHUd8YuHLFyo0bN7XTXioqKphMZmlpKfZfZmlZ7XJZKRNLYdalYyml+Fo8vbCwsKioqA27o1Kpyhi4eCmraKhr6Ojq6OnqiYqKwhUHwLsCAKBZBHHqPbmWU1VV9fnz57y8vM+fP+Xlffr0+RP2z2fefz7lfcrLyckpKytrlIvNZifiNEpnMBg6Orp6urq6enq6Ojq6unqqqqoCAgJwgQCQKwAAfgoymSyP851tCgsL09LS0tPTUtPS0rGl2v9lZ2c3ajLJwXn2LLA+hUajaWtrd+vWzcTE1NzMzMTEVExMDMwOgFwBAPDrkcAxNjb+1jPLyMhIS09L/JD47t3bd+/fv3v3Njk5uWFHGovFeoNz5coVXoqGhoapqZkp/n8zM3MpKSmwMAByBQBA+3pm6jh2fezqEysrKxMTMfV6+46nX9j/SktL6zf4iHPzpifvp7KysoWFpY2NTW/b3iYmJgQCfKAJgFwBAND+UCgUA5yGiR8/foyKehUVFRX56lVU1Kv8/Pz6Vek43t5eCCFRUdGePXv1xrG0sCSTyWBPAOQKAICOQwNnzBjneolqqF45OTm89JKSkocPfR8+9OV1ellZWffp3duhX7+e1j3h02agI4FAdqAr0jGB7J2a5OTk4ODgoOBnQUFB30Yb8jrPBg4c6OQ4ZNCgQdDXBYB3BQDA74HXATZx4kRebGEQxrOg4KDY2FjeBoWFhddwBAQErHpYOTo5OTk6mZiYgOkA8K4AALyr309hYeGzZ4E+vj4+Pj5ZWVmN1iooKIwcMdLF1bVXz15gKwDkCgBArviC6OjoBz4PfB48CA0LbfQkUVVVdRnn4uLi2r17dzAU8EuA+FQAANqIiYnJ/1b+LygoOCsz++yZcy4uLvWfG6empu7ctdPcwszYpPvWbVuTk5PBXADIFQAAvxlpaekJEyZcvHApKzP7pudNZ2dnGo3GWxUfH79u3VodXe0+fXpfuHCBzYZ5NwGQKwAAfjcUCmX48BFXLl/Nzso5d/b84MGO9cHuL16+mDptiqqayooVy8HZAkCuAADgC+h0upub2907dzMzso4c+demlw0vPT8/f8/ePbp6OkOHDb1//16r5lgBQK4A4A8nKiqKyWS2ZMuampqQ5yFgsV+IlJTUDI8ZT58GRke9njVzFm96yZqamocPfUeOGqmjq713395vR5cHAJAroCtCJpO1tDUXLJh/65Z3w6GG6mGz2c+Cnm3estncwiw4OBgs1h4YGhoeOnQ4PS3j0KHD3bp14yWmpqYuX75MQ1N967atJSUlYCXgO0AgO9AlcB3vWj9+q6GhoYyMzNOnTxFCurq6crJyL0NfVlZWIoQkJSUTPySJiIiAxdqb4JDgY8eOenl5VVVV8VLExMT+nvP3P//MhzEyAJAroOsSGxtravbjARc2b96yfNlyMFeHkZ6evnv3rv9O/1cfMSgsLDxr5qyFCxfJycmBfQCQK6CrO1hNAq7V7yInJ2fv3j3HTxwvLy/npQgJCS1dumzxosWCgoJgHwDkCgAHC1wrPiI/P//Agf2Hjxyun4hLSUlp65Ztrq6uMFU/AHIFgIMFrhV/UVRUtG/f3r379rJYLF5KD8see/butbayBuN0cSAyEOhCrF61urlVixYtBq3iB8TFxTds2Bgfl+Dq6spLCQsP693b9q+JEzIyMsA+4F0BQFfBxdXFy+smuFadgtCw0MWLFoWGhfJ+ioiI7Nyxa/r06WAZ8K4AoIs6WOBa8SdWPayCg0MunL+orKyMECotLZ09Z9Zgx8FpaWlgHJArAPjDMTIyGj16TCPXas7sOWAZvsXV1TUuNn7B/AW8gAt/fz9jk+4nTp4Ay4BcAUDXcrDAteJ/BAUFd+3aHRj4TFdXFyHEZDL//nvOwEEDU1NTwTggVwDQJRwscK06ET2te0aERy5ZvIRAwB5cT54EmFuY3bt3FywDcgUAf76DBa5V54JGo23btj0oKFhfXx8hVFxcPGr0qNWrV3G5XDDOHw9EBnZicnJyPiZ/BDu0jbVr10RFRV27dl1ISAis0QZERUTrR6rteNhs9oKF80+dOsX72bev/aWLl2RlZeG6gFwBfMeTJwFOQ5w4HA6YAvhdLFm8ZNu27b/xAM6fP//33Dm8D4oVFBSuXLnaq2cvuC5/KtAY2Fnx9/cHrQJ+Lw98HvzeA3B3dw8Jfq6pqYkQysrK6tfP4ezZs3Bd/lRIYIJOSr1bPGTIUDMzMzAI0JFs2rQRIcQPcwF379499GXY1GlT79y5zeFwPGZMz8zKXPW/VXCNQK4AvmPNmjXmZuZgB6Aj+e+/U1lZWXxyMGJiYjc9b27esnnDhvUIofXr1+VkZx84cJAXQAj8McDlBADgT2D1qtXHj53gSdSx48dcx7vWz6EFgFwBAADwEVOnTvW66UWj0RBC3t5eTk6OxcXFYBaQKwAAAL5jyJChjx49lpSURAg9C3o2dOgQJpMJZgG5AgAA4Dt6WvcMfPqMNyruy9CXo0aPqp86CwC5AgAA4CP09PQeP/JjMBgIoadPn4xzGVdVVQVmAbkCAADgOzQ1NR/6PpKSkkII+fg8mOg+EQZqArkCAADgRwwMDHwe+IqJiSGEbt709JgB8zqCXAEAAPAlpqamd+/eExYWRghduHBh2/ZtYBOQKwAAAH6kp3VPby9vEonEG9cYJhwBuQIAAOBT7O0d9u8/wFt2n+SekJAANgG5AoDfCSf53HhTNXVj5xPvK9uneFcTDbXuY9uneKA9mTlj5gyPGQih0tLSUaNHFhYWgk1ArgDgJ2BG7h5noaHefdjml6Wtz11Z+DYiLiMjISw2vz2ilisL3uHFh7/5DEHRnZD9+w/0tu2NEEpKSnKb4MYP4/MCIFdAZ6Uyw//8rej0zHhfz2eZHeLBcNmV8NDqIpDJ5GvXrquoqCCE/Pwe79q9C2wCcgUAbYQi32toD4aIiJzloJ7ylPbeW+kTD0WaiJBI/zNp8EFO10BGRuampxeFgtWtDRvWR0dHg01ArgCgTYjZbg3OKMjPfL6jt1i774zDzCvG2/iKKmFK7S6DiYnJhg0bEUJVVVWTJrvDqO0gVwAAAHzKooWLeJ1Y8fHxa9asBoN0FmB6RuBHsJOubdxyJ52kO27N/4YqN6gx1fnB+9adimIrDVuxxkWT2iBLZYr3ti1eichg6pZl9rLE2lRWWuCl05fvBb1OymXRZFUNezq6ebgPUBNqkJGb93TvutOx1XoT1i8bKN+wdlaXvb9/7Pitl2/epuRz6Qx1LSUJMu9lS0BY323FHFsp4teHXZkdcuP8TR+/4Phiupppf7d5f4/uJsbLUV0QfGjzlXclKa/xkU9Tb26Y915EACEBQR23VQtspFppIG5xwsNrnj5PQ98kZXzmiCipa+taDp/z93Bdeu3bICf70Y71FxOqlQcvXvWXnlCj7OVxZ9ft9s8Vs128ZaaxMKo31tNLpy/dC3r9MY9Fk1HDjTWpfyNjPdm19uw7sf4rNk5USrmxbe3he7HFgpp9/9674y8tKlTc5l/SCYTTp8+Ympkwmcz9B/YPGTrUro8dmKUTUAN0Tv73v5UkMpFEJkZERrTvntjx24yxHZHM97xjN0jn5l53FMSPQXf9a1bDHKzYzYZYusjwm7lc3rYlUYfHafAO+Ks/XffzHyq+5CyLWKmNpavMC2E22FNJxO5hqsQmsvP+lGcFleK5I1doYSnKM66cnmFKa7SZtseNtCq8PObz+WpNF6WxJLR5Q5RFrNTENlOd++Xg2EkXpxnQmipKecSB17WbcTMvDhDCEiVdHxQ0LrXg/njpr0+ZWxJ1ZKxmE2VqT2psLOx4BAdferK9r+iXzWwv57V79VNRVSaRid2MDDvvHXTmzBmexbS0NSsqKuCRwv+AXIFc/RBWzAY9bF+UnsdTOF+Si3wnyNQ+Ik33NhSyqsRDFlg63fFaDq5WVWmXnCXxLeUHrz77ODo1KzH0/r/TzYTx7N1XhzG/K1dFgf9o4Fvque1/EJ2ak/Lq3q7xeiQsRcZx7b8nz/t+4G1cJ1e8P4ruyGWHLt+4eHCJozIvRXLcLVw+uSWxXv/u3bvFwxBPVxi1ZveePXv37Nl39HYCs1Vyxc04ZUUmksQNh/2z68K9wFex0UH3Ti0fKI/vjtzrSGJVrbJ7jhTH9iXhfOvz14Xm3xsniW2svjSsrKbWWGOk8FNQcFxVZ6wjHua8N4Nua8KZjY+HoSeLrVLqN3PVuqVThg9bElgCctUiRo4ayastmzZvgkcKyBXwB8hVTUWtDFD7Xczi1iUyX/yjWqcNZJsTX4SMk3GmL4VEJtL6X8jEty54PJmBbSYx8mJqVYNiS54v1uY5YTdyuM3LVcH9sfgD3WhjDKuBA7fVDEuUnvi46IuefJErUYftL4vqjpX97qAtDUsXdrrRwPEouDNcGNvYdO+HqpaYoUnvKtXf0+9DKferDUuDF+D6Su59JqN2TcGDCVJYXrFhnrkNN/58x1kcS9dfE8V7vy94NEUeyys5qpGxQpboYOmiIxoaS7NWmylGSwI+czqw+v0ZcpWSkkIXweqAiCg9LS0Nnip8DoRaAD+GpjtiqCJCiBN+40V+XY9Wiv/jTITIKookhGqibjz/VF3Xo/X8egQXIWKP8X3ksPqV//SQ52eEkP6Szc4qDbujRMw9ZhgihMqDb74qaXbnlTlv4rG1KoMGN+gfo6r3c1BBCBW+Csv4JrSLZLHe79ZSK7G62k3Rcpnfj4Z3w0Vn/tqJ+igqDmP6adG/vo/o3Uc4SCOEanLe5dTuTsLWY5Qsdq7+J/1zv3zp9enZGf9SzDYTXfSxA/xirMWbGhnLYnqtsTyjGhtL0G6/52b7xp13wA9RVVVdumQpQqiiomLZ8qVgEH7vdAQTAD9GuNtoRznsWRly41URr5s/O/jee4SodstX2VMRqgrzDOetQMURN0IxATFztVfAHqBlbwNeVyCE5G1tFQUqvwJJ6KgLIYRKPrzP5zS7cwEiXktrvh6EoKokB39qU4Rp3zymZS3tDUQaVm0CXdUAEwtUUcDkdMRtJSiKi09leX2IvIjFNBclTDED/3uUXfuZV3Ve0Fl/JkLIePJobVyKy94GROPG6t2EsbQ1cGO9f9fIWHIT1k3UgdCKtrF06TLeh8Oenp6BzwLBICBXQGeH3n3sQClMiwJvxmDP1+rPYd5vsOfs6P6DXCyICDGDvaKKsS1LY24FYTpi4jKAF0XIzkv8hP2bfdJBhi4k/NWfwph75biKFFc0+6EuRcm6lzxCKP3yUf/cuq04qXcO3sP0UcG2B6MF4a0EqjD+1TGX0x5jWHAL4+4dWjxxZH9bC301eUkJCXmHQxm8SKYGkm/iPlELO/SQUw8y8POo/hR4NqAcIQGLaSM1eR9Fsz8l8Yx1op9sI1sJKTrfbdpYRDJRAKpoGxEUFNy5YydveeHCBTAyEz8DgexAixAzGWcvdsGzOM/vTlx5H6vK17ciKhHSG2ajqEhzNkYhrwqe3Ior69cLxd32wx64Bs6DatuyuOwK3gh7soYWqsJNvB8RhLXHOKo27x3QrVes7nnm7xefLo0xTXFztdMQKkl8evnqSyZCNLsVc82Ff6ddqosjDk12Xno3s9YTFJKSl5YUrmFzynMbt1HSDFyndNu2Kpb74vT91ClzNAh5T888rUCIZDN9qGrtjchlldcZy1ytSWMJ6XzXWEDrGTPGuW9f+6dPn7x58+b69euurq5gE5AroDMj0WO8Hd3zDjP9gU/ilm5l94OLEVIe6KBGIZHsR+mjVwlZj3w/sMwJvr6YX6E9xlGjdhAlkrC4IEIVSHHscb991m3QlrKY8ydDuQiJSRDzQi4fDKkTUMupW/dvna5D+Z1WKXqyeNTSuzkIyQ3ZcGTj7CFGkvgdVRa62NC21sFq4CdqO083X70gsibi7O2P0+eLPDnzjIUQxW76YKW69kwSXYJnrHHH/PZbC0O16yB2bN9hZd0DIbRt+1YXFxcBAXBX+RFoDARaqlfWrrY0hFDirUfvP/j5ZyEk2dtJTwghisbAYeoIoaQ7fomJ/rc/IIQ0Rg/TrvMABFVMFLF/c+NSmG1paCkI2Lonuhppr3qSnBPvf+Pcv4dOXLz1NColPfjYzB6SPxdewHso1XC5bWwBKo44652DEJKfcfn8qhG1WvWdl0O14TN7Y9tEn/X6kOZ/JpCNkFA/j/6M+ttQUNn4p4wFtA0zM7PBgx1541x4e3uBQUCugM5dVaRtxluREUKxNzy97r5HiGY1wggf2I+m5zRQASEU5+npeT0WIaQ8bIQurS4fTbNfXzmEECf4qFdy60dZ5xQkfixDCJXnZRQL6vQZMcFj5lQXJ9tuCkI/XXcJFCFcU0tyitsYf1GZn4HHe0ioyzVsn+OWZmU2Of8JUXHwrH6CmKnOHzt1MrgKIdGB0+3lvpwJTbM/z1hBx7yTYVKtjmT16trRmLZs3VJTA4NIglwBnbquyPZxs8S8mVe7dkYhJGAy0lKSt0a420h7bPHV9u2RNQgpDBll2GCwILrl7DnGeIzBovEr76SwvnquJ/qf2rLtVmrzT2aSgu1gbYRQ5snhqiJS6gbdTC172PRxGDTqr7mr91wJzfmJZzpNXhcPF0y/feNVEebLcIo/MVs1Nruggj4mLijhyrU3zNo0dsqtZcMmeBU3bUNGv5mDRRFCH45vf85BSGKIR++vxnyiW/w9u9ZYLv/7xlgBpzZ/11hA27HqYdWvX3+EUExMDEyQD3IFdHKI8vauprjHgzkj+sNs5Oqa4sRMx9jS61bIDnI2+qrXhWa08MyOvnSEONEHxuiIy2kb2w4Y1N/OylhNTNJg0OwNe72TKprfq5Dl6utbLfFmtprijMS3sa9fhb18FnD/6vGdy917K+mMPfG2jZ9SUbWGDFfHFpL3O6io6euqSErbbIlqTQl0y9l/mxEQqonZ1NOg92i3SW5DrTS0xh6KoqgrNHNrSfWZMaJeoGRHTusp3khDjRae3mnHM5azlgRD08S2/6ABfaxNVMSl9AbNWb/vVmIFVMV2drC2bt0K1gC5Ajo1JOUB7r1q+2d0R/ZX+xLlIG49wV6k9hHs5GYm0lhyjBbeCb20zElHGCFOQWpcaKB/4IvI+CwWQarb4Lk7F5nXZSCSqWR8T4Lkus5uVvx/CzeFcxDZfKn367dvXke8DHn6+M65Xcsm9lXBvK7bc8bvjuEJFpH0Te5aBIgU/LhJVFKDNUJmKy/vG6uJ3QTl2UlJ2SxBNa3vjG/bxMHRjJbeurdxhDYZoayX965f9vR9VagyYNmNkJOj5BFCZEHSN332YtYzJ2rwFhXGTLYU+VafjRbdeXnli7HCngYEPq8z1rwdCy2+YyzgZ7C1se2Dj3UbERkRFh4GBuE7YGAPGISpVXCYuWnJqTkl3wxbxK34nJGcnJHP4n4nN7csK+7lU9/7932ePI94m1P27bac0pzU1JzSugGFuFlXnESJJLJQ/9MpjXfJST7WCx850OpYKqfJ3I2OOzW7qInRlrgVeYmvnj1+/Cw6g8n9wck3Uzy3Ii8pOtjvgV9wTFYFr4yqkuyMnNKmBnfiZl8bJoIdtuaS2mECv2Os0CcP79/zfRLSImPBIEw/zc2bnrzbatr0qfCQ4TcgkB1oZYugsKxykwHWBJqUotqP5t4gCMkbWMkbfK98upwK/cvPsnePIisQQlqDesk3rqwCZApRAKEagiCdItBk7pYcNyLQZDRNZTRbdPLNFE+gyWgYy2gYN/RERRiKIk2VwUm7c+RxOUJI022CkdCPjNWjNcYCfprhw0cwGIycnJzr16/v3rVHXFwcbAKNgQDQMnUUkcGfx/Hnjz/KbBhjwC2IPPnPypfVCJF6je8p3WkqMvv9tSPPuQgh3b/G6dPgAvNbezeJNHXKVN4oghcuXgCDgFwBQEsR6jZ1oZ0gQjUJh0eqMXR6Dhg6euxop35Whipy1vNu5yMk5bT/qLtGp2klKI85dyoOWzCa7Azj/PEl06ZN530mfPLkCbAGyBUAtBiq7mzv8BsbJ9upURHzY0Sg793bdx4HRb7/JCCmbT9tj3+05yy9zuOklL25dC0Ve4nv5TFaiwJXlx9RUVHhfTKckJAQHBIMBuEj3xdMAPD7KxVdb+SKUyNXnKpmF+VkpGfmV9IZ6hpKktRO+K4lbL724XOXUmE1A115uPf4lhkeHj4+DxBC169ds7WxBYOAdwUAraysVHEFTSPLHub6Kp1Sq/D3Q0ldi54W+vJCcOfxMQMHDhIVFUUIed/yhjHaQa4AAAD4FAqFMmzYMIRQTk5OyPMQMAjIFQAAAJ/iPMaZt+B18yZYA+QKAACATxkwYKCIiAgmV95eMOItyBUAAACfQqVShw4dihDKysp68fIFGATkCgAAgE8ZM3oMb+Ghry9YA+QKAACAT7G3dyAQsCdkQEAAWAPkCgAAgE8RFRW1tLBECIVHhJeWloJBQK4AAAD4FAcHB4QQl8t99iwQrPHbgS/rOz3W1la8Ic6AltMw1gus95MG/LPlatv2bbz2wCFDhsJ1B7kC2oKsnFxXe3bAk5ffkJGW+bNPsGfPXjQajcVi+Qf4w+UGuQLayCT3Se/evk1MSgJTtIGSkpLIyAiEkKqqqoaGJhikDYiLiy9btuzPPkcqldqrl01AgH9cXFxBQYGkpCRcd5AroC0Pi3//PQp2aBth4WE2Nr0QQm7j3TZu3AQGAZrD2soqAHetoqOjHBz6gUF+IxBqAQAA0Cympqa8hajoaLAGyBUAAACfYmJSK1fR0VFgDZArAAAAPkVNTU1cXByXK/CuQK4AAAD4GGNjE4TQu3fvysvLwRogV22kIunu7g1Xk9i/sMjKlJubdt1KhFoJdBDV5ZkxIUHh7ws4YAs+xdTEhPfBQ8ybGLAGyFVb7vKSV/96uO7K69FXlfoLi6Uo97EtOzJhxqGIIphEFGh/ip/OMrWwc7AxGHT8IwgWf1LffRUVBd1XvxNSB79I5ia9S0rJzC9voRQIEClUQUERaR1jQ4Wvpgtnvz87x/1ozfwbGxwZv/YciDL2K08tnj966hzq9f9m6AlCHQHaFU5V9Vf/AnwoVya8BYi26BJyxS167XngwHnvJ++K2lYArftCz0vzDXniUV0YvN1j6zu7g/entoucUFWdt+2NGj7NY4uW9wYHaSJUEwDowujp6fHGtoBoiz9erqqLIw7/PX3fyyIRhrKamhSJTCZTSEQBVFOWHpdcjDs08nr6Ul8dSU1NdTW7JCc1o7CKl8BK/fi5CiFMnDhZ91bMuVA48MDaQbLtpSQEid7Lt499MumfZWa+J0YrwcfUANB1IRKJ3Qy7RURGxMfHgzX+aLmqiD258ly2/sSdG5aP1BFu0KCX7zOp17zASoSkRu+7sc2a3kReVsr1mUP+F8jRHLF676beorif9unx1g0PKyw2rxgk155uD0Hcet7S3t5LNm580OvocAZ4WADQhVFWUYmIjGCxWEVFRby4duBPlCvB7oseRi75NqSj7MOz2EpsgWJgq0VvOi9NZejmq4ZIQ09ZuFYvymNObrlfLOu2YLhKex86UcFp4eSDo49tPRLWd1NPUagrANBlkWcweAvZ2dkgV3+uXCFEaCr8kJ32IjwfX9LpZ9Ts1ScIKRsZfvnJzbq/+2IG0lk+xawj5ENQb5x7t2Obr++67XF9ogq0CAKcgrcRr3OJqmbmGiIExM5+ecvraWKFmJbV4KE26sJf13Nu6ccXfoFRiRmFXBGGqqHNQDtDKUqL98TOi4+My6mRNbQwlPsm8pVb9D4yKqNSSs+s29cRSEC7yZWCQp1cZenr64NB/li5agru51eBKfiStpNNS2P72EneJ59XIiMXJzVKhxwlRdXxL6vtK0JPXYt3XtodggS7OsVP/+ntdLUIaawIDZv8dvGwSec+1K7RXhMZvdaoVleqi2Murp23/GjI569yi5hO2nZk5wxLiRYITP5dN3PXQC5CPc9nBrrJNjqMwH9sB18uRMhk/4fwOepwXTrEu5Kvk6scsMbv4ne9mpXE+b/DF9QG9lVuofZUvPO68R4ho7EOHRb7QJSzHmaIUNqtG3Hw4TCAqrn41Ficz0+XOn7RKiyFXVU7aRY3P2DVwB7TeFpFYRjYDOxnpSuHVfHSqHNz+ziue17ckoD1mmreVtzqJibjquZUNzwcoAPkSr6uMTAnG6zRxeSK+db/NQtbUBrQT53aUt/qwf0MhNQcLGU7LvCBKGs9WBuh3Ed3EkCvgFrSTi0/k4yQ6qht915nZiQEXTu6aawm/tJVnee7bOLuKA5CBL2pFxI+Z7x+8sA3KC4tI/zQODVM1l5tm7YtogxM2Nlg1HlXOdkgV7+N39MYWJZwPwjvuGL0G6zVwjY2Tk74swyEpK16KTetb6ykexf9cgWoFCqFQqaQCdVVlZWV2P85grpDne0UeD4c++P9K37ZiEKlUilkEqG6is1isSopWk7j+io05eVR5M3NZdCH3KCgVLa5PhVqDMBDdtzFgLOueI+m3GjNnrzEyvfn11/IRQiJDD374Mh45br3KoK46axTnrmvLTa/Q4mnD4asuDgQeus7mXclD95V15Srig++T/KwBWk7J12hFmYqehOYiJCAirl6M/pWEX9+8/ZXTa2RHNt9eJ1clb+9uG3rS26jLcRHG45sWq6QoJqFOvHqp5Tg1/nz9BUgoB3AWwU8zh0c9030DfuD91n8O1KG66Lhyo3qCs1g3ET9zasTUNHzxx/KB1oKgRU7EdLS0iQSicPhZGeBXHUpuWJ99HuUhcuI3VB94ZY6ZB9D3lYiJGeoSm+mAVPIdP6B3bkcxM0NOLDzQX1/qNrYNYvdNGn1W3WbNN+Fc/JaRClCJA2HMf30GRLiEgrGWrRmdkygq3dnoLDMlNDkClcFOlQZACGDOQv6SH5TD6vzIx++x+8qPXvdb2sKRU5LnoQSOCg3IYuNEMhVZ0JAQIDBYGRkZIB31bXkip38yDcd4R82MXKfP3zU5EYUme42ZowGbW/lGR/ysZccbUZzDXJUJZsRSviSkzE5f/SWULxzDKXcvp8yyaX+PKkKJhrczFKEyMbzL1/4x1T0h713FBk1CYQyiz5mMqsRHcKGAYQIJGITFaHyU1IuHgPBeeqmSHJr/g5gVsBgtp0PeYY8JlfQd9WV5Ir94Y43L4SdG3tkyaxmtpJzvfC4oVyxP338VIMQRVpW+MftcYI6Uw8fSR0z7WIa/hB5tWfqKpVbu4cokFB1cfi+qfM9s5Gq278n57VAqzBVpcvLC6HY8vzEPDZiQDQ70BzcssKKFkidZC8HHWGwVqeDgXdflZWVMZlMOh3aWbqCXJXHeXnjvhVBVl1TrNHua1g5iemlcr1mrN2x6OtxJNgFaYUIIbqsWIuOmChtt/q/dSkjNwTjQVh5txfPUFW8PFPIa67HkQSu5MDt59fatzi+kEiXFEKovDC1oJI3aiEANFlRhMR5Tco0J6/UO8Mkfqowgbp7AmLV+ca7+jKwhba2Nhjkz5cr5utr9/FuJYMVlz1naDYObqiuKGYSRESp33g9NSxmJUKITCO3tDWOpjXh0PGU0X+dS8Z+cWIPThn/lBwXw6RaLDm317k1c2QRKEJkvAmHBU8O4DuQJZV5EsXKySjmIomfiMsRIFFICFUhVFnK4iIEET78IFd1A1tkZWeBXP0WOrgrpijskk8+piV2HiObGpmCICjWhFZhOlZZXoW9v9JIAi0/NwmbZWe29q3z0krjYgqQuvupYx5GrWuKIVCEsUPlVLCgxwH4rk9vbKuMLyX4ROT/1OxVRFFZXmtTbmxGowbG6tKEoLhisHaHIyMjw1soLCgAa/z5csXNfHz6YSlCSGr4zL6t+9ZXgEjCDrWG27qHAFXNZc/JGdpfJK4wO6eM29rj5g0iIEBuhVQCXRGhbuPGqmELFT6bD4WX/kRJwqqmPOHLvu8Zw2yoVa+PThi+LQ5s3fGQiLVtURwOF6zxx8sVO8n71EvMR9Jwm2Imglrr4VCxisLitPKllSCooKv+pRus6PHS6XtfFreqEG4VCztqihAVRrkFvq9XpnPXDsGrdvy2wU7zz7zMYtULTVl6+J0jy5wtu7t65v6w/pFUHCeY4UuZR9ym7PF5k13GLkry2z+1p/XCB4Vg6N8iV6R6uYJmlj9erspiLl14j131HtOdtVs7PASRLiWEvbUWts434uYH75i8+FGxgIKhfF3ah1MzFl1PYbfCuWKVYA8dIUk6dCEAP5IZt6MX/+6GVRRm6JEZfVRExOVU1JQZkjSqhHov5/n77kQlpOS3oBOUoj1l51xNfDHLe8UIUxUJYRn9wUsvv+UgranH9/UERx/kCuSq3aj+FHDMOxdvCJznpNhqN4UqpyWNPQLyCitbIZDx/82efi4JMcYcvup5fbejZG16ScDqqTteFLbUxaoqyMJbMLVkKFBhuvbdQsWDbhCiCTbbMExkDNkbGHl+saM2L4i0PD87KzufiT/gaIoWo5acPubScMCL5sokiPfd4eu5uI9Mw8LFzCYdefny6AglOp6HKgj+PshVV7oEHbSfyo/eRwPKEUIG0zx6iLXhOMVUFAVRQkVBaj4bSbfEN6tM917ivjOMTbddd3qzk4IgGr7rv7SMsQff4FXt45lZ89W9TkzUpP24oKKsAi5CZIaaFMhV10bE7sSH9HX5XDqDIfkdT5sg0m38trvjt5RlvomISc4tKCeIyjKUNAwMNSQprSmTojpyu9+wlYmhL2LSCrh05W69eupL4nfsqFvpadnlNIa8JFyUDpQrIsjVHydX3JJ3j67dfSs/bs5QlTpdKX115mw8QkjUacFYzTaNE0tTNmIgv+Sc+AwW0v1hCdzPz7ZMXuqTT9CfdfKIuw7+nkugm8w5uT91xNzbubjr9WztjC0q19fbSf2giY+V/iYbIaRorg7D5nR5iHQ5lZZ+IEoQVjS2UzT+yTKJYlq9Bmv1apRKkVBQlYDL0bHXnlgnV1yQq9/UvPGLpSr/xV4XmyGztx47sGytV2ptwx0n/f6+G3kIUXsuX+Ig3bZdUuXNjMQQqkh6m/ejbqfKvJB9HrPOfUSiA3edWmwp9mWHJMaQTaeXmdepXeqF2fPPvf/BQAScgg8fShGSNLdWgvHYAaALe1e1L/dcLkQG/hFyVf7W80oEL+62Injl2L8PPEosqcwPOrg/tAqJ9lm5eUzbp5Cn6/UzpiCUFvKm6bg+dsLx6YMdHGyszfStJh2OxpSy5NG6iUsfN/wApiLu3O77n8hffr/cOMppkNNQR6fx6182HXhcFBecjBDFoI82DLvSWYmNja2oqGjJljU1NRGREWAx4DtyBY2Bf4hciVjOX9K3Pkb905N9Mwd317Wa4lmgPmKz59G/NH/CPyFImA8zJSFOwpMEZpNeUFl6wtvktMxcpgCFSqXwuq2ZycmFDasWtzQtNi4Nz08gUag0KoXESn+X8DYhIfp9YZOvTMz3AbFsRDIeagptL52WqqoqHV3tlStXPHzoW1raxGsJh8OJiIzYs3ePjU0vX19fsBgAcsWPl+AXl0dRcfnXi7Jt1a4LYXm8FCnj4ZPn/DN9oNrPjrZHlO3j0oMS+jzkblyJ3dcjCmIIW2wOSdn8IxfNelt48rZW7LTsrU9IIaJYu9rJQRR7p8XU1LRHD6vde3bv3rObQCCYm5lLSknxVt29d/dVVFRISDCTib3FiImJ+cwFuQJArrqCXCGEhLRGbbo2YnVRVmoWS1RJjSH6q/ZBkLOf5ij+/HaA15uSnjaiHWGekhjPB7lIdOjUfgxQq07N6lWr79y5jRCqrq4OjwivT4/Fqf+5YMFCMTExMBfQxPsyyNUfKFc8aaGKK+n88vm9xa1numvePvjozLNlPYfKtPs3Y9X5z88/zEca/8y2ganKO7+DNXz4CJ5iNYeYmNi8ufPAVsD3vSsuf8oVK+neRb9cASqFSqGQKWRCdVVlZSX2f46g7lDnuunU2R/vX/HLRhQqlUohkwjVVWwWi1VJ0XIa18x06l1BrtoJqp778hEXZtw+fD1xwN867Rypx068tt+3VGzoTnc9iAn8kxys5gDXCmiRXPFnZGBF/PnN2181tUZybPfhdXJV/vbitq0vG5+A+GjDkSBXv95rk+qzbE2/gEWn9j52PjK0PfuTuJ8CDpx6K2y3e7m9NEwh/Oc7WOBaAT94VhL5uzFQyHT+gd25HMTNDTiw80FOXbLa2DWL3b4MhyDUbdJ8F87JaxGlCJE0HMb002dIiEsoGGvROsMl6HyVRnHYus1+I+ev3/nEelf/9lIS7ucnO9Y8IDru3zRSCQa66QoOFrhWwA+8F1bttxBUGl8+2qlKNiOU8CUnY3L+6C2hvOGVU27fT5nkUv8QoyqYaHAzSxEiG8+/fOGfls2ozjfeSmd8y1EYtu3oHFnfFevuZbTPaw4n5+Gm/z2QnHV0+zAFEKs/y8EaNmw4uFZAG2DWfQIhIiLC30cqqDP18JG/VGp/Vb7aM3XV/Sz8UVldHL5v6nzPbKTq9u/JeZ1LqzqpXCFEEDVfcHyzddSamfsiiqt/ceHVzOjDs/4Xarnp5AILMWgG/NNYs3oNuFZAGygpqZUrURFRfj9WorTd6v/W2dbNQ5t3e/GMQ9El5e/Pz/U4ksCVHLj9/Fp72c4X7NxpH8cU5VF7b+wwebJ0iWda5a90rDLvrFjyyHCb574xqhBg0SUcLHCtgJZQ2mm8Kxya1oRDxyep1z3XYg9OGT/+r/XBTKrFknN7nTvnw60zew8UxcFbvK+vsJH6le11BAnrJVe8tjgqwejrXcXBAtcKaJFcMevlqnOMx0aQsFl2ZmvfOlewNC6mAKm7nzrmYSTcSS9BZ2/sospoKgr/ypMgCDHUZGhwb3YVBwtcK6C13hW9U3hXvOejmsuekzO0v0ykVpidU9Z5B+iFvhmgSztY4FoBLZWrkpJa74ou0ome8IIKuupf+tqKHi+dvvflL+/w7yAg7q0TU1BQkJaWBnZoAwICAn362L16FdnXrm90dDQYpA2IiopqaGh0Qe9KpPN4V9z84B2TFz8qFlAwZGTFZeNpH07NWKR2519XNSrIFdBBBAUHOTk5slgsMMXPYO/QF4zQZlavWr1u3fquIld1fVeioqKd44jL4v+bPf1cEmKMOXx1c/ewRSOW+BRg6SUBq6fuUL25uqcEBLIDHcKjhw9Bq4Dfi5e3V1fyrpidybuqTPde4r4zjE23XXd6s5OCoNLwXf/9Y1Tnn3w8M2v+pSQWeFdAh1BdXdv+3LevvbmZGRgE6Ej27N3TsBJ2Dbkq5U2BT6PxfSwW9/OzLZOX+uQT9GedPOKug0/eRKCbzDm5P3XE3Nu5uOv1bO2MLSrX19tJEUGugI5i+/bt5mbmYAegI7ly9UpWVlaXOuXS0pLO4VpV5oUcnDnr3EckOnDXqcWWDcY6IDGGbDqdljF6ZyQb+5l6YfZ89Vsnp+oIglwBAAD8Yd4V38oVO+H43wuvfSwtL8rJLeHFqpc8WjdxqdCNPQOk6hSrIu7c7vufyAixa3+/3DjK6ZqqMAGJWK09sd5aBOQKAAAA5Kpd4ZSlJ7xNzkWIQKJQqYhbWcmpQczk5MKG46pyS9Ni49LwPjgCiUImCdRwWOnvEhBCZIlCLnhXAAAAf4xc8e2AgcIWm0NSNv9gI7r1tvDkbZ32EkBkIAAAwA+oqKgoKytDCElKSYE1QK4AAAD4lOxs3je2iMGQA2uAXAEAAPApObm10/PKM+TBGiBXAAAA/CpX9d6VPMgVyBUAAAD/ele5tXIlB42BIFcAAADgXQEgVwAAAG0mO6dOruQYYA2QKwD4WTjJ58abqqkbO594X9k+xbuaaKh1H9s+xQP8LFfZtaEWDAbIFcgVACCEmJG7x1loqHcftvllaetzVxa+jYjLyEgIi82vaoeDqyx4hxcf/uZzFVyqrkV6ehpCSFpauhOMbwtyBQAdQGWG//lb0emZ8b6ezzI7xIPhsiurwe7Aj+DNg6qiogKmALkCAAyKfK+hPRgiInKWg3rKU9p7b6VPPBRpIkIi/c+kccH2QLMUFhYymUxcrlTBGr8RGDMQ4CfEbLcGZ2ztoJ1xmHnFeBtfUWUNmB74gWuFyZWyMlgDvCsAAAC+lavUWrlSBe8KvCuAn2EnXdu45U46SXfcmv8NVW5QY6rzg/etOxXFVhq2Yo2LJrVBlsoU721bvBKRwdQty+xl62YrZaUFXjp9+V7Q66RcFk1W1bCno5uH+wA1oQYZuXlP9647HVutN2H9soHyDWtnddn7+8eO33r55m1KPpfOUNdSkiDzXrYEhPXdVsyxbTwpamV2yI3zN338guOL6Wqm/d3m/T26W+1MddUFwYc2X3lXkvIan/079eaGee9FBBASENRxW7XAprVjmHKLEx5e8/R5GvomKeMzR0RJXVvXcvicv4fr0mvfBjnZj3asv5hQrTx48aq/9IQaZS+PO7tut3+umO3iLTONhVG9sZ5eOn3pXtDrj3ksmowabqxJ/RsZ68mutWffifVfsXGiUsqNbWsP34stFtTs+/feHX9pUaHi/jq5Sk8H74ovqAE6J//730oSmUgiEyMiI9p3T+z4bcbYjkjme96xG6Rzc687CuLHoLv+NathDlbsZkMsXWT4zVwub9uSqMPjNHgH/NWfrvv5DxVfcpZFrNTG0lXmhTAb7KkkYvcwVWIT2Xl/yrOCSvHckSu0sBTlGVdOzzClNdpM2+NGWhVeHvP5fLWmi9JYEtq8IcoiVmpim6nO/XJw7KSL0wxoTRWlPOLA69rNuJkXBwhhiZKuDwoal1pwf7z016fMLYk6MlaziTK1JzU2FnY8goMvPdneV/TLZraX89q9+qmoKpPIxG5Ghl3hXlu2bCnPtuER4fDk+Y1AYyDwIygaQ0ZrYwtvPJ9mN4hJKI26HcGL3ku87Z/aII6Pk/Hk1juEENV2go00VsM46Ven9lvgnYqQbP/l//mEf0xLeH77wJTuFIQ+Xpo6Zkt42XcPoDh49bjlPlkIabrsvh2ZlJ4U5r19rKYAtkp84P8OHDt9crEpvWGGrNPuHqdjqzWHLN537urZPQsH4J/KJJ+dueR+XjVCSLCbx95DO3dsnKKDby4zfOW2nTt27Nyx8/C+aYatsk31pyeHzr/jCOs5zt5+xjsgLCryiffxxfayCKHsB0tmn0vC58YjMAbMHIj5TcUPTz/L/7qEgufnHhZjL+4uE01w14qTfnVK/wVeuLFWnHoQmZT6LuTWwVpjTRu1NaKxsaqiN7msCSpH8nZTV6xa4O402FoRYq1/KbFxcbwFLU0tsAZ4VwAfe1c1NRW1Xgu138Usbl0i88U/qnVv9GSbEymcuhWcjDN9KSQykdb/Qia+dcHjyQxsM4mRF1OrGhRb8nyxNs8Ju5HDbd67Krg/VhLbzGhjDKuBA7fVDEuUnvi46Iu7UXucRBJZ1GH7y6K6Y2W/O2hLw9KFnW40cDwK7gwXxjY23fuhqiVmaNK7SvX39PtQyv1qw9LgBRq4WXqfyahdU/BgghSWV2yYZ27DjT/fcRbH0vXXRPH8poJHU+SxvJKjGhkrZIkOli46oqGxNGs9KorRkoDPnA6sfl3Ku1JQlCeRiVramvDYAe8K4HdouiOGKmIv/uE3XtQ5B+wU/8eZCJFVFEkI1UTdeP6puq5H6/n1CC5CxB7j+8hh9Sv/6SHPzwgh/SWbnVUadkeJmHvMwJyZ8uCbr0qa3Xllzpt4bK3KoMEN+seo6v0cVBBCha/CMtjf9MharPe7tdRKrK52U7Rc5vej4d1w0ZmsX+t6qjiM6adF//o+oncf4SCNvQvmvMup3Z2ErccozOcq9z/pn/vlS69Pz874l2K2meiij7tE9cZavKmRsSym1xrLM6qxsQTt9ntutm/ceQf8ErKzs/Py8hBCJiamYI3fC8gV0AKEu412lMOelSE3XhXxuvmzg++9R4hqt3yVPRWhqjDP8KLapruIG6GYgJi52itgD9CytwGvKxBC8ra2igKVX4EkdNSFEEIlH97nc5rduQARr6U11V99z1tVkoM/tSnCtG8e07KW9gYiDas2ga5qgIkFqihgcjrithIUxcWnsrw+RF7EYpqLEqaYgf89qmtSrc4LOuvPRAgZTx6tjUtx2duAaNxYvZswlrYGbqz37xoZS27Cuok6EFrRTkRFveItmJqCXIFcAZ0AevexA6UwLQq8GYM9X6s/h3m/wZ6zo/sPcrEgIsQM9ooqxrYsjbkVhOmIicsAXhQhOy/xE/6WetJBhi4k/NWfwph75biKFFc0+6EuRcm6lzxCKP3yUf/cuq04qXcO3sP0UcG2B6MF4a0EqjD+1TGX0x5jWHAL4+4dWjxxZH9bC301eUkJCXmHQxm8tvYGkm/iPlELO/SQUw8y8POo/hR4NqAcIQGLaSM1eR9Fsz8l8Yx1op9sI1sJKTrfbdpYRDJRAKpou8lVdHStXJmYgDV+LxDIDrQIMZNx9mIXPIvz/O7Elfexqnx9K6ISIb1hNoqKNGdjFPKq4MmtuLJ+vVDcbT/sgWvgPKi2LYvLruCNsCdraKEq3MT7EUFYe4yjavPeAd16xeqeZ/5+8enSGNMUN1c7DaGSxKeXr75kIkSzWzHXXPh32qW6OOLQZOeldzNrPUEhKXlpSeEaNqc8t3EbJc3AdUq3batiuS9O30+dMkeDkPf0zNMKhEg204eq1t6IXFZ5nbHM1Zo0lpDOd40F/HrvKqrOuzIDa4BcAZ0BiR7j7eied5jpD3wSt3Qrux9cjJDyQAc1ColkP0ofvUrIeuT7gWVO8PXF/ArtMY4atYMokYTFBRGqQIpjj/vts26DtpTFnD8ZykVITIKYF3L5YEidgFpO3bp/63Qdyu+0StGTxaOW3s1BSG7IhiMbZw8xksTvqLLQxYa2tQ5WAz9R23m6+eoFkTURZ29/nD5f5MmZZyyEKHbTByvVtWeS6BI8Y4075rffWhiq3e8nOhqTKzk5ORiL/bcDjYFAS/XK2tWWhhBKvPXo/Qc//yyEJHs76QkhRNEYOEwdIZR0xy8x0f/2B4SQxuhh2nUegKCKiSL2b25cCrMtLXEFAVv3RFcj7VVPknPi/W+c+/fQiYu3nkalpAcfm9lD8ufCC3htaDVcbhubCIsjznrnIITkZ1w+v2pErVZ95+VQbfjM3tg20We9PqT5nwlkIyTUz6M/o/42FFQ2/iljAb+WwsLC1NTUDo+z4DJzU5MzC9lQBUCugLZVFWmb8VZkhFDsDU+vu+8RolmNMBLD1tD0nAYqIITiPD09r8cihJSHjdCt//SHptmvrxxCiBN81Cu59aOscwoSP5YhhMrzMooFdfqMmOAxc6qLk203BaGfrrsEihCuqSU5xW2Mv6jMz8DjPSTU5Rq2z3FLszKbnP+EqDh4Vj9BzFTnj506GVyFkOjA6fZyX86EptmfZ6ygY97JMKkWn7hWCCGzNsdZVJflZha06lIyn83SUdbUUZex/y+V/0zS+vMBuQJ+Q12R7eNmiXkzr3btjEJIwGSkpSRvjXC3kfbY4qvt2yNrEFIYMsqwwWBBdMvZc4zxGINF41feSWF99VxP9D+1Zdut1OarP0nBdrA2Qijz5HBVESl1g26mlj1s+jgMGvXX3NV7roTm/MSNQ5PXxcMF02/feFWEvchyij8xWzU2u6CCPiYuKOHKtTfM2jR2yq1lwyZ4FTdtQ0a/mYNFEUIfjm9/zkFIYohH76/GfKJb/D271lgu//vGWAGnNn/XWMAvpj7OwqRNcRbc9EujlMSU1GVFjZe9LGtxrsoy3iVms/hspgBu+qXRCuLKqnJiRstDy0CuAD6GKG/vir9jcjBnRH+YjVxdU5yY6Rhbet0K2UHORl/1utCMFp7Z0ZeOECf6wBgdcTltY9sBg/rbWRmriUkaDJq9Ya93UkXzexWyXH19qyXezFZTnJH4Nvb1q7CXzwLuXz2+c7l7byWdsSfetvFTKqrWkOHq2ELyfgcVNX1dFUlpmy1RrSmBbjn7bzMCQjUxm3oa9B7tNsltqJWG1thDURR1hWZuLak+M0bUC5TsyGk9xRtpqNHC0zvteMZy1pJgaJrY9h80oI+1iYq4lN6gOev33UqsgKrYYXL1JYq9LXEWrMzQV5/x53xCaEp5JzlnDrOgoLTpWeBYGWH155Nc3uJsIFfAb4CkPMC9V23/jO7I/mpfohzErSfYi9Q+gp3czEQaS47Rwjuhl5Y56QgjxClIjQsN9A98ERmfxSJIdRs8d+ci87oMRDKVjO9JkFwXm82K/2/hpnAOIpsv9X799s3riJchTx/fObdr2cS+KpjXdXvO+N0xPMEikr7JXYsAkYIfN4lKarBGyGzl5X1jNbGboDw7KSmbJaim9Z3xbZs4OJrR0lv3No7QJiOU9fLe9cuevq8KVQYsuxFycpQ8QogsSPomxFzMeuZEDd6iwpjJliLf6rPRojsvr3wxVtjTgMDndcaat2OhxXeMBfxCampqAgICeJMIq6urt6EEQXUHexXs2ojZjTAS6QznXOw3WUVcjiEhPcIrv4nz0ag7n77DvzqfYv8pShIMWUmZ4d757XxJABiEqeVwmLlpyak5Jd8MW8St+JyRnJyRz+J+Jze3LCvu5VPf+/d9njyPeJtT9u22nNKc1NSc0roBhbhZV5xEiSSyUP/TKY13yUk+1ouEGcHqWCqnydyNjjs1u6iJ0Za4FXmJr549fvwsOoPJ/cHJN1M8tyIvKTrY74FfcExWBa+MqpLsjJzSpgZ34mZfGyaCHbbmkrCymh8YK/TJw/v3fJ+EtMhYMAjTLyU8Ipx3i02a7N6R+y16PF4K36/ZwaSOPueCW0Pp+LBevc5lc1uR7fYwIdxWPVuVrbVAIDvQyhZBYVnlJgOsCTQpRbUfzb1BEJI3sJI3+F75dDmVBuPVlr17FFmBENIa1Eu+cWUVIFOIAgjVEATpFIEmc7fkuBGBJqNpKqPZopNvpngCTUbDWEbDuKEnKsJQbPJ9mpN258jjcoSQptsEI6EfGatHa4wF/FIePHjAW3ByHALW4IvmHTABwNfqKCJDRygfxZ8//mj89qGK9e2P3ILIU/+sfFmNEKnX+J7SnaZVm/3+2pHnXISQ7l/j9GHkdH7G18cHe2kgEAYOHNjWMrilHyMjU9hSBj2MGE1+3M3Jf/PYJzgupaBGStNy4NA+mnRCSwp94RcYlZhRyBVhqBraDLQzlPr280NOwdvwmFyiipmFBj4iGTs73PdBcFxOlaiyoe2gASZyX2dhZcfFpZeVfCzmhXeUpbyOCEvD3gIFqDJ6Rmq1g5rh55PMljKsOx9WdlxsenlJUhEvGzPldXhYOp6NIotlQ2WpUeEfSmhK3c30pJr6RrK6LP11xPsiqqqZpZYYERoDoTGwM8N6e7g/vXbccQlt6/5DRjmPcnToYaBA4iXKjTiaUNF5TqcsbJkWfi5mOxPYnfiy/PGNgXl5eWQKVsf69rX7iXa9R3/J8OaKO5D0TcNwxYcbS/rKfjWlmZDBX0dCU3ybbQzkFr0+908fRuOJ0MQtpx8NK+A2uWud1a/KSmLOzu4h9VUWxoD1fjlfWpGr3u0zbXY+OdV5z5l17ZQT8YkFyKa886l6t9esuVxk5X9eMDmpx614P023x7GasFBJoIcimXecURUwIjvQuaHqzvYOv7Fxsp0aFTE/RgT63r1953FQ5PtPAmLa9tP2+Ed7ztLrPE5K2ZtL11IR5hF6jNaiwNXlY9fK17empgYhNNjR8SeKqebW1P7bKGaOnXjKzdZ1fwgvMoEsqSArhBCqend1gW3/jRHMJp2q/IBVA3tMOxryGSFEYRjYDOxnpYv7SKVR5+b2cVz3vLj6211X5fkt62sx/VRkMUJIWKzOxfv0ZMuQ0fti64NqyYL0ZpvaRCXqh5FufD7fz0YlEhl2Y3lt5LFnb7z7NoS3OPzs7VxsQWGQk/aP72NwU8C76ixwWYWZiTFhoRHxqd8P6OBjqvLfhj8Pj88q43bua/HHe1fj3Vx591dMTMxPeFe+vKmiG8+pVpV8apAwr3z5EXuCcjBHm8v8cHfTcOUGDspX3hU3995UBTyd3G3m5fpZpbmFr45OqJ32TG95KPPbXeN/VJPpJ17gu6lI81vXR6y2uWKUV159ReRyqtjs3JtOvFCLnqfTWGweVV/qatFDN0m8QOP68+Fl8xrCC7Ww/iZb1cdjNhR8d1orwxuHFhU+miiL705z6ffDjsC7AjoZBKq4gqaRZQ9zfRVJaietuSRJXYueFvryQnDn8THFxcX37t1DCCkrKxsZGf36Dsz4s3sCcFdDff6Nc4tscReJIKw1dLVX2O25ek1lqXx/fv0FzA8RGXr2wZHxWnWeCEHcdNYpz9W62HLi6YMhRU1VOpMlPo+OeVjju6Ep91tz9YQTHnbEDLwRVT/8CoFIolDIxNqKKUAkkyk8SN+tqz/KRlIZOrMP3pCQcuVizNffFheFnvUpxBa0/vpB2FHtvqBqAgAANOTCxQsVFRUIoYl/TWyH4is/+tz8gC9ZLJhrJdZwFZHhuPv2IdtvGtjYH7zP4gNsMFwXDVduFJFAMxg3UR9//D9//OGbr5Hl3D3vbrGXaZCHKN93Aj6eGipOSilub2MS5QfNHoCrY6bnuaiGzZyFz8/54vKqP3Fsi1r0Qa4AAAC+4sSJ47yYwOnTPdqh+NK3QR/xBW3H3grfKBNJSlOh8ScX1fmRD9/jK/Xsdb/9dIEip8X7zCM3IeububVljHS/mWhaSEFLGl8oL2z/sZQIsvYzhuCDt+TcOhP6RR4Lgs8+wn8ZTxmj3aI5cUCuAAAAvvAs6FlCQgJCyNHRSVlZ+dfvgFOYmo2LCknZUL5lU5dVfkrKxWMbOE/dFElkSuM/OdcAfJRmNrOiRaM1EyhCtbPRVXbEsIQStjNG4cNzfr5z6nlhbWJ+8Dm/EoSQgOXUutlJQa4AAABa61ohhGbOmNEuO+CWF/NC5Giigi2cAIdbVtiCkSIJkr0cdPhykjQRy6njlLCFYt//nvGCIT8FnXtcimm2zbQhqi38/hfkCgAAoJZPnz55eXkhhFRVVQcNGtwu+xCg0HiPZ1ZJRQt9G6KQOK9vh+bklcupqmz6j53zbK2ZEF/aVdjE3V0LWyh99F9AbjWqznt2xr8MIUTpPd1RqaWz1oFcAQAA1HL23NmqqiqE0PTpHgRC+zweSeJKknjJnMx3uewWZSFLKkvwFC4no5jbGQ1LMxg/pRu2UBFw0i+H8ynwzJNyhJCgw/QBjBabGeQKAAAAf/MvLd2/fx8mKCTS1ClT22s3BFEtc3zOaJT46EVuY/GpLooNiGkcrkeUNrbl9aIl+ETkt+csHQK1IemVJRU1bcjGbjYbRdt5uqUAVvKzUz6v/c8+qUAIiQzycJBruQiBXAEAAGDs3LkjLy8PITR58mRZWdl224+QwbD+MtgCN2TXodCG805Xl77+d8KI3W+/zdJt3Fg13Dnx2XwovLTdDo1El+C1Jua8Sa9oS7bYjOaykVSHzexNwucV37N6+xPMrRR3nNZbqjVHB3W0s2NtbSUsLAx2aBU1NTVsNrumpoZKpbZXm88fTVlZ2R92Runp6fsP7EcI0en09es2tOu+RKzmzjI4sykeoY/7xkyQunDwHwc1Smmi/+ktS/53KaHJ2D4h07lrh5ycer8UxW8b7FSyd9fy8dYKvP6s6rL0SP87N86f9SUtf3zZWe5nqrOQhpUaupiPUO7VTccnXZhrJZ4f+TiM0GuYhdT3OpiE1K3U67Idcz8/D88WSug1vGE2oqLjrP6Cz3wrUOLjBCxBevi0XhII5KoLICUt/Qc/OzoM3tegQNuQlJD8Y85l9ZpVLBYLIbR06TI5Obn23RnNaOGJ1ff7bn7FQZ99VzvqrG6wTu2vI0vylsx91KhiklTcjl6MdBp9JJbLDD0yo8+RGUJS8uKUypJP+cw6gTPLZ9X83IERlQZP60uNfMpGZU9X9lFeiSfKTvHrb2FH/262QdPtqBGBWLYVdior6rINsOjTIBtBrt8MJzHfm7VNnfKjp1iKIZCrrsAk90mvX0cnJSaBKdoAk8mMi49DCCkoKCgrKYNB2oCYuPiqVav+jHOJiIy4fPkyQkhRUXHhgoW/rFwCVQgfPQJRG80rTRDpscYnQGLuzDU3Er6MQyFlMWXjoZ3TtSIm/g+hCizTV5rAGLI3MNJq68pN//p8qECoPD+7PitN0cJx/JyVLl8GvGh21/hKshDvgy+KYCMJIKm5nz7/ZqzH0ciSetfJsIcyrVGhtEaFYtnOxYyb8W+DbN0slRoPVSFpN9dN5ebRNGxZeewks1ZO1ibAG3UYALoUYeFhNja9EEIrV6zcuHETGKSL4+BgHxQchBA6c/rsX3/99QtL5jJzM/O5dAajmWEu2XmxoZHvs4oFxFUMrHroSvDUg1Ock8Uky8pL0ZrMVF2W+SYiJjm3oJwgKstQ0jAw1JCktG7X1eX5mZ/KhWQUpZocvpJblpP09u3HXJagvIG5scqXSbi+fz5YtoR3H3NZQgr6Zg2z1e8298YobTefcoQ0V4S+3mRKA+8KAACgpdy65c3TKjMzswkTJvzawn804TNVtlsfx27fPJfFGCrfaScjCCsa2yka/8yuCUJSyqrNhzkQhRk65gyd1p4Pls2iqWy1cNLuHH6Eu4T6k1wNWj3xD3QyAwDQdcnKypo9ZzZveefOXQICAmCTdqPy/XXeVNrIdKpzy4YJBLkCAABAiMvlTpjg9vnzZ4TQhAkT7PrYgU3akfLX50/F4rJjPX2ERhtmJwW5AgCgi7J27ZrgkGCEkJ6e3pHD/4JB2pXisBMXUrAFcu8ZQ5Tb0g8FfVcAAHRFfHwe7Ny1EyEkKCh49co1+HixneGU5JTLqqpJSBm5bhgmT0QgVwAAAD8mPT198pTJvOVDBw8bGhqCTdoZkrLrpSjXnyoCGgMBAOhi7/kczoQJbgUFBQghd3f3SZMmgU06BSBXAAB0Lf75P3vnAdbEssXxIZCE3oVIr0+aIkURUKwoIBYQewV7w4pdrxWuWMGClGu7oiIKNhTFBogUKwgEEaRXQXpJSML7kgXk0sGglPPTL8zuTjZ7zib73zNzdsZ+fXhEOEJIQ0PjjOtZcAjIFQAAQM+itrZ2/fp1nl6eCCFeXt6bN3x4eXnBLSBXAAAAPUur7O3XX3C/gBDC4/E3rt9QV1cHt4BcAQAA9Li4CtMqAoFw2/e2hcVkcEvvAjIDAQDoF1rl7uHeoFXm5hbgFpArAACAnqVV69at9fD0AK3q7UBjINAvLljdVBno4dBotNVrVjVo1Z3bd0CrQK4AoOfi6+t74uSJ4uLitqvV1NQ8eHB/z57d4LG+QUZGxtixY/75558GrTIzMwe39F6gMRDo+1haWqqoKu/YsV1HR8dklImJiQmFSsE2FRYWvg57HRoaGhwcHB7+prKy8lnQM/BYH+Dx40dLbJdgzwLz8fH53PSZNMkM3NKrgekZgX7BsePHdu3a2W41I0OjV6+CYRaJXg2dTt+3by82HiBCSFNT0+fmrUGDBoFnQK4AoBdQVlamrKJUVFTUdrWAhwETJ04Cd/VesrOzFyyYj023iI2xdPbMOR4eHvBMHwD6roB+gYCAgL39hrbr6OnqmZpOBF/1Xp49C9IfpodpFQ8Pj5fnP/94XQStgugKAHoZxcXFSsqKZWVlrVXwu+M3ZcpUcFRvpLKy0tHxiPMxZ+yCNmjQIJ+bt2CcdYiuAKBXIiwsvG7tuta2DhkyxNJyCnip11FbW3v9+nUNTfWjzkcxrZo7d25kRBRoFURXANCLKSgoUFZRqqysbL7pxvWbNjY24KLeRdTbqM2bNkVGRWKLvLy8x4+fWL5sOXgGoisA6N2Ii4uvWrmq+Xo1NTVra2vwTy8iOzt7ie1iY2OjBq2aN29efBwZtAqiKwDoI+Tm5qqoKlMolMYrL1+6Mn/+fHBOr6C6uvrEyRPOzkcbouThw4afPHXKYLgBOAeiKwDoO5BIpGVLlzVeo6SkNHv2bPBMr8DX11dTS2P//r8wrZKSkrpy+err12GgVRBdAUAfJDMzU/V/KjQaDVt0v+BhZ2cHbunJVFVVXfO+dvbsmfj4eGwNNzf31i1bHRy2wfyKIFcA0JdZvWaVl5cXQkhWVjaB/IVAIIBPeuy9hZvbea9/vLDhlDBmzZrl5Pi3nJwc+AfkCgD6ON++fVPXUGMwGK6uZ1avWg0O6YG8CX9z5oyrv78/nU5vWGlubrFjxw4jQyPwTz8EhrgF+h1lZWWFPwrHjx//7t07dTX1rKwsaWlpcEsPgUql+vr6njnj+v7D+4aV/Pz8ixctXrt2naqqKrgIoisA6MtQKBRfX9+nQU/ev3+fmJjYZCuJRNLT0x81atTiRYvFxcXBXX+EvLw8D08Pd/cLeXl5DSsVFRXXrl1nu8RWUFAQXARyBXIF9GUyMjLc3M5fvHSxsLCw3coEAmH27Nkb7Ddqa2uD634POTk5/nf9/fz8QkNDGAxGw/rRo8dssLefPNkSh4MEZgDkCujT1NbWnnc7v2vXzsbDWAgLC+vq6ukMHSokLIzD4aoqK+PJ5Pfv36Wnp//8VXBwbN60+cCBg0QiEdzYTaSlpfn5+/n7+YVHhDdeTyQS582bt36d/eDBg8FLAMgV0PdJT0+3tbMNCQnGFvn4+BYuWLh8+YohQ4a0do9/6fIld/cL2dnZ2BpNTc1/r16DiyZ7SUxMZKqUv9+HDx+abNLR0bGxmWlnawftsQDIFdBfSE5OnmA6PjMzEyHEycnpsNXBwWFbRzo/aDTapcuXtm1zKC8vx0Kxp0+CdHR0wKW/SGxsrJ/fHT9/v7i4uCabDEcYWllbW023UlBQAEcBIFdA/7p/N504AQuSNDQ0Ll68pKer16k9pKam2toueR32GiEkKioa9PRZazEZ0AbZ2dmvX78OC3sd9Czo69evjTfhcLhRo0ysra2nT5suJSUFvgJAroB+R0lJia6eDtYRZTjC8OHDgK5llFGpVJuZNo8fP8LyBqM/xYiKioJ724VMJoeFhb0OCw0LC0tNTW2ylYuLa9y48dZW1lOnTh0wYAC4CwC5AvovS2wXe3t7I4SMjYwfPgzg5+fv8q4oFIqVtVVQ0FNsCqWrV/4F9zanpqbmw8cPrCgq7M2bsBbTL7m5uU1NJ1pbWVtaWgoLC4PTAJAroL/j53dn9pzZCCFJSclPH6Pb6LFnMBg2M22Sk5P87vgrKyu3Vq24uHiI9uCcnByYa7gx5eXl4eFvWFFUWFRUZFVVVfM6oqKiRkbGxsbGI0eO1NPVw+Px4DcA5Kr7qUp+eMa7wnr7bBX2pTVTU/2O+nDOWT9NFQboZA8MBkNNfVBKSgpC6N7dexYWk9uoHB0drT9MDyG0f/+B3bt2t1Hz4cMHVtZWWDdY9KeYjh/Phw8fBgwYICsr29sdW1lZSU4gk+PJZHI884Ucn5KS0vgBqQbk5eVZ+jTK2MhYXV2dg4MDvpYAG4FBmNq7CJZ8dF+14pb0wRsKbH0EhyBrYlyxcP7SzPNuq/WF4THIX+fhwweYVllZWbetVQghCrVuvitKdXXbNS0tp5iZmQcGPo6Pjw8OCR5tMrrdI4mIjDhy5EhaWuqnj9G9MXKKJ8c3iFN8fFxaWlqrd7scHFpaWiONRxoz/xvLyMjA9xAAueqkxlTmJSckpWUXVtE79gYcJ4HIw80vrjpUS4q3kXZUJ15Ztci9doPPIXMSm13FKT5u94Ut62farSLeurRMjQe+i7+Ii6srVti4cSN797xm9erAwMcIoQsX3NqWq+CQ4CNHjrx8+QIhdPLkqZ4/HENJSQkmTvHxcVjkhGX/t4GkpKSGhubwYcOMjY0NDY2gLwoAueoa9OJo3zOnr9x7mVDctR1wa2+4fWO9Fks8GEVhjiv+Thh9+ontoG5RE6L8zKPHP05eseyQyt1DY8Q54evYZb5//449Eaynq8f24bonTTJTVFRMSUl58OABjUbj4mrhVxMU9NTR0RHLfccYM3pMD3FOQUFBVlZWdjbzJSsrM4tVYC1mFRUVtf1eKSkpdXUNDXXmCxN1DREREfi+ASBXvxhSlbw/u2rlyYhiAZKsgqIoFx5PwONxHKi2MiPuWwkroBmopi72H4tra2sZlJLctMyimrpwKjWlsAYhHoRo2fd3rLtaZHp270SJbhMSnMjIHc42kxZudNAN8LSRhqbZrhIVFYkVLKdMYf9ZwuFMJ5h6eHpQKJTY2NihQ4c23vrgwX0nJ6e37942XikqKqqlpfXbzKdSqVksMar/16icnU2lUju4H1lZ2TpxUtfA/gkJCcG3CwC5YjNVse57LueoLTy+b4fV//gaNcIUPrIzWhtCQUhsxvHbRw1aSmympPqsttgRQlOessflwChBZpiWH/T3X0+rhh3eZibZrVEPTthwzTaTu1sOHg4YeXYaCSKsrvH2bZ1aDB82rDv2r1v/oPGHDx8wuaqtrfXzu+Po5BgT00L+xciRo34l0YDBYJSVlZWUlJSWlpaUlpSVljKLZaUlJVi5hFUuLS0tLSr6kZWVVVBQ0NmPEBMTk5aWlpGRVVdTaxCnX8n7BwCQq47CM2RrwIdtzfsKKr4Gx7K61Qkao1Ra+TES5aYc9NFCSmoyfJheVMZ4OD4qkZizeYpct3uIU8pi8yKX6R6OZ96OPTKCzZMkULODvG6VmK60Ue3bnWPR9Zqhr99UrioqKrKyspqsbBjQtvDHj+bziQgKCpJIpP/KlS5WiI39TKfTfXx8/j7qRCaTWzseERGRiMgIKpVKq6mhsqhhFmpqsEXWS1kZS3Pqhae+zFzAhoD6RQgEgpSUlPTPf9I/y1JSMHov0Ovo84nslIST5pauKQghrQPBtxd3SH3oWbeXjHMIV9gW+GC1yu+YFZ2a4jXD9DBZ5+CLG4vYq4/f/ayGbyve+Chww//69NVpgumE4OBXnJyc1VWUxutjYmLGjhtTWlra2R06Ox/btHFTw2JGRoaSsiJCyNjYODc3Nzk5uSdYjcPhhIWFpZg0aJG0NGtRRkZGTEwMUskBiK56D/TvH4NTWCVVM6MOJvdRkv08wylIa66FAuH3HCVBzmLR8L+3RXndIM/cPpiNcRCjlsFAqJbB6OsP1zFY86NzcjZtTCWTyV3QKoTQ+/fv/vM7qU+viI+Pbzc9oWvw8fEJCgoKCQkJCjD/CGIvDWVB5oKQkJBAXZlZk4+PDy5hAMhVX6E07sUXVkHBbLRsx8Sn6ou/TyJCg23Gy/w273BKGlpqoqho/ztx6wfrw4PDnYbIzY1lHDAYjMbp4zY2Njm5Od+aBUN5eXl+/n5YK5/BcIMmW8XExJYvX/GfL0X9wA02M2wmT57s6OgY9TaqjeMZYTBiwoQJXHg8gUDAs14J+PoC8y+eSCTy8fM3CI+goCBMQggA/VquysnPolmPgUqbjlfg7lhslfT4cSZCiuOGSfzGvAdOCQPz/6HoxKB75G36eqBXnUVGRhorfPnyRV1d/adfOTk3bmjhMayot1GYXE2aOOngwUPt7v/r17r+rYFSUpMnW06ebPnsWZCjo2Po69AW62tra//11344LwAActVBKhIehfxgFkjjzTqYa0DLjQrOREjcwFCm5c4eSvL9ay/yOAhEIpGAx3PhGDQKlVpDpVBpPIMmzxothYVw1d8eXX+Wg+pq4WqplOrqagpRZfLM0dItBnkEkp7+AJSYFxqSTtFT63n9TJSkB97P8ziIBCKhzmwsg4BK5xlkOdOkzmxKSoD3s2yW2UQCnoNRwzSbSlCxsBkr3a0Nq7q6epcvX0YIvXv3rrFcsYuPnz7VfVD93FcTJphOmGAaEhri6Oj4/PmzJvUbP4AFAADIVXtUJT55kc8sDBhjptbBiKU49lUyQhxy+oqtyFsl+crho+9b2iJqM3h6vVxVJVw/4hTRdEwNYSutaa3IFeKR11fgvP49NSS60F5NqscltFfGX3F0atnsGYOn1ctVZcI1x6Phzcy21pzazXKlp1eXaP72bdTChQvZvv+GqW+HDv3PVI0mo0xMHptERkU6Ojo+ehTQsD4uLq6wsFBMTAwuMQAActWBgCA56BlrHnNRkynqHeyTrvj2JoGKkKSGIn8rPQm8OptcnPNqEC3/5Snnx7n1qxVtdjvMU2lob+TVWrhpdo2Hz/tShLiUxtqMUx8oKiQipa3SaoskTkBxMAm9zUp9m1I1W6rHPf7Cq7vx1Im8GkTPf37q+KOfZs/Yu3VuI7M1F22aVeN+610ZQlyK42zGaZBEhESlhqpyd/PhaQ/R5uXlrays9L3te+zYcfZmaZeUlGCDMEmzaF7BYLjBvbv3Pn365Ojk6M9qY0QIhYQEW1lZwyUGAECu2lerlKeBGYj1YNPAvPDAJy3V4cAPGGKkR/p5bavI/FqAEBJXkWztekeUHjkVuwiZD8X/mHYkEhsiNeX+45QlsxrcSZTSVqZllyKE17b3ubpOV7D9bnTCAAURhLKKv2WWMxB/T+t2J8qMnIKNX2qhjf8x3SmizuwHAamL5jQyW0eJllWGEH7IRp8r9joCv8sMIpE4f958Ty/PgoICX1/fBQsWsHHn3te9sVSLRQsXtVFt6NCht3xuxcXFOf3t6Ovr63/XH+QKAECuOkB14gN/LIWdHnt285pWaknOuR7YSK4o378V1CJEEJPgb785jmeQratb6kxbb9YTp9QPx+z2yvs7W0pxIUZJ1Knl6+7kIPm57p5rO6JVTFUVIEnxotjKwqQ8CiL13Kd6eQYtOeuWZm17vd7s5bvkbp+oM9vFbr1fDpKff8F9/e/TKow1a9Z6enkihE67nJo7d27zpPauQaPRLlxww0YfX7p0Wbv1NTU1r/3r/de+/cdPHEtPT5eTk4OrDACwhT6bO1sZd+ceK7bCSSipNkVFVpApVYYr3G4eMBRo9C7qj/QihBC/hGCHdJxTbOxej4Mj6xsa8+9vXHn2Y2ll4lV7u/Nkuqip85U94wZ0+KrJyS/CixAqTv9R07N9yyk+Zvc/B4wbzL63aY3rx7LKxH/XLnWLp4tOcr64rxNmswstLa3RrFFlo6OjT5w80XZlIcG6ofD42ht26MTJE9joFWZm5vLy8h08GFVVVfcLHqBVAADRVbuUx/gEsDpYNByu+y9vNjQFo6qkAicgQGyq1ozqCipCCM+D76iOE1UWuLqlzFh0iRXJ0WLPLp4bzBX/uZyot+3y8VnynelCwRH48MwIr6ya0eP9S1RdcNojdeb8S6mY2a6L57/Cx8eUE/W3XTw5U/4PZTa6nHYZbjCMSqUeOLDfwtyijUFmBw0a5LDVgZyQsGB+W82GiYmJhw4dxAY0cj7qDNcLAAC5YjfFkTcCCxBC3GNWTlNsISUNxyMk0NL7GNQKZmTDxY3v+OA1OBGjHRcPp07d87KMuVga/xkhhSWe51cO7uSQAzgCL/NQadXVHZylqyrmxKyZZ8mUdiu6Wqq5tvktUFx048G+YZ06XpyI8XYvp1SrnZjZZfExCCkucXdfofXnRlrQ1NTct++vPXt2U6nUqdOmPAt6rqSk1FplR0entveWm5s7bfpUCoXp392796ipqcH1AgBArtgLPfup19NShJD4lBVjOvWwLweOGVYxGLTOxTdEhVmnPVNnzvVKrBvsqDgnr4KOxDrZIMagMz+Wg6ujJ4UgN37x2povxdTWx1iqSrp7M6xae/pMXaHWDoaDAy+gNF6xC7l7RIXZp9xTZs33qDe7KLsrZrOVrVu2PgkMDH0dmpGRMcF0fNuK1QYFBQWTzCYmJSVhc2g5bHWAiwUAgFyxG0ryXa8IZpCkPH+xbudGOMcReYkI0WiUTuoVwvFID1ISRIkldXL1xGHlcZmbO0YIdaJzkF5TxTxqPB+xg2eFU3iojf3QNgUw//aHm2Elo5ft2qTWHbnkOB4pNcVGZj/dvvSEzO3tBkJ/rE+Uk5Pz7t17FhbmkVGRGRkZIwwNXF3OzJkzp1M7CQ4JtrOzxUZt19DQePgwAI/Hw8UCAP4sfTDVoiLmX+9EphIPW2aj0slrNCe/OC9CqLqogtapcK4wzGmxQ2AJh7TmwPp1Xz1WbPVJpXQmuKourUYI8Ynw95JZr+iFr/+22/ykidmrNnXObLYjKCj46NFjbCTAoqKihYsWzJo9KyEhoSPvzc/P37p1i6npBEyrVFRUngQ+FRcXhysFAIBcsRvG95dufnkIIbFpay06PUYtkaQshhAqyy+idkIf4z3XrLj0DZFmuPr63jhlLlq3vuzlzqXH3hR1OE6r+ZFTxjxwFQlCr7gtiPNct5RpttW5WzdvnTRrMPvFruVHO2F2NynWkydPV65YiS36+/sNHqI1yWySn9+dFmcyrKqqCn0damu3RFFJwcXVBZtVZ+rUaSHBoU0mvgIA4E/R1xoDqcl33F9UIoTUl60c1vlpu7mE5KR5UELVj/RCChrQkfw2aoafw5K/oyj8I/dePWQuxYOmOXumZc4+/ZkVnn27vHyjwj2PBSod2BW1KLuQjhBeUlGs58sVNcNv+6Kjbyn8xvuvHLRgmv33xbRMG5dYltkpF1dsVrh3YZHyHxz7kI+P7+zZc1ZWVstXLM/IyEAIvXjx/MWL5wghOTk5HR3d8vKyiooKWVnZL1++xMXF0ek/E1z4+flPnjhla2sLFwgAgOiKDdBLEp54OLs8TG/U8lT68dIlMvPuerL9zC5dK7llBw9ECOXGZ1Z35BAKgx3tNj/+gVNfefHswv+xHu3F8Wuv8zg5XbI+BgnZv/RwcEEHcv2qM2JzEUIyuoo9fUB2ekHw34u3BBbi1Fb/47qo3uyh6y64/DQ7dN9Sx1cF9D99qOPHT4iPI3t6eGEz1mOkp6ffu3f3+fPnERERvr6+MTExDVolLS196NDhpK/JoFUAAHLFngtm4Zvj84zN1zq6nXHY459W13JHy3jo4puPEHHEjm1jxbtkGnGgzmAhhKq+kfPb63+h5r8+vXLFlRQkaHrSc9PwRtkFXCQLx4sO+vUxUtq1deuvJFa1szvaj69JpQiJ6hnI9Oh5f6n5r12Wr7j6DQlOOuGx5b9mTz7iuf2n2d6r1//brtndDzc395IlS95GvQsJCd27d5+5uYWEhETjCry8vCONR27csPG27+2kr8k7tu+AoWkBoAfSSxsDK77cvv6+nFWsCt1js/r7kZ1Lxoh8cD0VVYMERu8+OKPLU8jzq5lqE+6FpL/+XLJWVaK55FWTPVdv9kkuqyrOzSvFbslLg/Ys2s5769hEsfrqVXGXjj/KJyBUp6NV4YdsJt6S48dxCBjs9vprREvpiiVxoSkIETRGq/L3QIdTEtxXb7mZXFZZnNdg9pO9i7fy3jzZyOzYyycfNjY74vD0SbfkmWYP3+u5z1Dwz9pgOMLQcIQhVn7+/LmZ+SSEkP16e2fnY+wasQkAAJCrJgjqb9xmErQzhPWEKvr+wmXFCxdWsKgwzfG801ylrscnOGH9KTpcIZHkl+Qya4nmvV/0ioz4hNQ8hHBcBCIR0alUWi0qT0kpapxKSC9P+xyXzpJTHBcBz8VRS6vO+JKAEMKLFLecg1Ce+PwzFXHpT9ER7okOp1VkxH9JYZlNJBJr68xObWZ2bDOzE8ltmf2nEBCse0ycj48PtAoAQK66EYLcnLN+BOfdR69F5WNrRLWnLV670W6iwi8ODsspMWqmASEy7E1AXOloo2YBAZ/+wciUg+2FaAbOb5M6NWRPBTkwrAgRDGeNJvXIayef3uGIpMPtmT3iaETqUfhRdQ5GZVbsx2+UAZo6/xPlAncAQJ+TK4QQr6r1/lvTdxZnp2VXC8ookATZZAtOcswyM+Gw+y/vfC4zMhb4LbaURfs+zkOClkvHkeBOv39R8mqVjtn1IoSGnkoMX6sEggUArV6be/vxE4Vl/qehwjatYiFsuHKBCioKvByS/1uasBgF4VcDfyClRatHCrPbPWIDBQjikgIwJkOPhVbD+M9fAAD6plx1D9xqC3dOE6l4ds4n6TeMz0BJ8nEJLBOy3L5Qne05gUJjz7/75DNPGmI2AABArvqkW8RGO+yeIJDoefJZXjc/O0T//vK0xxe+Mbt3jBPrjrOBIxBAqwAAALnqs3BJWx44bM715IDTy8JubKShF750+usRp9mRw1NloNsCAAAA5KpLgnXEY7XE453772fSuucjaLmBh3cGiK5yd5wqDWIFAADQ1jUZXNCGlgvqb3Rzypi3e6WL9I1NwwTZq+2M8o/nV+58O+yIN9t3DXQTtB8J76LzOOV19ZQEcIiSE3HX71VSlZCKgZmlsSLff08ivexb+LPgj0mZRXQBkrym8cTRmp0YDJKSH/8+LrdWQlNfU7JZjya9OPH9x0yqmJqulhQvfHWAfkMt0A6UrEe7LEcuv5VGYedeazLurhlruTMgkwIe/gNERkVy4Tm58Jx79+7p+LuKg+aLM9+luudDUdJ1O3XWHlj/1Q7EVDdUoxdHX7E3If3civ0XHrbMLeoHvek+n8wRY1UYeuprTcPaAt/x3Kx3mXjnNT+M5wsHsN6if+4bnEqg/wDRVbsQpMyP3NZLLuRjq69wogYOPmYKA4jg4F4Eg86aN5lW8MrBfPuVlEZhF6WmbkZleuGLPRYWxz+y2o8JJI1hQwbS0mI/fsmjln28ss7kc9bzJweM2p++spaB9ZjSW5opun6267rDAYB+0t4FLugIRAllKT62+grHSwKt6q2ke22/lIKQvJXTw+isTHKoj9uhmcqshj5GfuC2hSytwqnZ/UsuyIx++SgwNC498+2ZWQpMWfvgtNTpXQW4EABArgDg9yAx69oLb4dJ6pKSyobWS+cMZQVM1MSr+//NQwgJWF5+dG5uw2TWOGGdVV639wxilpMuuoYVg/8AAOQKAH4DMsuvuM5qNuw/5av/5U/MAmnO5qmyTR5349aYtVCdWSh+E/S1ElwIACBXANCU0Neh6enpHalZWVnp7+/XbjWNNRtNRJv9dhiF758kMgtcamMHNZ8GhiCpMpAlcHnkbAqcFADoLJBqAfR9pAZKaWppjB8/YcyYMSajTLS1tZtUSEtLCwkJCQkNDggI2LVrd/t3eVycLdzoUb8n57FyIGiv5klzzWv13ZTyKhqcFAAAuQKApigrK8+YMcPb2zsg4CFCSFBQcODAgdimS5cveV/3boi9JCQkltot7eLH0CuKOjB5Mk7UaNz/+OCkAADIFQC0wI7tO729vbFyKQusnJub27ja5s1beHi6OmMaJ68wllvBbeGXdn+KyC8dMEfd31rIVQeAuls9cAHQH1BTU7OxsWm7jqio6MoVK7v+GXhRWUyiqnMzS35tZGQOLgJ2J0ktq6bD2QMAkCugP7Fzx662K2zYsJGfn7/rH8Aprj1SllUiP373awMjcwpKYAeSF5vZpIGRUUYOjSuB0wmAXAFAX2XIkCFTpkxtbauQkNDaNWt/7RN4tWbNVGAWqh4fPvO27Bf2xCevgwlfTsDtmPLGWhXtNn+qUxycTQDkCgD6Mrt2tRpgrV+3XkhI6Bf3z6uzbt9kAWYp3snMYsOliOzqBqGpyHh7/9w2m2FD5tzOazfy4pIzn6/LKmWdm2d74vHnnApKcfKz03aGIzY9KoITCYBcAUDfRl9Pf+LESS0EM3x869fbs+EDuOTmuV1bq8WJECqPPLfCRE5AWFJOQZYkyk0UUTSy2XDq/kdyamF1++kTBFVb53XKrGK2/45pOnIifAPUzRyuJ9CQip37KUMOOJkAyBUA9L8Aa83qNaKiou3/Woi8eFaBm4erNb3gJE0+Gfz+6hZzVSzBsLIwJzunsJz1oBW3tL7V1osXZjce8KK1feKExxwNvL3FZEDjnQvpLj4XEeE2TYaf9R4iD2T2Av0IjlpIlAX6GRNMJwQHv2pY5ObmTk76JiEh0YG30svzsgrp/CSSKLHdOz1GRdbndzEpeT8qcYISJBklDU0lUUKn90kvSYoMj0n/QeeX1TIyVBetSxgsys6p5CYN7MBhAADIFQD0Ul6+fDFx0sSGRfv19idOnAS3AADIFQD0LGpra0ePNgmPCEcI4fH4r4lJ0tLS4BYA6OFAUwLQ/+7RODgaerDsbO1AqwAAoisA6LkB1ghDg+jo6C8JifLy8uAQAOj5QGYR0F8DrJ27HgY8BK0CAIiuAKBHw2Aw8vPzSSQSuAIAQK4AAAAAgD1AqgUAAAAAcgUAAAAAIFcAAAAAyBUAAAAAgFwBAAAAAMgVAAAAAHIFAAAAAL+V/wcAAP//h2dBKpYIPWgAAAAASUVORK5CYII=)"
      ]
    },
    {
      "cell_type": "markdown",
      "metadata": {
        "id": "C7iVW0Yb3NGq"
      },
      "source": [
        "Define Network class"
      ]
    },
    {
      "cell_type": "code",
      "execution_count": 29,
      "metadata": {
        "id": "GcSGNpOPMr4-",
        "vscode": {
          "languageId": "python"
        }
      },
      "outputs": [],
      "source": [
        "# Code here\n",
        "# code here\n",
        "#Dense layer are basically the linear layers\n",
        "class Net(nn.Module):\n",
        "  def __init__(self):\n",
        "    super(Net,self).__init__()\n",
        "    #First Conv Layer\n",
        "    self.conv2d_25 = nn.Conv2d(3,64,kernel_size=5,stride = 2,padding=0)\n",
        "    self.bn_conv1 = nn.BatchNorm2d(64)\n",
        "\n",
        "    #Second conv layer\n",
        "    self.conv2d_26 = nn.Conv2d(64,64,kernel_size=1,stride = 1,padding=0)\n",
        "    self.bn_conv2 = nn.BatchNorm2d(64)\n",
        "\n",
        "    # Activation + Leaky Relu + Dropout + add\n",
        "    self.activation = nn.ReLU(inplace = True)\n",
        "    self.leaky_relu = nn.LeakyReLU(inplace = True)\n",
        "    self.drop = nn.Dropout(0.2)\n",
        "\n",
        "\n",
        "\n",
        "    self.linear1 = nn.Linear(1016064,32)\n",
        "    self.linear2 = nn.Linear(32,3)\n",
        "\n",
        "  def forward(self,x):\n",
        "    x = self.drop(self.activation(self.bn_conv1(self.conv2d_25(x))))\n",
        "    x_copy = x.detach().clone()\n",
        "    x = self.drop(self.activation(self.bn_conv2(self.conv2d_26(x))))\n",
        "    x = x + self.drop(x_copy)\n",
        "    x = torch.flatten(x,start_dim=1)\n",
        "    x = self.drop(self.leaky_relu(self.linear1(x)))\n",
        "    x = self.linear2(x)\n",
        "\n",
        "    return x\n",
        "\n",
        "\n",
        "\n",
        "\n",
        "\n",
        "\n"
      ]
    },
    {
      "cell_type": "markdown",
      "metadata": {
        "id": "OZ_nSaFQ3TSV"
      },
      "source": [
        "Initialize model and cast it to device"
      ]
    },
    {
      "cell_type": "code",
      "execution_count": 30,
      "metadata": {
        "colab": {
          "base_uri": "https://localhost:8080/"
        },
        "id": "HSAxcTLUOEK8",
        "outputId": "c7a5d56e-bff5-4490-b79c-dc4aafeaebef",
        "vscode": {
          "languageId": "python"
        }
      },
      "outputs": [
        {
          "data": {
            "text/plain": [
              "Net(\n",
              "  (conv2d_25): Conv2d(3, 64, kernel_size=(5, 5), stride=(2, 2))\n",
              "  (bn_conv1): BatchNorm2d(64, eps=1e-05, momentum=0.1, affine=True, track_running_stats=True)\n",
              "  (conv2d_26): Conv2d(64, 64, kernel_size=(1, 1), stride=(1, 1))\n",
              "  (bn_conv2): BatchNorm2d(64, eps=1e-05, momentum=0.1, affine=True, track_running_stats=True)\n",
              "  (activation): ReLU(inplace=True)\n",
              "  (leaky_relu): LeakyReLU(negative_slope=0.01, inplace=True)\n",
              "  (drop): Dropout(p=0.2, inplace=False)\n",
              "  (linear1): Linear(in_features=1016064, out_features=32, bias=True)\n",
              "  (linear2): Linear(in_features=32, out_features=3, bias=True)\n",
              ")"
            ]
          },
          "execution_count": 30,
          "metadata": {},
          "output_type": "execute_result"
        }
      ],
      "source": [
        "# Code here\n",
        "net = Net()\n",
        "net.to(device)"
      ]
    },
    {
      "cell_type": "markdown",
      "metadata": {
        "id": "k-HpzuNd337g"
      },
      "source": [
        "Print Summary"
      ]
    },
    {
      "cell_type": "code",
      "execution_count": 31,
      "metadata": {
        "colab": {
          "base_uri": "https://localhost:8080/"
        },
        "id": "2q13wQET35Vk",
        "outputId": "22c2a4f1-5031-4c05-bcce-1f6240b11ac1",
        "vscode": {
          "languageId": "python"
        }
      },
      "outputs": [
        {
          "name": "stdout",
          "output_type": "stream",
          "text": [
            "----------------------------------------------------------------\n",
            "        Layer (type)               Output Shape         Param #\n",
            "================================================================\n",
            "            Conv2d-1         [-1, 64, 126, 126]           4,864\n",
            "       BatchNorm2d-2         [-1, 64, 126, 126]             128\n",
            "              ReLU-3         [-1, 64, 126, 126]               0\n",
            "           Dropout-4         [-1, 64, 126, 126]               0\n",
            "            Conv2d-5         [-1, 64, 126, 126]           4,160\n",
            "       BatchNorm2d-6         [-1, 64, 126, 126]             128\n",
            "              ReLU-7         [-1, 64, 126, 126]               0\n",
            "           Dropout-8         [-1, 64, 126, 126]               0\n",
            "           Dropout-9         [-1, 64, 126, 126]               0\n",
            "           Linear-10                   [-1, 32]      32,514,080\n",
            "        LeakyReLU-11                   [-1, 32]               0\n",
            "          Dropout-12                   [-1, 32]               0\n",
            "           Linear-13                    [-1, 3]              99\n",
            "================================================================\n",
            "Total params: 32,523,459\n",
            "Trainable params: 32,523,459\n",
            "Non-trainable params: 0\n",
            "----------------------------------------------------------------\n",
            "Input size (MB): 0.75\n",
            "Forward/backward pass size (MB): 69.77\n",
            "Params size (MB): 124.07\n",
            "Estimated Total Size (MB): 194.59\n",
            "----------------------------------------------------------------\n"
          ]
        }
      ],
      "source": [
        "# Code here\n",
        "summary(net,(input_shape))\n"
      ]
    },
    {
      "cell_type": "markdown",
      "metadata": {
        "id": "uKrlHVEX3V6g"
      },
      "source": [
        "Define loss, optimizer and train the new model "
      ]
    },
    {
      "cell_type": "code",
      "execution_count": 32,
      "metadata": {
        "colab": {
          "base_uri": "https://localhost:8080/",
          "height": 793
        },
        "id": "QqCk8XDzP7WI",
        "outputId": "f5508b2e-12eb-4a5b-9f46-f9001bf24c44",
        "vscode": {
          "languageId": "python"
        }
      },
      "outputs": [
        {
          "name": "stderr",
          "output_type": "stream",
          "text": [
            "/usr/local/lib/python3.7/dist-packages/ipykernel_launcher.py:11: UserWarning: To copy construct from a tensor, it is recommended to use sourceTensor.clone().detach() or sourceTensor.clone().detach().requires_grad_(True), rather than torch.tensor(sourceTensor).\n",
            "  # This is added back by InteractiveShellApp.init_path()\n"
          ]
        },
        {
          "name": "stdout",
          "output_type": "stream",
          "text": [
            "Loss epoch = 0 loss 34.095420993864536\n",
            "Loss epoch = 1 loss 3.138595663011074\n",
            "Loss epoch = 2 loss 2.8050060272216797\n",
            "Loss epoch = 3 loss 2.420453976839781\n",
            "Loss epoch = 4 loss 2.3116458877921104\n",
            "Loss epoch = 5 loss 1.8763473145663738\n",
            "Loss epoch = 6 loss 1.789763256907463\n",
            "Loss epoch = 7 loss 1.7157734595239162\n",
            "Loss epoch = 8 loss 2.1631523221731186\n",
            "Loss epoch = 9 loss 2.296757910400629\n",
            "Loss epoch = 10 loss 2.080529071390629\n",
            "Loss epoch = 11 loss 1.7933993265032768\n",
            "Loss epoch = 12 loss 1.4414371475577354\n",
            "Loss epoch = 13 loss 1.0995683129876852\n",
            "Loss epoch = 14 loss 1.41240216139704\n",
            "Loss epoch = 15 loss 2.6401601135730743\n",
            "Loss epoch = 16 loss 2.096419770270586\n",
            "Loss epoch = 17 loss 1.5921991243958473\n",
            "Loss epoch = 18 loss 1.109617866575718\n",
            "Loss epoch = 19 loss 0.9732492621988058\n",
            "Loss epoch = 20 loss 0.7351155122742057\n",
            "Loss epoch = 21 loss 0.8507338035851717\n",
            "Loss epoch = 22 loss 0.48282085452228785\n",
            "Loss epoch = 23 loss 0.5381698748096824\n",
            "Loss epoch = 24 loss 0.4905036026611924\n",
            "[34.095420993864536, 3.138595663011074, 2.8050060272216797, 2.420453976839781, 2.3116458877921104, 1.8763473145663738, 1.789763256907463, 1.7157734595239162, 2.1631523221731186, 2.296757910400629, 2.080529071390629, 1.7933993265032768, 1.4414371475577354, 1.0995683129876852, 1.41240216139704, 2.6401601135730743, 2.096419770270586, 1.5921991243958473, 1.109617866575718, 0.9732492621988058, 0.7351155122742057, 0.8507338035851717, 0.48282085452228785, 0.5381698748096824, 0.4905036026611924]\n"
          ]
        },
        {
          "data": {
            "image/png": "[encoded data removed]",
            "text/plain": [
              "<Figure size 432x288 with 1 Axes>"
            ]
          },
          "metadata": {},
          "output_type": "display_data"
        }
      ],
      "source": [
        "# Code here\n",
        "# Code here\n",
        "criterion = nn.CrossEntropyLoss()\n",
        "optimizer = optim.Adam(net.parameters(), lr=0.001)\n",
        "temp = list()\n",
        "for epoch in range(epochs):\n",
        "  running_loss =0.0\n",
        "  for i , data in enumerate(train_dataloader,0):\n",
        "    inputs ,labels = data\n",
        "    inputs = inputs.to(device)\n",
        "    labels = torch.tensor(labels)\n",
        "    labels =labels.to(device)\n",
        "    optimizer.zero_grad()\n",
        "    outputs = net(inputs)\n",
        "    loss = criterion(outputs, labels)\n",
        "    loss.backward()\n",
        "    optimizer.step()\n",
        "    running_loss += loss.item()\n",
        "  last_loss = running_loss / 32 # loss per batch\n",
        "  print(\"Loss epoch = {} loss {}\".format(epoch,last_loss))\n",
        "  temp.append(last_loss)\n",
        "  running_loss = 0\n",
        "\n",
        "    \n",
        "print(temp)\n",
        "# Loss Plot\n",
        "x = np.array([_ for _ in range(0,25)])\n",
        "y = np.array(temp)\n",
        "plt.plot(x, y)\n",
        "plt.show()"
      ]
    },
    {
      "cell_type": "markdown",
      "metadata": {
        "id": "dh-sOQ5u2_Md"
      },
      "source": [
        "Make preditions, extract labels, calculate accuracy and plot confusion matrix as done in Task 1."
      ]
    },
    {
      "cell_type": "code",
      "execution_count": 33,
      "metadata": {
        "colab": {
          "base_uri": "https://localhost:8080/"
        },
        "id": "c_rFWfWpgKMJ",
        "outputId": "428a2be9-62ed-4c44-e2e2-7995620d9a77",
        "vscode": {
          "languageId": "python"
        }
      },
      "outputs": [
        {
          "data": {
            "text/plain": [
              "Net(\n",
              "  (conv2d_25): Conv2d(3, 64, kernel_size=(5, 5), stride=(2, 2))\n",
              "  (bn_conv1): BatchNorm2d(64, eps=1e-05, momentum=0.1, affine=True, track_running_stats=True)\n",
              "  (conv2d_26): Conv2d(64, 64, kernel_size=(1, 1), stride=(1, 1))\n",
              "  (bn_conv2): BatchNorm2d(64, eps=1e-05, momentum=0.1, affine=True, track_running_stats=True)\n",
              "  (activation): ReLU(inplace=True)\n",
              "  (leaky_relu): LeakyReLU(negative_slope=0.01, inplace=True)\n",
              "  (drop): Dropout(p=0.2, inplace=False)\n",
              "  (linear1): Linear(in_features=1016064, out_features=32, bias=True)\n",
              "  (linear2): Linear(in_features=32, out_features=3, bias=True)\n",
              ")"
            ]
          },
          "execution_count": 33,
          "metadata": {},
          "output_type": "execute_result"
        }
      ],
      "source": [
        "net.eval()"
      ]
    },
    {
      "cell_type": "code",
      "execution_count": 34,
      "metadata": {
        "id": "1pVWDIR338S-",
        "vscode": {
          "languageId": "python"
        }
      },
      "outputs": [],
      "source": [
        "# Code here\n",
        "# code here\n",
        "correct = 0\n",
        "total = 0 \n",
        "ground = list()\n",
        "Predic = list()\n",
        "with torch.no_grad():\n",
        "  for data in test_dataloader:\n",
        "    inputs, labels = data\n",
        "    ground.append(labels.cpu().numpy())\n",
        "    inputs = inputs.to(device)\n",
        "    labels =labels.to(device)\n",
        "    outputs = net(inputs)\n",
        "    _, predicted = torch.max(outputs.data, 1)\n",
        "    Predic.append(predicted.cpu().numpy())\n",
        "    total += labels.size(0)\n",
        "    correct += (predicted == labels).sum().item()\n",
        "#print Accuracy \n"
      ]
    },
    {
      "cell_type": "code",
      "execution_count": 35,
      "metadata": {
        "colab": {
          "base_uri": "https://localhost:8080/"
        },
        "id": "MYTKNZ2yZla4",
        "outputId": "9a999c8d-69cf-438d-9102-8871a26316fd",
        "vscode": {
          "languageId": "python"
        }
      },
      "outputs": [
        {
          "name": "stdout",
          "output_type": "stream",
          "text": [
            "0\n",
            "Accuracy : 0.6045197740112994 \n"
          ]
        }
      ],
      "source": [
        "# code here\n",
        "print(ground[0][0])\n",
        "truth_label = list()\n",
        "predicted_label = list()\n",
        "for i in range(len(ground)):\n",
        "  for j in range(len(ground[i])):\n",
        "    truth_label.append(ground[i][j])\n",
        "    predicted_label.append(Predic[i][j])\n",
        "print(\"Accuracy : {} \".format(accuracy_score(truth_label,predicted_label)))\n",
        "cm = confusion_matrix(truth_label,predicted_label)"
      ]
    },
    {
      "cell_type": "code",
      "execution_count": 36,
      "metadata": {
        "colab": {
          "base_uri": "https://localhost:8080/",
          "height": 437
        },
        "id": "DPuFTiL4ZmbT",
        "outputId": "2d964fa6-630a-4301-bca2-94e26d3a88e5",
        "vscode": {
          "languageId": "python"
        }
      },
      "outputs": [
        {
          "data": {
            "image/png": "[encoded data removed]",
            "text/plain": [
              "<Figure size 720x504 with 2 Axes>"
            ]
          },
          "metadata": {},
          "output_type": "display_data"
        }
      ],
      "source": [
        "# code here\n",
        "plot_confusion_matrix(cm)"
      ]
    },
    {
      "attachments": {},
      "cell_type": "markdown",
      "metadata": {
        "id": "qOpsLIiD1r6h"
      },
      "source": [
        "### Task 3 improving model"
      ]
    },
    {
      "cell_type": "markdown",
      "metadata": {
        "id": "A1vN-7LNmr3V"
      },
      "source": [
        "![model3.png](data:image/png;base64,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)"
      ]
    },
    {
      "cell_type": "markdown",
      "metadata": {
        "id": "SeuL0O963mgn"
      },
      "source": [
        "Define Network class"
      ]
    },
    {
      "cell_type": "code",
      "execution_count": 37,
      "metadata": {
        "id": "M5xcXtkfVWZY",
        "vscode": {
          "languageId": "python"
        }
      },
      "outputs": [],
      "source": [
        "# Code here\n",
        "# code here\n",
        "#Dense layer are basically the linear layers\n",
        "class Net(nn.Module):\n",
        "  def __init__(self):\n",
        "    super(Net,self).__init__()\n",
        "    #First Conv Layer\n",
        "    self.conv2d_30 = nn.Conv2d(3,256,kernel_size=5,stride = 2,padding=0)\n",
        "    self.bn_conv1 = nn.BatchNorm2d(256)\n",
        "\n",
        "    #Second conv layer\n",
        "    self.conv2d_31 = nn.Conv2d(256,128,kernel_size=3,stride = 2,padding=0)\n",
        "    self.bn_conv2 = nn.BatchNorm2d(128)\n",
        "    #Third conv layer\n",
        "    self.conv2d_32 = nn.Conv2d(3,128,kernel_size=12,stride = 4,padding=0)\n",
        "    self.bn_conv0 = nn.BatchNorm2d(128)\n",
        "\n",
        "    # Activation + Leaky Relu + Dropout + add\n",
        "    self.activation = nn.ReLU(inplace = True)\n",
        "    self.leaky_relu = nn.LeakyReLU(inplace = True)\n",
        "    self.drop = nn.Dropout(0.2)\n",
        "\n",
        "\n",
        "\n",
        "    self.linear1 = nn.Linear(492032,32)\n",
        "    self.linear2 = nn.Linear(32,3)\n",
        "\n",
        "  def forward(self,x):\n",
        "    x_copy = x.detach().clone()\n",
        "    x_copy = self.conv2d_30(x_copy)\n",
        "    x_copy = self.drop(self.activation(self.bn_conv0(self.conv2d_32(x))))\n",
        "\n",
        "    x = self.drop(self.activation(self.bn_conv1(self.conv2d_30(x))))\n",
        "    x = self.drop(self.activation(self.bn_conv2(self.conv2d_31(x))))\n",
        "    x = x + self.drop(x_copy)\n",
        "    x = torch.flatten(x,start_dim=1)\n",
        "    x = self.drop(self.leaky_relu(self.linear1(x)))\n",
        "    x = self.linear2(x)\n",
        "\n",
        "    return x\n",
        "\n",
        "\n",
        "\n",
        "\n",
        "\n",
        "\n"
      ]
    },
    {
      "cell_type": "markdown",
      "metadata": {
        "id": "pS4Nb4_U3rlB"
      },
      "source": [
        "Initialize model and cast it to device."
      ]
    },
    {
      "cell_type": "code",
      "execution_count": 38,
      "metadata": {
        "colab": {
          "base_uri": "https://localhost:8080/"
        },
        "id": "vbEE8YQBVwR6",
        "outputId": "77a97d7c-01b2-4e7c-b71e-1ee4abc02ef8",
        "vscode": {
          "languageId": "python"
        }
      },
      "outputs": [
        {
          "data": {
            "text/plain": [
              "Net(\n",
              "  (conv2d_30): Conv2d(3, 256, kernel_size=(5, 5), stride=(2, 2))\n",
              "  (bn_conv1): BatchNorm2d(256, eps=1e-05, momentum=0.1, affine=True, track_running_stats=True)\n",
              "  (conv2d_31): Conv2d(256, 128, kernel_size=(3, 3), stride=(2, 2))\n",
              "  (bn_conv2): BatchNorm2d(128, eps=1e-05, momentum=0.1, affine=True, track_running_stats=True)\n",
              "  (conv2d_32): Conv2d(3, 128, kernel_size=(12, 12), stride=(4, 4))\n",
              "  (bn_conv0): BatchNorm2d(128, eps=1e-05, momentum=0.1, affine=True, track_running_stats=True)\n",
              "  (activation): ReLU(inplace=True)\n",
              "  (leaky_relu): LeakyReLU(negative_slope=0.01, inplace=True)\n",
              "  (drop): Dropout(p=0.2, inplace=False)\n",
              "  (linear1): Linear(in_features=492032, out_features=32, bias=True)\n",
              "  (linear2): Linear(in_features=32, out_features=3, bias=True)\n",
              ")"
            ]
          },
          "execution_count": 38,
          "metadata": {},
          "output_type": "execute_result"
        }
      ],
      "source": [
        "# Code here\n",
        "# Code here\n",
        "net = Net()\n",
        "net.to(device)"
      ]
    },
    {
      "cell_type": "markdown",
      "metadata": {
        "id": "J457BWpL3wNo"
      },
      "source": [
        "Print Summary"
      ]
    },
    {
      "cell_type": "code",
      "execution_count": 39,
      "metadata": {
        "colab": {
          "base_uri": "https://localhost:8080/"
        },
        "id": "gwGw8v5JVy8x",
        "outputId": "6c1e7b5c-df62-4376-da2f-8f38c6ec515b",
        "vscode": {
          "languageId": "python"
        }
      },
      "outputs": [
        {
          "name": "stdout",
          "output_type": "stream",
          "text": [
            "----------------------------------------------------------------\n",
            "        Layer (type)               Output Shape         Param #\n",
            "================================================================\n",
            "            Conv2d-1        [-1, 256, 126, 126]          19,456\n",
            "            Conv2d-2          [-1, 128, 62, 62]          55,424\n",
            "       BatchNorm2d-3          [-1, 128, 62, 62]             256\n",
            "              ReLU-4          [-1, 128, 62, 62]               0\n",
            "           Dropout-5          [-1, 128, 62, 62]               0\n",
            "            Conv2d-6        [-1, 256, 126, 126]          19,456\n",
            "       BatchNorm2d-7        [-1, 256, 126, 126]             512\n",
            "              ReLU-8        [-1, 256, 126, 126]               0\n",
            "           Dropout-9        [-1, 256, 126, 126]               0\n",
            "           Conv2d-10          [-1, 128, 62, 62]         295,040\n",
            "      BatchNorm2d-11          [-1, 128, 62, 62]             256\n",
            "             ReLU-12          [-1, 128, 62, 62]               0\n",
            "          Dropout-13          [-1, 128, 62, 62]               0\n",
            "          Dropout-14          [-1, 128, 62, 62]               0\n",
            "           Linear-15                   [-1, 32]      15,745,056\n",
            "        LeakyReLU-16                   [-1, 32]               0\n",
            "          Dropout-17                   [-1, 32]               0\n",
            "           Linear-18                    [-1, 3]              99\n",
            "================================================================\n",
            "Total params: 16,135,555\n",
            "Trainable params: 16,135,555\n",
            "Non-trainable params: 0\n",
            "----------------------------------------------------------------\n",
            "Input size (MB): 0.75\n",
            "Forward/backward pass size (MB): 188.82\n",
            "Params size (MB): 61.55\n",
            "Estimated Total Size (MB): 251.13\n",
            "----------------------------------------------------------------\n"
          ]
        }
      ],
      "source": [
        "# Code here\n",
        "# Code here\n",
        "summary(net,(input_shape))\n"
      ]
    },
    {
      "cell_type": "markdown",
      "metadata": {
        "id": "3iu4B2F_3-cu"
      },
      "source": [
        "Define loss, optimizer and train model."
      ]
    },
    {
      "cell_type": "code",
      "execution_count": 40,
      "metadata": {
        "colab": {
          "base_uri": "https://localhost:8080/",
          "height": 793
        },
        "id": "UesLvTxU4DdR",
        "outputId": "b4a0def1-2761-4dd1-c5c1-0ed6f4e69935",
        "vscode": {
          "languageId": "python"
        }
      },
      "outputs": [
        {
          "name": "stderr",
          "output_type": "stream",
          "text": [
            "/usr/local/lib/python3.7/dist-packages/ipykernel_launcher.py:10: UserWarning: To copy construct from a tensor, it is recommended to use sourceTensor.clone().detach() or sourceTensor.clone().detach().requires_grad_(True), rather than torch.tensor(sourceTensor).\n",
            "  # Remove the CWD from sys.path while we load stuff.\n"
          ]
        },
        {
          "name": "stdout",
          "output_type": "stream",
          "text": [
            "Loss epoch = 0 loss 9.963576890528202\n",
            "Loss epoch = 1 loss 2.113573085516691\n",
            "Loss epoch = 2 loss 2.278988227248192\n",
            "Loss epoch = 3 loss 1.8037185817956924\n",
            "Loss epoch = 4 loss 1.6096842549741268\n",
            "Loss epoch = 5 loss 1.4774628914892673\n",
            "Loss epoch = 6 loss 1.3789508156478405\n",
            "Loss epoch = 7 loss 1.280856117606163\n",
            "Loss epoch = 8 loss 1.3281578570604324\n",
            "Loss epoch = 9 loss 1.3346916865557432\n",
            "Loss epoch = 10 loss 1.1687190160155296\n",
            "Loss epoch = 11 loss 0.9812344126403332\n",
            "Loss epoch = 12 loss 0.9845042675733566\n",
            "Loss epoch = 13 loss 0.9694402497261763\n",
            "Loss epoch = 14 loss 0.8203059379011393\n",
            "Loss epoch = 15 loss 0.757239431142807\n",
            "Loss epoch = 16 loss 0.8774334322661161\n",
            "Loss epoch = 17 loss 0.8301879875361919\n",
            "Loss epoch = 18 loss 0.7257808931171894\n",
            "Loss epoch = 19 loss 0.6071766577661037\n",
            "Loss epoch = 20 loss 0.7196000497788191\n",
            "Loss epoch = 21 loss 0.6540045849978924\n",
            "Loss epoch = 22 loss 0.6014591511338949\n",
            "Loss epoch = 23 loss 0.5439479742199183\n",
            "Loss epoch = 24 loss 0.5292405756190419\n",
            "[9.963576890528202, 2.113573085516691, 2.278988227248192, 1.8037185817956924, 1.6096842549741268, 1.4774628914892673, 1.3789508156478405, 1.280856117606163, 1.3281578570604324, 1.3346916865557432, 1.1687190160155296, 0.9812344126403332, 0.9845042675733566, 0.9694402497261763, 0.8203059379011393, 0.757239431142807, 0.8774334322661161, 0.8301879875361919, 0.7257808931171894, 0.6071766577661037, 0.7196000497788191, 0.6540045849978924, 0.6014591511338949, 0.5439479742199183, 0.5292405756190419]\n"
          ]
        },
        {
          "data": {
            "image/png": "[encoded data removed]",
            "text/plain": [
              "<Figure size 432x288 with 1 Axes>"
            ]
          },
          "metadata": {},
          "output_type": "display_data"
        }
      ],
      "source": [
        "# Code here\n",
        "criterion = nn.CrossEntropyLoss()\n",
        "optimizer = optim.Adam(net.parameters(), lr=0.001)\n",
        "temp = list()\n",
        "for epoch in range(epochs):\n",
        "  running_loss =0.0\n",
        "  for i , data in enumerate(train_dataloader,0):\n",
        "    inputs ,labels = data\n",
        "    inputs = inputs.to(device)\n",
        "    labels = torch.tensor(labels)\n",
        "    labels =labels.to(device)\n",
        "    optimizer.zero_grad()\n",
        "    outputs = net(inputs)\n",
        "    loss = criterion(outputs, labels)\n",
        "    loss.backward()\n",
        "    optimizer.step()\n",
        "    running_loss += loss.item()\n",
        "  last_loss = running_loss / 32 # loss per batch\n",
        "  print(\"Loss epoch = {} loss {}\".format(epoch,last_loss))\n",
        "  temp.append(last_loss)\n",
        "  running_loss = 0\n",
        "\n",
        "    \n",
        "print(temp)\n",
        "# Loss Plot\n",
        "x = np.array([_ for _ in range(0,25)])\n",
        "y = np.array(temp)\n",
        "plt.plot(x, y)\n",
        "plt.show()"
      ]
    },
    {
      "cell_type": "code",
      "execution_count": 41,
      "metadata": {
        "colab": {
          "base_uri": "https://localhost:8080/"
        },
        "id": "Euh4iG9Mkoon",
        "outputId": "469aca26-8ebf-495c-b8ba-fc2c73569558",
        "vscode": {
          "languageId": "python"
        }
      },
      "outputs": [
        {
          "data": {
            "text/plain": [
              "Net(\n",
              "  (conv2d_30): Conv2d(3, 256, kernel_size=(5, 5), stride=(2, 2))\n",
              "  (bn_conv1): BatchNorm2d(256, eps=1e-05, momentum=0.1, affine=True, track_running_stats=True)\n",
              "  (conv2d_31): Conv2d(256, 128, kernel_size=(3, 3), stride=(2, 2))\n",
              "  (bn_conv2): BatchNorm2d(128, eps=1e-05, momentum=0.1, affine=True, track_running_stats=True)\n",
              "  (conv2d_32): Conv2d(3, 128, kernel_size=(12, 12), stride=(4, 4))\n",
              "  (bn_conv0): BatchNorm2d(128, eps=1e-05, momentum=0.1, affine=True, track_running_stats=True)\n",
              "  (activation): ReLU(inplace=True)\n",
              "  (leaky_relu): LeakyReLU(negative_slope=0.01, inplace=True)\n",
              "  (drop): Dropout(p=0.2, inplace=False)\n",
              "  (linear1): Linear(in_features=492032, out_features=32, bias=True)\n",
              "  (linear2): Linear(in_features=32, out_features=3, bias=True)\n",
              ")"
            ]
          },
          "execution_count": 41,
          "metadata": {},
          "output_type": "execute_result"
        }
      ],
      "source": [
        "net.eval()"
      ]
    },
    {
      "cell_type": "markdown",
      "metadata": {
        "id": "6BxP7-6M3JWu"
      },
      "source": [
        "Make preditions, extract labels, calculate accuracy and plot confusion matrix as done in Task 1."
      ]
    },
    {
      "cell_type": "code",
      "execution_count": 42,
      "metadata": {
        "colab": {
          "base_uri": "https://localhost:8080/"
        },
        "id": "0G1Jiy62w1tD",
        "outputId": "2ab3f89f-55ef-42ef-e33f-b1e3cdb4bc04",
        "vscode": {
          "languageId": "python"
        }
      },
      "outputs": [
        {
          "name": "stdout",
          "output_type": "stream",
          "text": [
            "1\n",
            "Accuracy : 0.6779661016949152 \n"
          ]
        }
      ],
      "source": [
        "# Code here\n",
        "correct = 0\n",
        "total = 0 \n",
        "ground = list()\n",
        "Predic = list()\n",
        "with torch.no_grad():\n",
        "  for data in test_dataloader:\n",
        "    inputs, labels = data\n",
        "    ground.append(labels.cpu().numpy())\n",
        "    inputs = inputs.to(device)\n",
        "    labels =labels.to(device)\n",
        "    outputs = net(inputs)\n",
        "    _, predicted = torch.max(outputs.data, 1)\n",
        "    Predic.append(predicted.cpu().numpy())\n",
        "    total += labels.size(0)\n",
        "    correct += (predicted == labels).sum().item()\n",
        "#print Accuracy \n",
        "# code here\n",
        "print(ground[0][0])\n",
        "truth_label = list()\n",
        "predicted_label = list()\n",
        "for i in range(len(ground)):\n",
        "  for j in range(len(ground[i])):\n",
        "    truth_label.append(ground[i][j])\n",
        "    predicted_label.append(Predic[i][j])\n",
        "print(\"Accuracy : {} \".format(accuracy_score(truth_label,predicted_label)))\n",
        "cm = confusion_matrix(truth_label,predicted_label)\n"
      ]
    }
  ],
  "metadata": {
    "accelerator": "GPU",
    "colab": {
      "collapsed_sections": [],
      "name": "CS437_HW2_PartA_PyTorch (1).ipynb",
      "provenance": []
    },
    "kernelspec": {
      "display_name": "Python 3",
      "name": "python3"
    }
  },
  "nbformat": 4,
  "nbformat_minor": 0
}
