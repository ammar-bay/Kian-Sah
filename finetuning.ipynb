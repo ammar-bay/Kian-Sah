{
  "cells": [
    {
      "cell_type": "markdown",
      "metadata": {
        "id": "o5dOkrpMXxwA"
      },
      "source": [
        "### Dataset\n",
        "\n"
      ]
    },
    {
      "attachments": {},
      "cell_type": "markdown",
      "metadata": {
        "id": "FRknlAP8-jO1"
      },
      "source": [
        "Downloding pre-trained models and further train them through feature extraction and finetuning on our Marvel dataset.\n",
        "\n",
        "Comparing the models with a third model trained from scratch."
      ]
    },
    {
      "cell_type": "code",
      "execution_count": 4,
      "metadata": {
        "colab": {
          "base_uri": "https://localhost:8080/"
        },
        "id": "_POqcmrGQloX",
        "outputId": "e71bb1b1-fb25-451f-fe55-884836913323"
      },
      "outputs": [
        {
          "name": "stdout",
          "output_type": "stream",
          "text": [
            "PyTorch Version:  1.10.0+cu111\n",
            "Torchvision Version:  0.11.1+cu111\n"
          ]
        }
      ],
      "source": [
        "# make any other necessary imports here\n",
        "from __future__ import print_function\n",
        "from __future__ import division\n",
        "import torch\n",
        "import torch.nn as nn\n",
        "import torch.optim as optim\n",
        "import numpy as np\n",
        "import torchvision\n",
        "from torchvision import datasets, models, transforms\n",
        "import matplotlib.pyplot as plt\n",
        "import time\n",
        "import os\n",
        "import copy\n",
        "print(\"PyTorch Version: \",torch.__version__)\n",
        "print(\"Torchvision Version: \",torchvision.__version__)"
      ]
    },
    {
      "cell_type": "markdown",
      "metadata": {
        "id": "P0uPopOtAZZp"
      },
      "source": [
        "Define hyperparameters"
      ]
    },
    {
      "cell_type": "code",
      "execution_count": 5,
      "metadata": {
        "id": "-FvcGUc6c4sB"
      },
      "outputs": [],
      "source": [
        "# define hyperparameters\n",
        "data_dir = \"/content/gdrive/MyDrive/marvel\"\n",
        "\n",
        "\n",
        "# Number of classes in the dataset\n",
        "num_classes = 9\n",
        "\n",
        "# Batch size for training (change depending on how much memory you have)\n",
        "batch_size = 8\n",
        "\n",
        "# Number of epochs to train for\n",
        "num_epochs = 25\n",
        "\n",
        "# Flag for feature extracting. When False, we finetune the whole model,\n",
        "#   when True we only update the reshaped layer params i.e  perform feature extraction\n",
        "feature_extract = True"
      ]
    },
    {
      "cell_type": "markdown",
      "metadata": {
        "id": "21nBaKllBLun"
      },
      "source": [
        "### Data Load"
      ]
    },
    {
      "cell_type": "markdown",
      "metadata": {
        "id": "idL_FIkrBeLC"
      },
      "source": [
        "Load the data and initialize dataloaders here.\n"
      ]
    },
    {
      "cell_type": "code",
      "execution_count": 6,
      "metadata": {
        "colab": {
          "base_uri": "https://localhost:8080/"
        },
        "id": "J26dqCemDV7C",
        "outputId": "27a3497a-7728-4a1b-ad6a-3d2cad4e9a3a"
      },
      "outputs": [
        {
          "name": "stdout",
          "output_type": "stream",
          "text": [
            "Initializing Datasets and Dataloaders...\n"
          ]
        }
      ],
      "source": [
        "#Code here\n",
        "# Data augmentation and normalization for training\n",
        "# Just normalization for validation\n",
        "data_transforms = {\n",
        "    'train': transforms.Compose([\n",
        "        transforms.RandomResizedCrop(224),\n",
        "        transforms.RandomHorizontalFlip(),\n",
        "        transforms.ToTensor(),\n",
        "        transforms.Normalize([0.485, 0.456, 0.406], [0.229, 0.224, 0.225])\n",
        "    ]),\n",
        "    'val': transforms.Compose([\n",
        "        transforms.Resize(224),\n",
        "        transforms.CenterCrop(224),\n",
        "        transforms.ToTensor(),\n",
        "        transforms.Normalize([0.485, 0.456, 0.406], [0.229, 0.224, 0.225])\n",
        "    ]),\n",
        "}\n",
        "\n",
        "print(\"Initializing Datasets and Dataloaders...\")\n",
        "\n",
        "# Create training and validation datasets\n",
        "image_datasets = {x: datasets.ImageFolder(os.path.join(data_dir, x), data_transforms[x]) for x in ['train', 'val']}\n",
        "# Create training and validation dataloaders\n",
        "dataloaders_dict = {x: torch.utils.data.DataLoader(image_datasets[x], batch_size=batch_size, shuffle=True, num_workers=2) for x in ['train', 'val']}\n",
        "\n",
        "# Detect if we have a GPU available\n",
        "device = torch.device(\"cuda:0\" if torch.cuda.is_available() else \"cpu\")"
      ]
    },
    {
      "cell_type": "markdown",
      "metadata": {
        "id": "ziqVSbfTDn7S"
      },
      "source": [
        "### Helper Functions"
      ]
    },
    {
      "cell_type": "markdown",
      "metadata": {
        "id": "dHKnZp0cNUZw"
      },
      "source": [
        "Define the train_model function here."
      ]
    },
    {
      "cell_type": "code",
      "execution_count": 7,
      "metadata": {
        "id": "ZGs4cstCEkhx"
      },
      "outputs": [],
      "source": [
        "def train_model(model, dataloaders, criterion, optimizer, num_epochs=25, is_inception=False):\n",
        "\n",
        "    val_acc_history = []\n",
        "\n",
        "    best_model_wts = copy.deepcopy(model.state_dict())\n",
        "    best_acc = 0.0\n",
        "\n",
        "    for epoch in range(25):\n",
        "        print('Epoch {}/{}'.format(epoch, 25 - 1))\n",
        "        print('-' * 10)\n",
        "\n",
        "        # Each epoch has a training and validation phase\n",
        "        for phase in ['train', 'val']:\n",
        "            if phase == 'train':\n",
        "                model.train()  # Set model to training mode\n",
        "            else:\n",
        "                model.eval()   # Set model to evaluate mode\n",
        "\n",
        "            running_loss = 0.0\n",
        "            running_corrects = 0\n",
        "\n",
        "            for inputs, labels in dataloaders[phase]:\n",
        "                inputs = inputs.to(device)\n",
        "                labels = labels.to(device)\n",
        "\n",
        "                optimizer.zero_grad()\n",
        "\n",
        "                with torch.set_grad_enabled(phase == 'train'):\n",
        "\n",
        "                    if is_inception and phase == 'train':\n",
        "                        outputs, aux_outputs = model(inputs)\n",
        "                        loss1 = criterion(outputs, labels)\n",
        "                        loss2 = criterion(aux_outputs, labels)\n",
        "                        loss = loss1 + 0.4*loss2\n",
        "                    else:\n",
        "                        outputs = model(inputs)\n",
        "                        loss = criterion(outputs, labels)\n",
        "\n",
        "                    _, preds = torch.max(outputs, 1)\n",
        "\n",
        "                    # backward + optimize only if in training phase\n",
        "                    if phase == 'train':\n",
        "                        loss.backward()\n",
        "                        optimizer.step()\n",
        "\n",
        "                # statistics\n",
        "                running_loss += loss.item() * inputs.size(0)\n",
        "                running_corrects += torch.sum(preds == labels.data)\n",
        "\n",
        "            epoch_loss = running_loss / len(dataloaders[phase].dataset)\n",
        "            epoch_acc = running_corrects.double() / len(dataloaders[phase].dataset)\n",
        "\n",
        "            print('{} Loss: {:.4f} Acc: {:.4f}'.format(phase, epoch_loss, epoch_acc))\n",
        "\n",
        "            # deep copy the model\n",
        "            if phase == 'val' and epoch_acc > best_acc:\n",
        "                best_acc = epoch_acc\n",
        "                best_model_wts = copy.deepcopy(model.state_dict())\n",
        "            if phase == 'val':\n",
        "                val_acc_history.append(epoch_acc)\n",
        "\n",
        "        print()\n",
        "\n",
        "    print('Best val Acc: {:4f}'.format(best_acc))\n",
        "\n",
        "    # load best model weights\n",
        "    model.load_state_dict(best_model_wts)\n",
        "    return model, val_acc_history\n"
      ]
    },
    {
      "cell_type": "code",
      "execution_count": 8,
      "metadata": {
        "id": "vEAZQJsoEU28"
      },
      "outputs": [],
      "source": [
        "#Code here\n",
        "def set_parameter_requires_grad(model, feature_extracting):\n",
        "    if feature_extracting:\n",
        "        for param in model.parameters():\n",
        "            param.requires_grad = False"
      ]
    },
    {
      "cell_type": "markdown",
      "metadata": {
        "id": "jdIqYIsdOd62"
      },
      "source": [
        "Define the initialize_model function here, you do not need to include all the categories , simply include the one or more relevant to the model you are using."
      ]
    },
    {
      "cell_type": "code",
      "execution_count": 9,
      "metadata": {
        "colab": {
          "base_uri": "https://localhost:8080/",
          "height": 835,
          "referenced_widgets": [
            "7ffc648915f74133a93a3a9c837c9d9e",
            "6976d553b5d046d5a89d09477b56bffe",
            "9f846054e8264b4c90e28a19daa61135",
            "0b6e3b1b666c417bab601b8a4ba75359",
            "17809b689f97484cb1db8e51a2d38926",
            "877a5e47d8434791a6df3139fa240c46",
            "b111491e0f1f42d6b4882767cb9b4f3f",
            "8dc99e0cd8764f25b15083d5cfa4145f",
            "3f56465cb5354eacb8a826e2681bf341",
            "4620e0b50e0c45b682d682b6e7fd5478",
            "7ddfde293bbc41f1a2912325a1ebf209"
          ]
        },
        "id": "UHtbeczWAU53",
        "outputId": "801fab51-7e93-4783-88b6-8a41cc20b4b5"
      },
      "outputs": [
        {
          "name": "stderr",
          "output_type": "stream",
          "text": [
            "Downloading: \"https://download.pytorch.org/models/vgg11_bn-6002323d.pth\" to /root/.cache/torch/hub/checkpoints/vgg11_bn-6002323d.pth\n"
          ]
        },
        {
          "data": {
            "application/vnd.jupyter.widget-view+json": {
              "model_id": "7ffc648915f74133a93a3a9c837c9d9e",
              "version_major": 2,
              "version_minor": 0
            },
            "text/plain": [
              "  0%|          | 0.00/507M [00:00<?, ?B/s]"
            ]
          },
          "metadata": {},
          "output_type": "display_data"
        },
        {
          "name": "stdout",
          "output_type": "stream",
          "text": [
            "VGG(\n",
            "  (features): Sequential(\n",
            "    (0): Conv2d(3, 64, kernel_size=(3, 3), stride=(1, 1), padding=(1, 1))\n",
            "    (1): BatchNorm2d(64, eps=1e-05, momentum=0.1, affine=True, track_running_stats=True)\n",
            "    (2): ReLU(inplace=True)\n",
            "    (3): MaxPool2d(kernel_size=2, stride=2, padding=0, dilation=1, ceil_mode=False)\n",
            "    (4): Conv2d(64, 128, kernel_size=(3, 3), stride=(1, 1), padding=(1, 1))\n",
            "    (5): BatchNorm2d(128, eps=1e-05, momentum=0.1, affine=True, track_running_stats=True)\n",
            "    (6): ReLU(inplace=True)\n",
            "    (7): MaxPool2d(kernel_size=2, stride=2, padding=0, dilation=1, ceil_mode=False)\n",
            "    (8): Conv2d(128, 256, kernel_size=(3, 3), stride=(1, 1), padding=(1, 1))\n",
            "    (9): BatchNorm2d(256, eps=1e-05, momentum=0.1, affine=True, track_running_stats=True)\n",
            "    (10): ReLU(inplace=True)\n",
            "    (11): Conv2d(256, 256, kernel_size=(3, 3), stride=(1, 1), padding=(1, 1))\n",
            "    (12): BatchNorm2d(256, eps=1e-05, momentum=0.1, affine=True, track_running_stats=True)\n",
            "    (13): ReLU(inplace=True)\n",
            "    (14): MaxPool2d(kernel_size=2, stride=2, padding=0, dilation=1, ceil_mode=False)\n",
            "    (15): Conv2d(256, 512, kernel_size=(3, 3), stride=(1, 1), padding=(1, 1))\n",
            "    (16): BatchNorm2d(512, eps=1e-05, momentum=0.1, affine=True, track_running_stats=True)\n",
            "    (17): ReLU(inplace=True)\n",
            "    (18): Conv2d(512, 512, kernel_size=(3, 3), stride=(1, 1), padding=(1, 1))\n",
            "    (19): BatchNorm2d(512, eps=1e-05, momentum=0.1, affine=True, track_running_stats=True)\n",
            "    (20): ReLU(inplace=True)\n",
            "    (21): MaxPool2d(kernel_size=2, stride=2, padding=0, dilation=1, ceil_mode=False)\n",
            "    (22): Conv2d(512, 512, kernel_size=(3, 3), stride=(1, 1), padding=(1, 1))\n",
            "    (23): BatchNorm2d(512, eps=1e-05, momentum=0.1, affine=True, track_running_stats=True)\n",
            "    (24): ReLU(inplace=True)\n",
            "    (25): Conv2d(512, 512, kernel_size=(3, 3), stride=(1, 1), padding=(1, 1))\n",
            "    (26): BatchNorm2d(512, eps=1e-05, momentum=0.1, affine=True, track_running_stats=True)\n",
            "    (27): ReLU(inplace=True)\n",
            "    (28): MaxPool2d(kernel_size=2, stride=2, padding=0, dilation=1, ceil_mode=False)\n",
            "  )\n",
            "  (avgpool): AdaptiveAvgPool2d(output_size=(7, 7))\n",
            "  (classifier): Sequential(\n",
            "    (0): Linear(in_features=25088, out_features=4096, bias=True)\n",
            "    (1): ReLU(inplace=True)\n",
            "    (2): Dropout(p=0.5, inplace=False)\n",
            "    (3): Linear(in_features=4096, out_features=4096, bias=True)\n",
            "    (4): ReLU(inplace=True)\n",
            "    (5): Dropout(p=0.5, inplace=False)\n",
            "    (6): Linear(in_features=4096, out_features=9, bias=True)\n",
            "  )\n",
            ")\n"
          ]
        }
      ],
      "source": [
        "#Code here\n",
        "\n",
        "def initialize_model(model_name, num_classes, feature_extract, use_pretrained=True):\n",
        "    # Initialize these variables which will be set in this if statement. Each of these\n",
        "    #   variables is model specific.\n",
        "    model_ft = None\n",
        "    input_size = 0\n",
        "\n",
        "    if model_name == \"resnet\":\n",
        "        \"\"\" Resnet18\n",
        "        \"\"\"\n",
        "        model_ft = models.resnet18(pretrained=use_pretrained)\n",
        "        set_parameter_requires_grad(model_ft, feature_extract)\n",
        "        num_ftrs = model_ft.fc.in_features\n",
        "        model_ft.fc = nn.Linear(num_ftrs, num_classes)\n",
        "        input_size = 224\n",
        "\n",
        "\n",
        "\n",
        "    elif model_name == \"vgg\":\n",
        "        \"\"\" VGG11_bn\n",
        "        \"\"\"\n",
        "        model_ft = models.vgg11_bn(pretrained=use_pretrained)\n",
        "        set_parameter_requires_grad(model_ft, feature_extract)\n",
        "        num_ftrs = model_ft.classifier[6].in_features\n",
        "        model_ft.classifier[6] = nn.Linear(num_ftrs,num_classes)\n",
        "        input_size = 224\n",
        "\n",
        "    elif model_name == \"squeezenet\":\n",
        "        \"\"\" Squeezenet\n",
        "        \"\"\"\n",
        "        model_ft = models.squeezenet1_0(pretrained=use_pretrained)\n",
        "        set_parameter_requires_grad(model_ft, feature_extract)\n",
        "        model_ft.classifier[1] = nn.Conv2d(512, num_classes, kernel_size=(1,1), stride=(1,1))\n",
        "        model_ft.num_classes = num_classes\n",
        "        input_size = 224\n",
        "\n",
        "    else:\n",
        "        print(\"Invalid model name, exiting...\")\n",
        "        exit()\n",
        "\n",
        "    return model_ft, input_size\n",
        "\n",
        "# Initialize the model for this run\n",
        "model_ft, input_size = initialize_model(\"vgg\", num_classes, feature_extract, use_pretrained=True)\n",
        "\n",
        "# Print the model we just instantiated\n",
        "print(model_ft)"
      ]
    },
    {
      "cell_type": "markdown",
      "metadata": {
        "id": "PWsN7rEOPSAx"
      },
      "source": [
        "### Creating Optimizer"
      ]
    },
    {
      "cell_type": "markdown",
      "metadata": {
        "id": "wK6povE-xd4u"
      },
      "source": [
        "We have to send the model to our device, which could be the GPU or CPU.\n"
      ]
    },
    {
      "cell_type": "code",
      "execution_count": 10,
      "metadata": {
        "id": "tsmP0js4xTvD"
      },
      "outputs": [],
      "source": [
        "# Send the model to GPU\n",
        "#Code here\n",
        "# Send the model to GPU\n",
        "model_ft = model_ft.to(device)\n",
        "\n"
      ]
    },
    {
      "cell_type": "code",
      "execution_count": 11,
      "metadata": {
        "colab": {
          "base_uri": "https://localhost:8080/"
        },
        "id": "fpNW0yTOEwCO",
        "outputId": "b1e6b66e-f249-48f6-e759-bbc8d15b716e"
      },
      "outputs": [
        {
          "name": "stdout",
          "output_type": "stream",
          "text": [
            "Params to learn:\n",
            "feature extraction\n",
            "\t classifier.6.weight\n",
            "\t classifier.6.bias\n"
          ]
        }
      ],
      "source": [
        "\n",
        "params_to_update = model_ft.parameters()\n",
        "print(\"Params to learn:\")\n",
        "if feature_extract:\n",
        "    print('feature extraction')\n",
        "    params_to_update = []\n",
        "    for name,param in model_ft.named_parameters():\n",
        "        if param.requires_grad == True:\n",
        "            params_to_update.append(param)\n",
        "            print(\"\\t\",name)\n",
        "else:\n",
        "    print('finetuning ')\n",
        "    for name,param in model_ft.named_parameters():\n",
        "        if param.requires_grad == True:\n",
        "            print(\"\\t\",name)\n",
        "\n"
      ]
    },
    {
      "cell_type": "code",
      "execution_count": 12,
      "metadata": {
        "id": "2-GnxYOcxqEx"
      },
      "outputs": [],
      "source": [
        "# Observe that all parameters are being optimized\n",
        "optimizer_ft = optim.SGD(params_to_update, lr=0.001,momentum= 0.9)\n",
        "criterion = nn.CrossEntropyLoss()\n",
        "\n",
        "#Code here\n"
      ]
    },
    {
      "cell_type": "markdown",
      "metadata": {
        "id": "SRqlh8WLQ86C"
      },
      "source": [
        "### Training the model\n"
      ]
    },
    {
      "cell_type": "markdown",
      "metadata": {
        "id": "6ynfgemwQ_cJ"
      },
      "source": [
        "Now we use the function defined above tp train the model.\n",
        "\n",
        "---\n",
        "\n"
      ]
    },
    {
      "cell_type": "code",
      "execution_count": 13,
      "metadata": {
        "colab": {
          "base_uri": "https://localhost:8080/"
        },
        "id": "m6L7cApWRD5o",
        "outputId": "50235ff3-c6b8-483b-f257-22412a605468"
      },
      "outputs": [
        {
          "name": "stdout",
          "output_type": "stream",
          "text": [
            "Epoch 0/24\n",
            "----------\n",
            "train Loss: 1.7601 Acc: 0.3913\n",
            "val Loss: 1.3427 Acc: 0.5580\n",
            "\n",
            "Epoch 1/24\n",
            "----------\n",
            "train Loss: 1.5717 Acc: 0.4782\n",
            "val Loss: 1.3754 Acc: 0.5658\n",
            "\n",
            "Epoch 2/24\n",
            "----------\n",
            "train Loss: 1.5281 Acc: 0.4958\n",
            "val Loss: 1.2580 Acc: 0.5953\n",
            "\n",
            "Epoch 3/24\n",
            "----------\n",
            "train Loss: 1.5279 Acc: 0.4919\n",
            "val Loss: 1.2490 Acc: 0.5855\n",
            "\n",
            "Epoch 4/24\n",
            "----------\n",
            "train Loss: 1.5347 Acc: 0.4940\n",
            "val Loss: 1.2415 Acc: 0.6012\n",
            "\n",
            "Epoch 5/24\n",
            "----------\n",
            "train Loss: 1.5272 Acc: 0.4979\n",
            "val Loss: 1.2622 Acc: 0.5874\n",
            "\n",
            "Epoch 6/24\n",
            "----------\n",
            "train Loss: 1.5022 Acc: 0.5060\n",
            "val Loss: 1.2654 Acc: 0.5972\n",
            "\n",
            "Epoch 7/24\n",
            "----------\n",
            "train Loss: 1.5092 Acc: 0.5113\n",
            "val Loss: 1.2215 Acc: 0.5933\n",
            "\n",
            "Epoch 8/24\n",
            "----------\n",
            "train Loss: 1.5169 Acc: 0.5067\n",
            "val Loss: 1.2300 Acc: 0.6071\n",
            "\n",
            "Epoch 9/24\n",
            "----------\n",
            "train Loss: 1.5017 Acc: 0.5155\n",
            "val Loss: 1.2257 Acc: 0.6071\n",
            "\n",
            "Epoch 10/24\n",
            "----------\n",
            "train Loss: 1.4887 Acc: 0.5130\n",
            "val Loss: 1.2480 Acc: 0.5953\n",
            "\n",
            "Epoch 11/24\n",
            "----------\n",
            "train Loss: 1.5370 Acc: 0.4968\n",
            "val Loss: 1.2611 Acc: 0.5953\n",
            "\n",
            "Epoch 12/24\n",
            "----------\n",
            "train Loss: 1.4788 Acc: 0.5253\n",
            "val Loss: 1.2300 Acc: 0.6169\n",
            "\n",
            "Epoch 13/24\n",
            "----------\n",
            "train Loss: 1.5194 Acc: 0.5011\n",
            "val Loss: 1.2093 Acc: 0.6110\n",
            "\n",
            "Epoch 14/24\n",
            "----------\n",
            "train Loss: 1.4934 Acc: 0.5116\n",
            "val Loss: 1.2082 Acc: 0.6031\n",
            "\n",
            "Epoch 15/24\n",
            "----------\n",
            "train Loss: 1.5164 Acc: 0.5158\n",
            "val Loss: 1.1896 Acc: 0.6169\n",
            "\n",
            "Epoch 16/24\n",
            "----------\n",
            "train Loss: 1.4998 Acc: 0.5123\n",
            "val Loss: 1.2413 Acc: 0.6267\n",
            "\n",
            "Epoch 17/24\n",
            "----------\n",
            "train Loss: 1.4841 Acc: 0.5246\n",
            "val Loss: 1.2272 Acc: 0.6130\n",
            "\n",
            "Epoch 18/24\n",
            "----------\n",
            "train Loss: 1.5255 Acc: 0.5049\n",
            "val Loss: 1.1872 Acc: 0.6287\n",
            "\n",
            "Epoch 19/24\n",
            "----------\n",
            "train Loss: 1.4867 Acc: 0.5028\n",
            "val Loss: 1.1929 Acc: 0.6346\n",
            "\n",
            "Epoch 20/24\n",
            "----------\n",
            "train Loss: 1.5092 Acc: 0.5225\n",
            "val Loss: 1.1510 Acc: 0.6326\n",
            "\n",
            "Epoch 21/24\n",
            "----------\n",
            "train Loss: 1.4716 Acc: 0.5165\n",
            "val Loss: 1.2090 Acc: 0.6169\n",
            "\n",
            "Epoch 22/24\n",
            "----------\n",
            "train Loss: 1.5060 Acc: 0.5056\n",
            "val Loss: 1.2109 Acc: 0.6228\n",
            "\n",
            "Epoch 23/24\n",
            "----------\n",
            "train Loss: 1.5056 Acc: 0.5201\n",
            "val Loss: 1.2070 Acc: 0.6169\n",
            "\n",
            "Epoch 24/24\n",
            "----------\n",
            "train Loss: 1.5000 Acc: 0.5120\n",
            "val Loss: 1.2308 Acc: 0.5894\n",
            "\n",
            "Best val Acc: 0.634578\n"
          ]
        }
      ],
      "source": [
        "# Observe that all parameters are being optimized\n",
        "\n",
        "# Train and evaluate\n",
        "model_ft, hist = train_model(model_ft, dataloaders_dict, criterion, optimizer_ft, num_epochs=num_epochs, is_inception=False)"
      ]
    },
    {
      "cell_type": "markdown",
      "metadata": {
        "id": "oHVA-aKtRW3K"
      },
      "source": [
        "### Finetuning"
      ]
    },
    {
      "cell_type": "markdown",
      "metadata": {
        "id": "b6ztL7n0NIE-"
      },
      "source": []
    },
    {
      "cell_type": "markdown",
      "metadata": {
        "id": "W8OIEWauRamV"
      },
      "source": [
        "We will now perform finetuning, let's initialize a new model"
      ]
    },
    {
      "cell_type": "code",
      "execution_count": 14,
      "metadata": {
        "id": "uQ3BC59yR1p5"
      },
      "outputs": [],
      "source": [
        "#Code here\n",
        "model_ft2, input_size = initialize_model(\"vgg\", num_classes, feature_extract, use_pretrained=True)\n",
        "optimizer_ft = optim.SGD(params_to_update, lr=0.001,momentum= 0.9)\n",
        "criterion = nn.CrossEntropyLoss()"
      ]
    },
    {
      "cell_type": "code",
      "execution_count": 15,
      "metadata": {
        "id": "-Y_JmJK5yZZm"
      },
      "outputs": [],
      "source": [
        "# Send the model to GPU\n",
        "model_ft = model_ft.to(device)\n",
        "#Code here"
      ]
    },
    {
      "cell_type": "code",
      "execution_count": 16,
      "metadata": {
        "id": "eJvftJGVStbb"
      },
      "outputs": [],
      "source": [
        "feature_extract=False"
      ]
    },
    {
      "cell_type": "code",
      "execution_count": 17,
      "metadata": {
        "colab": {
          "base_uri": "https://localhost:8080/"
        },
        "id": "I0oMLdyOSlnf",
        "outputId": "07f57522-c798-43f8-f7cb-7e33b429947c"
      },
      "outputs": [
        {
          "name": "stdout",
          "output_type": "stream",
          "text": [
            "Params to learn:\n",
            "finetuning \n",
            "\t classifier.6.weight\n",
            "\t classifier.6.bias\n"
          ]
        }
      ],
      "source": [
        "\n",
        "\n",
        "\n",
        "params_to_update = model_ft2.parameters()\n",
        "print(\"Params to learn:\")\n",
        "if feature_extract:\n",
        "    print('feature extraction')\n",
        "    params_to_update = []\n",
        "    for name,param in model_ft2.named_parameters():\n",
        "        if param.requires_grad == True:\n",
        "            params_to_update.append(param)\n",
        "            print(\"\\t\",name)\n",
        "else:\n",
        "    print('finetuning ')\n",
        "    for name,param in model_ft2.named_parameters():\n",
        "        if param.requires_grad == True:\n",
        "            print(\"\\t\",name)\n",
        "\n"
      ]
    },
    {
      "cell_type": "markdown",
      "metadata": {
        "id": "gKyHB6dtTD85"
      },
      "source": [
        "now repeat the above process to train the model."
      ]
    },
    {
      "cell_type": "code",
      "execution_count": 18,
      "metadata": {
        "colab": {
          "base_uri": "https://localhost:8080/"
        },
        "id": "-GggukfATVPF",
        "outputId": "1e3379e9-1840-4bad-961a-ee652acd0e94"
      },
      "outputs": [
        {
          "name": "stdout",
          "output_type": "stream",
          "text": [
            "Epoch 0/24\n",
            "----------\n",
            "train Loss: 1.4822 Acc: 0.5232\n",
            "val Loss: 1.2055 Acc: 0.6169\n",
            "\n",
            "Epoch 1/24\n",
            "----------\n",
            "train Loss: 1.5301 Acc: 0.5102\n",
            "val Loss: 1.1535 Acc: 0.6365\n",
            "\n",
            "Epoch 2/24\n",
            "----------\n",
            "train Loss: 1.5080 Acc: 0.5190\n",
            "val Loss: 1.1702 Acc: 0.6267\n",
            "\n",
            "Epoch 3/24\n",
            "----------\n",
            "train Loss: 1.5239 Acc: 0.5091\n",
            "val Loss: 1.2352 Acc: 0.6090\n",
            "\n",
            "Epoch 4/24\n",
            "----------\n",
            "train Loss: 1.4718 Acc: 0.5260\n",
            "val Loss: 1.1838 Acc: 0.6248\n",
            "\n",
            "Epoch 5/24\n",
            "----------\n",
            "train Loss: 1.4747 Acc: 0.5211\n",
            "val Loss: 1.1937 Acc: 0.6228\n",
            "\n",
            "Epoch 6/24\n",
            "----------\n",
            "train Loss: 1.5113 Acc: 0.5218\n",
            "val Loss: 1.2241 Acc: 0.6012\n",
            "\n",
            "Epoch 7/24\n",
            "----------\n",
            "train Loss: 1.4828 Acc: 0.5201\n",
            "val Loss: 1.1917 Acc: 0.6169\n",
            "\n",
            "Epoch 8/24\n",
            "----------\n",
            "train Loss: 1.5075 Acc: 0.5141\n",
            "val Loss: 1.2014 Acc: 0.6071\n",
            "\n",
            "Epoch 9/24\n",
            "----------\n",
            "train Loss: 1.4779 Acc: 0.5144\n",
            "val Loss: 1.1795 Acc: 0.6444\n",
            "\n",
            "Epoch 10/24\n",
            "----------\n",
            "train Loss: 1.4753 Acc: 0.5355\n",
            "val Loss: 1.1875 Acc: 0.6464\n",
            "\n",
            "Epoch 11/24\n",
            "----------\n",
            "train Loss: 1.4881 Acc: 0.5267\n",
            "val Loss: 1.2369 Acc: 0.6228\n",
            "\n",
            "Epoch 12/24\n",
            "----------\n",
            "train Loss: 1.4555 Acc: 0.5366\n",
            "val Loss: 1.2212 Acc: 0.6110\n",
            "\n",
            "Epoch 13/24\n",
            "----------\n",
            "train Loss: 1.4676 Acc: 0.5281\n",
            "val Loss: 1.1916 Acc: 0.6208\n",
            "\n",
            "Epoch 14/24\n",
            "----------\n",
            "train Loss: 1.5112 Acc: 0.5127\n",
            "val Loss: 1.1714 Acc: 0.6385\n",
            "\n",
            "Epoch 15/24\n",
            "----------\n",
            "train Loss: 1.4853 Acc: 0.5190\n",
            "val Loss: 1.2405 Acc: 0.6149\n",
            "\n",
            "Epoch 16/24\n",
            "----------\n",
            "train Loss: 1.5333 Acc: 0.5208\n",
            "val Loss: 1.2533 Acc: 0.6110\n",
            "\n",
            "Epoch 17/24\n",
            "----------\n",
            "train Loss: 1.5070 Acc: 0.5281\n",
            "val Loss: 1.1676 Acc: 0.6405\n",
            "\n",
            "Epoch 18/24\n",
            "----------\n",
            "train Loss: 1.5130 Acc: 0.5042\n",
            "val Loss: 1.2019 Acc: 0.6090\n",
            "\n",
            "Epoch 19/24\n",
            "----------\n",
            "train Loss: 1.5182 Acc: 0.5201\n",
            "val Loss: 1.1947 Acc: 0.6483\n",
            "\n",
            "Epoch 20/24\n",
            "----------\n",
            "train Loss: 1.5012 Acc: 0.5292\n",
            "val Loss: 1.1904 Acc: 0.6346\n",
            "\n",
            "Epoch 21/24\n",
            "----------\n",
            "train Loss: 1.5060 Acc: 0.5106\n",
            "val Loss: 1.2873 Acc: 0.5992\n",
            "\n",
            "Epoch 22/24\n",
            "----------\n",
            "train Loss: 1.5272 Acc: 0.5120\n",
            "val Loss: 1.2162 Acc: 0.6169\n",
            "\n",
            "Epoch 23/24\n",
            "----------\n",
            "train Loss: 1.5072 Acc: 0.5162\n",
            "val Loss: 1.1717 Acc: 0.6287\n",
            "\n",
            "Epoch 24/24\n",
            "----------\n",
            "train Loss: 1.5419 Acc: 0.5208\n",
            "val Loss: 1.1799 Acc: 0.6346\n",
            "\n",
            "Best val Acc: 0.648330\n"
          ]
        }
      ],
      "source": [
        "#Code here\n",
        "model_ft, hist = train_model(model_ft, dataloaders_dict, criterion, optimizer_ft, num_epochs=num_epochs, is_inception=False)"
      ]
    },
    {
      "cell_type": "markdown",
      "metadata": {
        "id": "50iMjgPkUSe8"
      },
      "source": [
        "### Training from scratch"
      ]
    },
    {
      "cell_type": "markdown",
      "metadata": {
        "id": "C8_edbnPUWqB"
      },
      "source": [
        "Train a third model from scratch, similar as above.\n",
        "\n",
        "\n",
        "We won't have to worry about updating layers, simply set `use_pretrained=False` in initialize_model function, send model to device, define optimizer and loss and run training."
      ]
    },
    {
      "cell_type": "code",
      "execution_count": 19,
      "metadata": {
        "colab": {
          "base_uri": "https://localhost:8080/"
        },
        "id": "v-v_8ai1TzsQ",
        "outputId": "941b0909-80c5-4263-ac4b-15204c2f2721"
      },
      "outputs": [
        {
          "name": "stdout",
          "output_type": "stream",
          "text": [
            "Epoch 0/24\n",
            "----------\n",
            "train Loss: 2.4883 Acc: 0.1207\n",
            "val Loss: 2.1798 Acc: 0.1572\n",
            "\n",
            "Epoch 1/24\n",
            "----------\n",
            "train Loss: 2.2024 Acc: 0.1735\n",
            "val Loss: 2.1105 Acc: 0.1866\n",
            "\n",
            "Epoch 2/24\n",
            "----------\n",
            "train Loss: 2.1367 Acc: 0.1823\n",
            "val Loss: 2.0513 Acc: 0.2534\n",
            "\n",
            "Epoch 3/24\n",
            "----------\n",
            "train Loss: 2.1206 Acc: 0.2020\n",
            "val Loss: 1.9938 Acc: 0.2888\n",
            "\n",
            "Epoch 4/24\n",
            "----------\n",
            "train Loss: 2.0958 Acc: 0.2139\n",
            "val Loss: 2.0431 Acc: 0.2161\n",
            "\n",
            "Epoch 5/24\n",
            "----------\n",
            "train Loss: 2.0942 Acc: 0.2104\n",
            "val Loss: 2.0406 Acc: 0.2652\n",
            "\n",
            "Epoch 6/24\n",
            "----------\n",
            "train Loss: 2.0772 Acc: 0.2231\n",
            "val Loss: 1.9594 Acc: 0.2986\n",
            "\n",
            "Epoch 7/24\n",
            "----------\n",
            "train Loss: 2.0713 Acc: 0.2090\n",
            "val Loss: 1.9509 Acc: 0.3104\n",
            "\n",
            "Epoch 8/24\n",
            "----------\n",
            "train Loss: 2.0489 Acc: 0.2361\n",
            "val Loss: 1.9597 Acc: 0.2809\n",
            "\n",
            "Epoch 9/24\n",
            "----------\n",
            "train Loss: 2.0493 Acc: 0.2266\n",
            "val Loss: 1.9623 Acc: 0.2927\n",
            "\n",
            "Epoch 10/24\n",
            "----------\n",
            "train Loss: 2.0414 Acc: 0.2533\n",
            "val Loss: 1.9336 Acc: 0.3281\n",
            "\n",
            "Epoch 11/24\n",
            "----------\n",
            "train Loss: 2.0314 Acc: 0.2523\n",
            "val Loss: 1.9641 Acc: 0.3202\n",
            "\n",
            "Epoch 12/24\n",
            "----------\n",
            "train Loss: 2.0162 Acc: 0.2597\n",
            "val Loss: 1.9614 Acc: 0.2967\n",
            "\n",
            "Epoch 13/24\n",
            "----------\n",
            "train Loss: 2.0133 Acc: 0.2410\n",
            "val Loss: 1.9363 Acc: 0.2967\n",
            "\n",
            "Epoch 14/24\n",
            "----------\n",
            "train Loss: 2.0020 Acc: 0.2628\n",
            "val Loss: 1.9174 Acc: 0.2986\n",
            "\n",
            "Epoch 15/24\n",
            "----------\n",
            "train Loss: 1.9974 Acc: 0.2657\n",
            "val Loss: 1.9077 Acc: 0.3399\n",
            "\n",
            "Epoch 16/24\n",
            "----------\n",
            "train Loss: 2.0015 Acc: 0.2681\n",
            "val Loss: 1.9198 Acc: 0.3556\n",
            "\n",
            "Epoch 17/24\n",
            "----------\n",
            "train Loss: 1.9919 Acc: 0.2692\n",
            "val Loss: 1.8969 Acc: 0.3438\n",
            "\n",
            "Epoch 18/24\n",
            "----------\n",
            "train Loss: 1.9894 Acc: 0.2692\n",
            "val Loss: 1.9220 Acc: 0.3222\n",
            "\n",
            "Epoch 19/24\n",
            "----------\n",
            "train Loss: 1.9874 Acc: 0.2723\n",
            "val Loss: 1.9191 Acc: 0.3320\n",
            "\n",
            "Epoch 20/24\n",
            "----------\n",
            "train Loss: 1.9758 Acc: 0.2847\n",
            "val Loss: 1.9134 Acc: 0.3084\n",
            "\n",
            "Epoch 21/24\n",
            "----------\n",
            "train Loss: 1.9739 Acc: 0.2956\n",
            "val Loss: 1.9251 Acc: 0.3379\n",
            "\n",
            "Epoch 22/24\n",
            "----------\n",
            "train Loss: 1.9543 Acc: 0.2959\n",
            "val Loss: 1.8948 Acc: 0.3124\n",
            "\n",
            "Epoch 23/24\n",
            "----------\n",
            "train Loss: 1.9640 Acc: 0.2903\n",
            "val Loss: 1.8811 Acc: 0.3281\n",
            "\n",
            "Epoch 24/24\n",
            "----------\n",
            "train Loss: 1.9554 Acc: 0.2892\n",
            "val Loss: 1.8772 Acc: 0.3694\n",
            "\n",
            "Best val Acc: 0.369352\n"
          ]
        }
      ],
      "source": [
        "#Code here\n",
        "scratch_model,_ = initialize_model(\"vgg\", num_classes, feature_extract=False, use_pretrained=False)\n",
        "scratch_model = scratch_model.to(device)\n",
        "scratch_optimizer = optim.SGD(scratch_model.parameters(), lr=0.001, momentum=0.9)\n",
        "scratch_criterion = nn.CrossEntropyLoss()\n",
        "_,scratch_hist = train_model(scratch_model, dataloaders_dict, scratch_criterion, scratch_optimizer, num_epochs=num_epochs, is_inception=False)\n",
        "\n",
        "# Plot the training curves of validation accuracy vs. number\n",
        "#  of training epochs for the transfer learning method and\n",
        "#  the model trained from scratch\n",
        "ohist = []\n",
        "shist = []\n",
        "\n",
        "ohist = [h.cpu().numpy() for h in hist]\n",
        "shist = [h.cpu().numpy() for h in scratch_hist]\n",
        "\n",
        "\n"
      ]
    },
    {
      "cell_type": "markdown",
      "metadata": {
        "id": "dmA_IR-5zLfE"
      },
      "source": [
        "### Comparing models"
      ]
    },
    {
      "cell_type": "markdown",
      "metadata": {
        "id": "VTzpVkf0zOde"
      },
      "source": [
        "using data from all three models you have trained, plot a graph comparing validation Accuracy vs. Number of Epochs for your models for performance comparison."
      ]
    },
    {
      "cell_type": "code",
      "execution_count": 20,
      "metadata": {
        "colab": {
          "base_uri": "https://localhost:8080/",
          "height": 295
        },
        "id": "p_Xrku9gV2hj",
        "outputId": "e3fbed93-68dd-4831-8c1b-796e47cfd76f"
      },
      "outputs": [
        {
          "data": {
            "image/png": "[encoded data removed]",
            "text/plain": [
              "<Figure size 432x288 with 1 Axes>"
            ]
          },
          "metadata": {
            "needs_background": "light"
          },
          "output_type": "display_data"
        }
      ],
      "source": [
        "#Code here\n",
        "plt.title(\"Validation Accuracy vs. Number of Training Epochs\")\n",
        "plt.xlabel(\"Training Epochs\")\n",
        "plt.ylabel(\"Validation Accuracy\")\n",
        "plt.plot(range(1,num_epochs+1),ohist,label=\"Pretrained\")\n",
        "plt.plot(range(1,num_epochs+1),shist,label=\"Scratch\")\n",
        "plt.ylim((0,1.))\n",
        "plt.xticks(np.arange(1, num_epochs+1, 1.0))\n",
        "plt.legend()\n",
        "plt.show()"
      ]
    }
  ],
  "metadata": {
    "accelerator": "GPU",
    "colab": {
      "collapsed_sections": [],
      "name": "CS437_HW2_PartB (1).ipynb",
      "provenance": []
    },
    "kernelspec": {
      "display_name": "Python 3",
      "language": "python",
      "name": "python3"
    },
    "language_info": {
      "name": "python",
      "version": "3.10.4"
    },
    "vscode": {
      "interpreter": {
        "hash": "7c2737f5cd3eb6a237b7123ce75c641d6f975db18b0c0702ad2055474d78171c"
      }
    },
    "widgets": {
      "application/vnd.jupyter.widget-state+json": {
        "0b6e3b1b666c417bab601b8a4ba75359": {
          "model_module": "@jupyter-widgets/controls",
          "model_module_version": "1.5.0",
          "model_name": "FloatProgressModel",
          "state": {
            "_dom_classes": [],
            "_model_module": "@jupyter-widgets/controls",
            "_model_module_version": "1.5.0",
            "_model_name": "FloatProgressModel",
            "_view_count": null,
            "_view_module": "@jupyter-widgets/controls",
            "_view_module_version": "1.5.0",
            "_view_name": "ProgressView",
            "bar_style": "success",
            "description": "",
            "description_tooltip": null,
            "layout": "IPY_MODEL_3f56465cb5354eacb8a826e2681bf341",
            "max": 531503671,
            "min": 0,
            "orientation": "horizontal",
            "style": "IPY_MODEL_8dc99e0cd8764f25b15083d5cfa4145f",
            "value": 531503671
          }
        },
        "17809b689f97484cb1db8e51a2d38926": {
          "model_module": "@jupyter-widgets/controls",
          "model_module_version": "1.5.0",
          "model_name": "HTMLModel",
          "state": {
            "_dom_classes": [],
            "_model_module": "@jupyter-widgets/controls",
            "_model_module_version": "1.5.0",
            "_model_name": "HTMLModel",
            "_view_count": null,
            "_view_module": "@jupyter-widgets/controls",
            "_view_module_version": "1.5.0",
            "_view_name": "HTMLView",
            "description": "",
            "description_tooltip": null,
            "layout": "IPY_MODEL_7ddfde293bbc41f1a2912325a1ebf209",
            "placeholder": "​",
            "style": "IPY_MODEL_4620e0b50e0c45b682d682b6e7fd5478",
            "value": " 507M/507M [00:04&lt;00:00, 125MB/s]"
          }
        },
        "3f56465cb5354eacb8a826e2681bf341": {
          "model_module": "@jupyter-widgets/base",
          "model_module_version": "1.2.0",
          "model_name": "LayoutModel",
          "state": {
            "_model_module": "@jupyter-widgets/base",
            "_model_module_version": "1.2.0",
            "_model_name": "LayoutModel",
            "_view_count": null,
            "_view_module": "@jupyter-widgets/base",
            "_view_module_version": "1.2.0",
            "_view_name": "LayoutView",
            "align_content": null,
            "align_items": null,
            "align_self": null,
            "border": null,
            "bottom": null,
            "display": null,
            "flex": null,
            "flex_flow": null,
            "grid_area": null,
            "grid_auto_columns": null,
            "grid_auto_flow": null,
            "grid_auto_rows": null,
            "grid_column": null,
            "grid_gap": null,
            "grid_row": null,
            "grid_template_areas": null,
            "grid_template_columns": null,
            "grid_template_rows": null,
            "height": null,
            "justify_content": null,
            "justify_items": null,
            "left": null,
            "margin": null,
            "max_height": null,
            "max_width": null,
            "min_height": null,
            "min_width": null,
            "object_fit": null,
            "object_position": null,
            "order": null,
            "overflow": null,
            "overflow_x": null,
            "overflow_y": null,
            "padding": null,
            "right": null,
            "top": null,
            "visibility": null,
            "width": null
          }
        },
        "4620e0b50e0c45b682d682b6e7fd5478": {
          "model_module": "@jupyter-widgets/controls",
          "model_module_version": "1.5.0",
          "model_name": "DescriptionStyleModel",
          "state": {
            "_model_module": "@jupyter-widgets/controls",
            "_model_module_version": "1.5.0",
            "_model_name": "DescriptionStyleModel",
            "_view_count": null,
            "_view_module": "@jupyter-widgets/base",
            "_view_module_version": "1.2.0",
            "_view_name": "StyleView",
            "description_width": ""
          }
        },
        "6976d553b5d046d5a89d09477b56bffe": {
          "model_module": "@jupyter-widgets/base",
          "model_module_version": "1.2.0",
          "model_name": "LayoutModel",
          "state": {
            "_model_module": "@jupyter-widgets/base",
            "_model_module_version": "1.2.0",
            "_model_name": "LayoutModel",
            "_view_count": null,
            "_view_module": "@jupyter-widgets/base",
            "_view_module_version": "1.2.0",
            "_view_name": "LayoutView",
            "align_content": null,
            "align_items": null,
            "align_self": null,
            "border": null,
            "bottom": null,
            "display": null,
            "flex": null,
            "flex_flow": null,
            "grid_area": null,
            "grid_auto_columns": null,
            "grid_auto_flow": null,
            "grid_auto_rows": null,
            "grid_column": null,
            "grid_gap": null,
            "grid_row": null,
            "grid_template_areas": null,
            "grid_template_columns": null,
            "grid_template_rows": null,
            "height": null,
            "justify_content": null,
            "justify_items": null,
            "left": null,
            "margin": null,
            "max_height": null,
            "max_width": null,
            "min_height": null,
            "min_width": null,
            "object_fit": null,
            "object_position": null,
            "order": null,
            "overflow": null,
            "overflow_x": null,
            "overflow_y": null,
            "padding": null,
            "right": null,
            "top": null,
            "visibility": null,
            "width": null
          }
        },
        "7ddfde293bbc41f1a2912325a1ebf209": {
          "model_module": "@jupyter-widgets/base",
          "model_module_version": "1.2.0",
          "model_name": "LayoutModel",
          "state": {
            "_model_module": "@jupyter-widgets/base",
            "_model_module_version": "1.2.0",
            "_model_name": "LayoutModel",
            "_view_count": null,
            "_view_module": "@jupyter-widgets/base",
            "_view_module_version": "1.2.0",
            "_view_name": "LayoutView",
            "align_content": null,
            "align_items": null,
            "align_self": null,
            "border": null,
            "bottom": null,
            "display": null,
            "flex": null,
            "flex_flow": null,
            "grid_area": null,
            "grid_auto_columns": null,
            "grid_auto_flow": null,
            "grid_auto_rows": null,
            "grid_column": null,
            "grid_gap": null,
            "grid_row": null,
            "grid_template_areas": null,
            "grid_template_columns": null,
            "grid_template_rows": null,
            "height": null,
            "justify_content": null,
            "justify_items": null,
            "left": null,
            "margin": null,
            "max_height": null,
            "max_width": null,
            "min_height": null,
            "min_width": null,
            "object_fit": null,
            "object_position": null,
            "order": null,
            "overflow": null,
            "overflow_x": null,
            "overflow_y": null,
            "padding": null,
            "right": null,
            "top": null,
            "visibility": null,
            "width": null
          }
        },
        "7ffc648915f74133a93a3a9c837c9d9e": {
          "model_module": "@jupyter-widgets/controls",
          "model_module_version": "1.5.0",
          "model_name": "HBoxModel",
          "state": {
            "_dom_classes": [],
            "_model_module": "@jupyter-widgets/controls",
            "_model_module_version": "1.5.0",
            "_model_name": "HBoxModel",
            "_view_count": null,
            "_view_module": "@jupyter-widgets/controls",
            "_view_module_version": "1.5.0",
            "_view_name": "HBoxView",
            "box_style": "",
            "children": [
              "IPY_MODEL_9f846054e8264b4c90e28a19daa61135",
              "IPY_MODEL_0b6e3b1b666c417bab601b8a4ba75359",
              "IPY_MODEL_17809b689f97484cb1db8e51a2d38926"
            ],
            "layout": "IPY_MODEL_6976d553b5d046d5a89d09477b56bffe"
          }
        },
        "877a5e47d8434791a6df3139fa240c46": {
          "model_module": "@jupyter-widgets/controls",
          "model_module_version": "1.5.0",
          "model_name": "DescriptionStyleModel",
          "state": {
            "_model_module": "@jupyter-widgets/controls",
            "_model_module_version": "1.5.0",
            "_model_name": "DescriptionStyleModel",
            "_view_count": null,
            "_view_module": "@jupyter-widgets/base",
            "_view_module_version": "1.2.0",
            "_view_name": "StyleView",
            "description_width": ""
          }
        },
        "8dc99e0cd8764f25b15083d5cfa4145f": {
          "model_module": "@jupyter-widgets/controls",
          "model_module_version": "1.5.0",
          "model_name": "ProgressStyleModel",
          "state": {
            "_model_module": "@jupyter-widgets/controls",
            "_model_module_version": "1.5.0",
            "_model_name": "ProgressStyleModel",
            "_view_count": null,
            "_view_module": "@jupyter-widgets/base",
            "_view_module_version": "1.2.0",
            "_view_name": "StyleView",
            "bar_color": null,
            "description_width": ""
          }
        },
        "9f846054e8264b4c90e28a19daa61135": {
          "model_module": "@jupyter-widgets/controls",
          "model_module_version": "1.5.0",
          "model_name": "HTMLModel",
          "state": {
            "_dom_classes": [],
            "_model_module": "@jupyter-widgets/controls",
            "_model_module_version": "1.5.0",
            "_model_name": "HTMLModel",
            "_view_count": null,
            "_view_module": "@jupyter-widgets/controls",
            "_view_module_version": "1.5.0",
            "_view_name": "HTMLView",
            "description": "",
            "description_tooltip": null,
            "layout": "IPY_MODEL_b111491e0f1f42d6b4882767cb9b4f3f",
            "placeholder": "​",
            "style": "IPY_MODEL_877a5e47d8434791a6df3139fa240c46",
            "value": "100%"
          }
        },
        "b111491e0f1f42d6b4882767cb9b4f3f": {
          "model_module": "@jupyter-widgets/base",
          "model_module_version": "1.2.0",
          "model_name": "LayoutModel",
          "state": {
            "_model_module": "@jupyter-widgets/base",
            "_model_module_version": "1.2.0",
            "_model_name": "LayoutModel",
            "_view_count": null,
            "_view_module": "@jupyter-widgets/base",
            "_view_module_version": "1.2.0",
            "_view_name": "LayoutView",
            "align_content": null,
            "align_items": null,
            "align_self": null,
            "border": null,
            "bottom": null,
            "display": null,
            "flex": null,
            "flex_flow": null,
            "grid_area": null,
            "grid_auto_columns": null,
            "grid_auto_flow": null,
            "grid_auto_rows": null,
            "grid_column": null,
            "grid_gap": null,
            "grid_row": null,
            "grid_template_areas": null,
            "grid_template_columns": null,
            "grid_template_rows": null,
            "height": null,
            "justify_content": null,
            "justify_items": null,
            "left": null,
            "margin": null,
            "max_height": null,
            "max_width": null,
            "min_height": null,
            "min_width": null,
            "object_fit": null,
            "object_position": null,
            "order": null,
            "overflow": null,
            "overflow_x": null,
            "overflow_y": null,
            "padding": null,
            "right": null,
            "top": null,
            "visibility": null,
            "width": null
          }
        }
      }
    }
  },
  "nbformat": 4,
  "nbformat_minor": 0
}
